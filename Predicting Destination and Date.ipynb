{
 "cells": [
  {
   "cell_type": "code",
   "execution_count": 1,
   "metadata": {},
   "outputs": [],
   "source": [
    "import pandas as pd\n",
    "import numpy as np"
   ]
  },
  {
   "cell_type": "code",
   "execution_count": 2,
   "metadata": {},
   "outputs": [],
   "source": [
    "import warnings\n",
    "warnings.filterwarnings(\"ignore\")"
   ]
  },
  {
   "cell_type": "code",
   "execution_count": 3,
   "metadata": {},
   "outputs": [],
   "source": [
    "import tensorflow as tf\n",
    "\n",
    "from tensorflow import keras\n",
    "from tensorflow.keras import layers"
   ]
  },
  {
   "cell_type": "code",
   "execution_count": 4,
   "metadata": {},
   "outputs": [
    {
     "name": "stderr",
     "output_type": "stream",
     "text": [
      "Using TensorFlow backend.\n"
     ]
    }
   ],
   "source": [
    "from keras import backend as K"
   ]
  },
  {
   "cell_type": "code",
   "execution_count": 5,
   "metadata": {},
   "outputs": [],
   "source": [
    "import matplotlib.pyplot as plt"
   ]
  },
  {
   "cell_type": "code",
   "execution_count": 6,
   "metadata": {},
   "outputs": [],
   "source": [
    "from sklearn.model_selection import train_test_split"
   ]
  },
  {
   "cell_type": "code",
   "execution_count": 7,
   "metadata": {},
   "outputs": [],
   "source": [
    "from sklearn.metrics import mean_squared_error"
   ]
  },
  {
   "cell_type": "code",
   "execution_count": 8,
   "metadata": {},
   "outputs": [],
   "source": [
    "from sklearn.preprocessing import MinMaxScaler"
   ]
  },
  {
   "cell_type": "code",
   "execution_count": 9,
   "metadata": {},
   "outputs": [],
   "source": [
    "airport = pd.read_csv(\"search_sample_data/airports.csv\")"
   ]
  },
  {
   "cell_type": "code",
   "execution_count": 10,
   "metadata": {},
   "outputs": [],
   "source": [
    "watch_sample_full = pd.read_csv(\"search_sample_data/watch_sample.csv\")"
   ]
  },
  {
   "cell_type": "code",
   "execution_count": 11,
   "metadata": {},
   "outputs": [],
   "source": [
    "date_cols =['departure_date',\n",
    "'return_date',\n",
    "'first_searched_dt',\n",
    "'watch_added_dt',\n",
    "'latest_status_change_dt',\n",
    "'first_buy_dt',\n",
    "'last_notif_dt',\n",
    "'forecast_last_warning_date',\n",
    "'forecast_last_danger_date']"
   ]
  },
  {
   "cell_type": "code",
   "execution_count": 12,
   "metadata": {},
   "outputs": [],
   "source": [
    "for col in date_cols:\n",
    "    watch_sample_full[col] = pd.to_datetime(watch_sample_full[col])"
   ]
  },
  {
   "cell_type": "code",
   "execution_count": 13,
   "metadata": {},
   "outputs": [
    {
     "data": {
      "text/plain": [
       "(1168145, 40)"
      ]
     },
     "execution_count": 13,
     "metadata": {},
     "output_type": "execute_result"
    }
   ],
   "source": [
    "watch_sample_full.shape"
   ]
  },
  {
   "cell_type": "markdown",
   "metadata": {},
   "source": [
    "# Understanding Origins"
   ]
  },
  {
   "cell_type": "code",
   "execution_count": 14,
   "metadata": {},
   "outputs": [],
   "source": [
    "origin_data = watch_sample_full[['user_id','origin']].merge(airport[['location_id', 'airport_group']], left_on='origin',right_on='location_id')"
   ]
  },
  {
   "cell_type": "code",
   "execution_count": 15,
   "metadata": {},
   "outputs": [],
   "source": [
    "origin_group_count = origin_data.groupby('user_id')['airport_group'].agg(['nunique']).reset_index()"
   ]
  },
  {
   "cell_type": "code",
   "execution_count": 16,
   "metadata": {},
   "outputs": [],
   "source": [
    "user_count = watch_sample_full.groupby('user_id')['user_id'].agg(['size']).reset_index() "
   ]
  },
  {
   "cell_type": "code",
   "execution_count": 17,
   "metadata": {},
   "outputs": [
    {
     "data": {
      "text/html": [
       "<div>\n",
       "<style scoped>\n",
       "    .dataframe tbody tr th:only-of-type {\n",
       "        vertical-align: middle;\n",
       "    }\n",
       "\n",
       "    .dataframe tbody tr th {\n",
       "        vertical-align: top;\n",
       "    }\n",
       "\n",
       "    .dataframe thead th {\n",
       "        text-align: right;\n",
       "    }\n",
       "</style>\n",
       "<table border=\"1\" class=\"dataframe\">\n",
       "  <thead>\n",
       "    <tr style=\"text-align: right;\">\n",
       "      <th></th>\n",
       "      <th>user_id</th>\n",
       "      <th>size</th>\n",
       "    </tr>\n",
       "  </thead>\n",
       "  <tbody>\n",
       "    <tr>\n",
       "      <td>0</td>\n",
       "      <td>0001ca3152611b9c7ead6bf33fe6279cd80059efa64441...</td>\n",
       "      <td>6</td>\n",
       "    </tr>\n",
       "    <tr>\n",
       "      <td>1</td>\n",
       "      <td>0003417097ef37b45bdd155b2aac72f876f80749a89c05...</td>\n",
       "      <td>2</td>\n",
       "    </tr>\n",
       "    <tr>\n",
       "      <td>2</td>\n",
       "      <td>00045f806866b778aa6222fbfe8280a9a510b3ffe939ac...</td>\n",
       "      <td>3</td>\n",
       "    </tr>\n",
       "    <tr>\n",
       "      <td>3</td>\n",
       "      <td>0005050da7f3ee662a8ea21856d9556621fd61f8a2a1f6...</td>\n",
       "      <td>1</td>\n",
       "    </tr>\n",
       "    <tr>\n",
       "      <td>4</td>\n",
       "      <td>00088669cc5838368a538c649658d9765f9a0ad8e2991e...</td>\n",
       "      <td>1</td>\n",
       "    </tr>\n",
       "  </tbody>\n",
       "</table>\n",
       "</div>"
      ],
      "text/plain": [
       "                                             user_id  size\n",
       "0  0001ca3152611b9c7ead6bf33fe6279cd80059efa64441...     6\n",
       "1  0003417097ef37b45bdd155b2aac72f876f80749a89c05...     2\n",
       "2  00045f806866b778aa6222fbfe8280a9a510b3ffe939ac...     3\n",
       "3  0005050da7f3ee662a8ea21856d9556621fd61f8a2a1f6...     1\n",
       "4  00088669cc5838368a538c649658d9765f9a0ad8e2991e...     1"
      ]
     },
     "execution_count": 17,
     "metadata": {},
     "output_type": "execute_result"
    }
   ],
   "source": [
    "user_count.head()"
   ]
  },
  {
   "cell_type": "code",
   "execution_count": 18,
   "metadata": {},
   "outputs": [],
   "source": [
    "user_totalcount_origincount = origin_group_count.merge(user_count, on='user_id')"
   ]
  },
  {
   "cell_type": "code",
   "execution_count": 19,
   "metadata": {},
   "outputs": [],
   "source": [
    "def ori_fraction(x):\n",
    "    if x['nunique']==1:\n",
    "        return 0\n",
    "    else:\n",
    "        return x['nunique']/x['size']"
   ]
  },
  {
   "cell_type": "code",
   "execution_count": 20,
   "metadata": {},
   "outputs": [],
   "source": [
    "user_totalcount_origincount['origin_fraction'] = user_totalcount_origincount.apply(ori_fraction,axis=1)"
   ]
  },
  {
   "cell_type": "code",
   "execution_count": 21,
   "metadata": {},
   "outputs": [],
   "source": [
    "one_origin_users = list(user_totalcount_origincount[(user_totalcount_origincount['origin_fraction']<=0.2)]['user_id'])"
   ]
  },
  {
   "cell_type": "code",
   "execution_count": 22,
   "metadata": {},
   "outputs": [],
   "source": [
    "multi_origin_users = list(user_totalcount_origincount[(user_totalcount_origincount['origin_fraction']>0.2)]['user_id'])"
   ]
  },
  {
   "cell_type": "code",
   "execution_count": 23,
   "metadata": {},
   "outputs": [
    {
     "data": {
      "text/plain": [
       "(57963, 17037, 75000)"
      ]
     },
     "execution_count": 23,
     "metadata": {},
     "output_type": "execute_result"
    }
   ],
   "source": [
    "len(one_origin_users), len(multi_origin_users),len(watch_sample_full['user_id'].unique())"
   ]
  },
  {
   "cell_type": "code",
   "execution_count": 24,
   "metadata": {},
   "outputs": [],
   "source": [
    "del user_totalcount_origincount, origin_group_count, user_count, origin_data"
   ]
  },
  {
   "cell_type": "code",
   "execution_count": 25,
   "metadata": {},
   "outputs": [],
   "source": [
    "# Most of the users are one origins and logically too origin depends upon current location. "
   ]
  },
  {
   "cell_type": "code",
   "execution_count": 26,
   "metadata": {},
   "outputs": [],
   "source": [
    "watch_sample_full  =watch_sample_full.loc[:500000,:]"
   ]
  },
  {
   "cell_type": "code",
   "execution_count": 27,
   "metadata": {},
   "outputs": [],
   "source": [
    "watch_sample_origin = watch_sample_full.merge(airport[['location_id', 'airport_group']], left_on='origin', right_on='location_id')"
   ]
  },
  {
   "cell_type": "code",
   "execution_count": 29,
   "metadata": {},
   "outputs": [],
   "source": [
    "watch_sample_filtered = watch_sample_origin.drop(['origin','first_searched_dt','first_buy_dt','last_notif_dt','latest_status_change_dt','location_id'],axis=1)"
   ]
  },
  {
   "cell_type": "code",
   "execution_count": 30,
   "metadata": {},
   "outputs": [],
   "source": [
    "import gc"
   ]
  },
  {
   "cell_type": "code",
   "execution_count": 31,
   "metadata": {},
   "outputs": [
    {
     "data": {
      "text/plain": [
       "7"
      ]
     },
     "execution_count": 31,
     "metadata": {},
     "output_type": "execute_result"
    }
   ],
   "source": [
    "gc.collect()"
   ]
  },
  {
   "cell_type": "code",
   "execution_count": 32,
   "metadata": {},
   "outputs": [],
   "source": [
    "del watch_sample_origin, watch_sample_full"
   ]
  },
  {
   "cell_type": "markdown",
   "metadata": {},
   "source": [
    "# Data Creation for making a model\n",
    "\n",
    "Input : Observation by a user for a trip\n",
    "\n",
    "Output: Same user trip which is coverted (active or booked)"
   ]
  },
  {
   "cell_type": "code",
   "execution_count": 33,
   "metadata": {},
   "outputs": [],
   "source": [
    "self_joined_data = watch_sample_filtered.merge(watch_sample_filtered, on='user_id')"
   ]
  },
  {
   "cell_type": "code",
   "execution_count": 34,
   "metadata": {},
   "outputs": [
    {
     "data": {
      "text/html": [
       "<div>\n",
       "<style scoped>\n",
       "    .dataframe tbody tr th:only-of-type {\n",
       "        vertical-align: middle;\n",
       "    }\n",
       "\n",
       "    .dataframe tbody tr th {\n",
       "        vertical-align: top;\n",
       "    }\n",
       "\n",
       "    .dataframe thead th {\n",
       "        text-align: right;\n",
       "    }\n",
       "</style>\n",
       "<table border=\"1\" class=\"dataframe\">\n",
       "  <thead>\n",
       "    <tr style=\"text-align: right;\">\n",
       "      <th></th>\n",
       "      <th>user_id</th>\n",
       "      <th>trip_id_x</th>\n",
       "      <th>trip_type_x</th>\n",
       "      <th>destination_x</th>\n",
       "      <th>origin_type_x</th>\n",
       "      <th>destination_type_x</th>\n",
       "      <th>departure_date_x</th>\n",
       "      <th>return_date_x</th>\n",
       "      <th>stay_x</th>\n",
       "      <th>weekend_x</th>\n",
       "      <th>...</th>\n",
       "      <th>forecast_last_good_price_y</th>\n",
       "      <th>forecast_last_warning_date_y</th>\n",
       "      <th>forecast_last_danger_date_y</th>\n",
       "      <th>forecast_min_target_price_y</th>\n",
       "      <th>forecast_max_target_price_y</th>\n",
       "      <th>forecast_min_good_price_y</th>\n",
       "      <th>forecast_max_good_price_y</th>\n",
       "      <th>first_advance_y</th>\n",
       "      <th>watch_advance_y</th>\n",
       "      <th>airport_group_y</th>\n",
       "    </tr>\n",
       "  </thead>\n",
       "  <tbody>\n",
       "    <tr>\n",
       "      <td>0</td>\n",
       "      <td>945e05e2b2510be2edb1149348fdb24852f2a6fe101e6c...</td>\n",
       "      <td>ddc5e806-226f-335d-a9f9-e59c55550832</td>\n",
       "      <td>one_way</td>\n",
       "      <td>airport/EWR</td>\n",
       "      <td>airport</td>\n",
       "      <td>airport</td>\n",
       "      <td>2018-03-01</td>\n",
       "      <td>NaT</td>\n",
       "      <td>NaN</td>\n",
       "      <td>0</td>\n",
       "      <td>...</td>\n",
       "      <td>245.0</td>\n",
       "      <td>2017-12-02</td>\n",
       "      <td>2018-01-18</td>\n",
       "      <td>406.0</td>\n",
       "      <td>491.0</td>\n",
       "      <td>245.0</td>\n",
       "      <td>248.0</td>\n",
       "      <td>3</td>\n",
       "      <td>3.0</td>\n",
       "      <td>airport/BCN</td>\n",
       "    </tr>\n",
       "    <tr>\n",
       "      <td>1</td>\n",
       "      <td>945e05e2b2510be2edb1149348fdb24852f2a6fe101e6c...</td>\n",
       "      <td>ddc5e806-226f-335d-a9f9-e59c55550832</td>\n",
       "      <td>one_way</td>\n",
       "      <td>airport/EWR</td>\n",
       "      <td>airport</td>\n",
       "      <td>airport</td>\n",
       "      <td>2018-03-01</td>\n",
       "      <td>NaT</td>\n",
       "      <td>NaN</td>\n",
       "      <td>0</td>\n",
       "      <td>...</td>\n",
       "      <td>267.0</td>\n",
       "      <td>2018-01-18</td>\n",
       "      <td>2018-02-08</td>\n",
       "      <td>452.0</td>\n",
       "      <td>452.0</td>\n",
       "      <td>267.0</td>\n",
       "      <td>267.0</td>\n",
       "      <td>2</td>\n",
       "      <td>NaN</td>\n",
       "      <td>airport/BCN</td>\n",
       "    </tr>\n",
       "    <tr>\n",
       "      <td>2</td>\n",
       "      <td>945e05e2b2510be2edb1149348fdb24852f2a6fe101e6c...</td>\n",
       "      <td>ddc5e806-226f-335d-a9f9-e59c55550832</td>\n",
       "      <td>one_way</td>\n",
       "      <td>airport/EWR</td>\n",
       "      <td>airport</td>\n",
       "      <td>airport</td>\n",
       "      <td>2018-03-01</td>\n",
       "      <td>NaT</td>\n",
       "      <td>NaN</td>\n",
       "      <td>0</td>\n",
       "      <td>...</td>\n",
       "      <td>73.0</td>\n",
       "      <td>2017-10-30</td>\n",
       "      <td>2018-03-01</td>\n",
       "      <td>217.0</td>\n",
       "      <td>217.0</td>\n",
       "      <td>73.0</td>\n",
       "      <td>73.0</td>\n",
       "      <td>0</td>\n",
       "      <td>NaN</td>\n",
       "      <td>airport/BCN</td>\n",
       "    </tr>\n",
       "    <tr>\n",
       "      <td>3</td>\n",
       "      <td>945e05e2b2510be2edb1149348fdb24852f2a6fe101e6c...</td>\n",
       "      <td>ddc5e806-226f-335d-a9f9-e59c55550832</td>\n",
       "      <td>one_way</td>\n",
       "      <td>airport/EWR</td>\n",
       "      <td>airport</td>\n",
       "      <td>airport</td>\n",
       "      <td>2018-03-01</td>\n",
       "      <td>NaT</td>\n",
       "      <td>NaN</td>\n",
       "      <td>0</td>\n",
       "      <td>...</td>\n",
       "      <td>342.0</td>\n",
       "      <td>2017-10-30</td>\n",
       "      <td>2018-05-11</td>\n",
       "      <td>436.0</td>\n",
       "      <td>436.0</td>\n",
       "      <td>342.0</td>\n",
       "      <td>342.0</td>\n",
       "      <td>130</td>\n",
       "      <td>NaN</td>\n",
       "      <td>airport/MIA</td>\n",
       "    </tr>\n",
       "    <tr>\n",
       "      <td>4</td>\n",
       "      <td>945e05e2b2510be2edb1149348fdb24852f2a6fe101e6c...</td>\n",
       "      <td>ddc5e806-226f-335d-a9f9-e59c55550832</td>\n",
       "      <td>one_way</td>\n",
       "      <td>airport/EWR</td>\n",
       "      <td>airport</td>\n",
       "      <td>airport</td>\n",
       "      <td>2018-03-01</td>\n",
       "      <td>NaT</td>\n",
       "      <td>NaN</td>\n",
       "      <td>0</td>\n",
       "      <td>...</td>\n",
       "      <td>323.0</td>\n",
       "      <td>2017-12-04</td>\n",
       "      <td>2018-05-15</td>\n",
       "      <td>394.0</td>\n",
       "      <td>394.0</td>\n",
       "      <td>323.0</td>\n",
       "      <td>323.0</td>\n",
       "      <td>39</td>\n",
       "      <td>NaN</td>\n",
       "      <td>city/WAS</td>\n",
       "    </tr>\n",
       "  </tbody>\n",
       "</table>\n",
       "<p>5 rows × 71 columns</p>\n",
       "</div>"
      ],
      "text/plain": [
       "                                             user_id  \\\n",
       "0  945e05e2b2510be2edb1149348fdb24852f2a6fe101e6c...   \n",
       "1  945e05e2b2510be2edb1149348fdb24852f2a6fe101e6c...   \n",
       "2  945e05e2b2510be2edb1149348fdb24852f2a6fe101e6c...   \n",
       "3  945e05e2b2510be2edb1149348fdb24852f2a6fe101e6c...   \n",
       "4  945e05e2b2510be2edb1149348fdb24852f2a6fe101e6c...   \n",
       "\n",
       "                              trip_id_x trip_type_x destination_x  \\\n",
       "0  ddc5e806-226f-335d-a9f9-e59c55550832     one_way   airport/EWR   \n",
       "1  ddc5e806-226f-335d-a9f9-e59c55550832     one_way   airport/EWR   \n",
       "2  ddc5e806-226f-335d-a9f9-e59c55550832     one_way   airport/EWR   \n",
       "3  ddc5e806-226f-335d-a9f9-e59c55550832     one_way   airport/EWR   \n",
       "4  ddc5e806-226f-335d-a9f9-e59c55550832     one_way   airport/EWR   \n",
       "\n",
       "  origin_type_x destination_type_x departure_date_x return_date_x  stay_x  \\\n",
       "0       airport            airport       2018-03-01           NaT     NaN   \n",
       "1       airport            airport       2018-03-01           NaT     NaN   \n",
       "2       airport            airport       2018-03-01           NaT     NaN   \n",
       "3       airport            airport       2018-03-01           NaT     NaN   \n",
       "4       airport            airport       2018-03-01           NaT     NaN   \n",
       "\n",
       "   weekend_x  ...  forecast_last_good_price_y  forecast_last_warning_date_y  \\\n",
       "0          0  ...                       245.0                    2017-12-02   \n",
       "1          0  ...                       267.0                    2018-01-18   \n",
       "2          0  ...                        73.0                    2017-10-30   \n",
       "3          0  ...                       342.0                    2017-10-30   \n",
       "4          0  ...                       323.0                    2017-12-04   \n",
       "\n",
       "   forecast_last_danger_date_y forecast_min_target_price_y  \\\n",
       "0                   2018-01-18                       406.0   \n",
       "1                   2018-02-08                       452.0   \n",
       "2                   2018-03-01                       217.0   \n",
       "3                   2018-05-11                       436.0   \n",
       "4                   2018-05-15                       394.0   \n",
       "\n",
       "  forecast_max_target_price_y forecast_min_good_price_y  \\\n",
       "0                       491.0                     245.0   \n",
       "1                       452.0                     267.0   \n",
       "2                       217.0                      73.0   \n",
       "3                       436.0                     342.0   \n",
       "4                       394.0                     323.0   \n",
       "\n",
       "   forecast_max_good_price_y  first_advance_y  watch_advance_y airport_group_y  \n",
       "0                      248.0                3              3.0     airport/BCN  \n",
       "1                      267.0                2              NaN     airport/BCN  \n",
       "2                       73.0                0              NaN     airport/BCN  \n",
       "3                      342.0              130              NaN     airport/MIA  \n",
       "4                      323.0               39              NaN        city/WAS  \n",
       "\n",
       "[5 rows x 71 columns]"
      ]
     },
     "execution_count": 34,
     "metadata": {},
     "output_type": "execute_result"
    }
   ],
   "source": [
    "self_joined_data.head()"
   ]
  },
  {
   "cell_type": "code",
   "execution_count": 35,
   "metadata": {},
   "outputs": [],
   "source": [
    "del watch_sample_filtered"
   ]
  },
  {
   "cell_type": "markdown",
   "metadata": {},
   "source": [
    "Trip id should not be same , otherwise input and output will be same\n",
    "\n",
    "Last status for output should be either booked or active, (desired trips to recommned)\n",
    "\n",
    "Origin of trips are same, we can recommend from same origin where user is now\n",
    "\n",
    "Difference is flying date is less than 15 days either side."
   ]
  },
  {
   "cell_type": "code",
   "execution_count": 36,
   "metadata": {},
   "outputs": [],
   "source": [
    "def useful_data(df):\n",
    "    df = df[df['trip_id_x']!=df['trip_id_y']]\n",
    "    df = df[df['status_latest_y'].isin(['booked','active'])]\n",
    "    df = df[df['airport_group_x']==df['airport_group_y']]\n",
    "    df = df[df['destination_x']!=df['destination_y']]\n",
    "    df = df[(abs((df['departure_date_x']-df['departure_date_y'])/ np.timedelta64(1,'D'))<15)]\n",
    "    return df"
   ]
  },
  {
   "cell_type": "code",
   "execution_count": 37,
   "metadata": {},
   "outputs": [],
   "source": [
    "tranformed_data = useful_data(self_joined_data)"
   ]
  },
  {
   "cell_type": "code",
   "execution_count": 38,
   "metadata": {},
   "outputs": [
    {
     "data": {
      "text/plain": [
       "(4284, 71)"
      ]
     },
     "execution_count": 38,
     "metadata": {},
     "output_type": "execute_result"
    }
   ],
   "source": [
    "tranformed_data.shape"
   ]
  },
  {
   "cell_type": "code",
   "execution_count": 39,
   "metadata": {},
   "outputs": [],
   "source": [
    "tranformed_data['departure_date_from_2015'] = ((tranformed_data['departure_date_y'] - pd.to_datetime('01/01/2015', format='%m/%d/%Y'))/ np.timedelta64(1,'D')).astype('int32')"
   ]
  },
  {
   "cell_type": "code",
   "execution_count": 40,
   "metadata": {},
   "outputs": [
    {
     "data": {
      "text/plain": [
       "17408    1294\n",
       "17429    1294\n",
       "17627    1286\n",
       "37660    1310\n",
       "37948    1310\n",
       "Name: departure_date_from_2015, dtype: int32"
      ]
     },
     "execution_count": 40,
     "metadata": {},
     "output_type": "execute_result"
    }
   ],
   "source": [
    "tranformed_data['departure_date_from_2015'].head()"
   ]
  },
  {
   "cell_type": "code",
   "execution_count": 41,
   "metadata": {},
   "outputs": [],
   "source": [
    "# One way Features"
   ]
  },
  {
   "cell_type": "code",
   "execution_count": 42,
   "metadata": {},
   "outputs": [],
   "source": [
    "input_features = ['destination_x' ,'destination_type_x','weekend_x', 'filter_no_lcc_x',\n",
    "       'filter_non_stop_x', 'filter_short_layover_x', 'filter_name_x' , 'stay_x'\n",
    "    ,'total_notifs_x','total_buy_notifs_x', 'first_rec_x', 'first_price_x' ,'first_buy_price_x', \n",
    "    'lowest_price_x'\n",
    "   ,'forecast_first_target_price_x', 'forecast_first_good_price_x',\n",
    "       'forecast_last_target_price_x', 'forecast_last_good_price_x',\n",
    "       'forecast_min_target_price_x', 'forecast_max_target_price_x',\n",
    "       'forecast_min_good_price_x', 'forecast_max_good_price_x',\n",
    "       'first_advance_x', 'watch_advance_x'] \n",
    "\n",
    "output_features= ['destination_y','departure_date_from_2015', 'stay_y']"
   ]
  },
  {
   "cell_type": "code",
   "execution_count": 43,
   "metadata": {},
   "outputs": [],
   "source": [
    "input_data = tranformed_data[input_features]"
   ]
  },
  {
   "cell_type": "code",
   "execution_count": 44,
   "metadata": {},
   "outputs": [],
   "source": [
    "output_data =  tranformed_data[output_features]"
   ]
  },
  {
   "cell_type": "code",
   "execution_count": 45,
   "metadata": {},
   "outputs": [
    {
     "data": {
      "text/plain": [
       "((4284, 24), (4284, 3))"
      ]
     },
     "execution_count": 45,
     "metadata": {},
     "output_type": "execute_result"
    }
   ],
   "source": [
    "input_data.shape, output_data.shape"
   ]
  },
  {
   "cell_type": "markdown",
   "metadata": {},
   "source": [
    "# Getting coordinates for destination airport"
   ]
  },
  {
   "cell_type": "code",
   "execution_count": 46,
   "metadata": {},
   "outputs": [],
   "source": [
    "input_data_corrd = input_data.merge(airport[['location_id','latitude','longitude']], left_on='destination_x', right_on='location_id')\n",
    "input_data_corrd.rename(columns = {'latitude':'latitude_destination'}, inplace = True) \n",
    "input_data_corrd.rename(columns = {'longitude':'longitude_destination'}, inplace = True)\n",
    "input_data_corrd.drop(['destination_x','location_id'], axis=1, inplace=True)"
   ]
  },
  {
   "cell_type": "code",
   "execution_count": 47,
   "metadata": {},
   "outputs": [],
   "source": [
    "output_data_corrd = output_data.merge(airport[['location_id','latitude','longitude']], left_on='destination_y', right_on='location_id')\n",
    "output_data_corrd.rename(columns = {'latitude':'latitude_destination'}, inplace = True) \n",
    "output_data_corrd.rename(columns = {'longitude':'longitude_destination'}, inplace = True)\n",
    "output_data_corrd.drop(['destination_y','location_id'], axis=1, inplace=True)"
   ]
  },
  {
   "cell_type": "code",
   "execution_count": 48,
   "metadata": {},
   "outputs": [],
   "source": [
    "price_ls = ['first_buy_price_x','first_price_x','lowest_price_x','forecast_first_target_price_x','forecast_first_good_price_x','forecast_last_target_price_x','forecast_last_good_price_x','forecast_min_target_price_x','forecast_max_target_price_x','forecast_min_good_price_x','forecast_max_good_price_x']"
   ]
  },
  {
   "cell_type": "markdown",
   "metadata": {},
   "source": [
    "# Filling Null values for price columns"
   ]
  },
  {
   "cell_type": "code",
   "execution_count": 49,
   "metadata": {},
   "outputs": [],
   "source": [
    "for row,_ in input_data_corrd.iterrows():\n",
    "    non_null=[]\n",
    "    null = []\n",
    "    for l in price_ls:\n",
    "        if pd.isnull(input_data_corrd.loc[row,l]):\n",
    "            null.append(l)\n",
    "        else:\n",
    "            non_null.append(input_data_corrd.loc[row,l])\n",
    "    if len(null)>0:\n",
    "        if len(non_null)>0:\n",
    "            for l in null:\n",
    "                input_data_corrd.loc[row,l] = min(non_null)\n",
    "        else:\n",
    "            for l in null:\n",
    "                input_data_corrd.loc[row,l] = 0\n",
    "            \n",
    "        "
   ]
  },
  {
   "cell_type": "code",
   "execution_count": 50,
   "metadata": {},
   "outputs": [
    {
     "data": {
      "text/plain": [
       "destination_type_x                  0\n",
       "weekend_x                           0\n",
       "filter_no_lcc_x                     0\n",
       "filter_non_stop_x                   0\n",
       "filter_short_layover_x              0\n",
       "filter_name_x                       0\n",
       "stay_x                           1097\n",
       "total_notifs_x                      7\n",
       "total_buy_notifs_x                  7\n",
       "first_rec_x                         7\n",
       "first_price_x                       0\n",
       "first_buy_price_x                   0\n",
       "lowest_price_x                      0\n",
       "forecast_first_target_price_x       0\n",
       "forecast_first_good_price_x         0\n",
       "forecast_last_target_price_x        0\n",
       "forecast_last_good_price_x          0\n",
       "forecast_min_target_price_x         0\n",
       "forecast_max_target_price_x         0\n",
       "forecast_min_good_price_x           0\n",
       "forecast_max_good_price_x           0\n",
       "first_advance_x                     0\n",
       "watch_advance_x                  3086\n",
       "latitude_destination                0\n",
       "longitude_destination               0\n",
       "dtype: int64"
      ]
     },
     "execution_count": 50,
     "metadata": {},
     "output_type": "execute_result"
    }
   ],
   "source": [
    "input_data_corrd.isnull().sum()"
   ]
  },
  {
   "cell_type": "markdown",
   "metadata": {},
   "source": [
    "Filling a high value for stay for one way trip."
   ]
  },
  {
   "cell_type": "code",
   "execution_count": 51,
   "metadata": {},
   "outputs": [],
   "source": [
    "input_data_corrd['stay_x'].fillna(200, inplace=True)\n",
    "input_data_corrd['total_notifs_x'].fillna(0, inplace=True)"
   ]
  },
  {
   "cell_type": "code",
   "execution_count": 52,
   "metadata": {},
   "outputs": [],
   "source": [
    "input_data_corrd['total_buy_notifs_x'].fillna(0, inplace=True) "
   ]
  },
  {
   "cell_type": "code",
   "execution_count": 53,
   "metadata": {},
   "outputs": [
    {
     "data": {
      "text/plain": [
       "(array(['buy', 'wait', nan], dtype=object), buy     2527\n",
       " wait    1750\n",
       " Name: first_rec_x, dtype: int64)"
      ]
     },
     "execution_count": 53,
     "metadata": {},
     "output_type": "execute_result"
    }
   ],
   "source": [
    "input_data_corrd['first_rec_x'].unique(), input_data_corrd['first_rec_x'].value_counts()"
   ]
  },
  {
   "cell_type": "markdown",
   "metadata": {},
   "source": [
    "Filling categorical variable with mode"
   ]
  },
  {
   "cell_type": "code",
   "execution_count": 54,
   "metadata": {},
   "outputs": [],
   "source": [
    "input_data_corrd['first_rec_x'].fillna('buy', inplace=True)"
   ]
  },
  {
   "cell_type": "code",
   "execution_count": 55,
   "metadata": {},
   "outputs": [
    {
     "data": {
      "text/plain": [
       "departure_date_from_2015       0\n",
       "stay_y                      1347\n",
       "latitude_destination           0\n",
       "longitude_destination          0\n",
       "dtype: int64"
      ]
     },
     "execution_count": 55,
     "metadata": {},
     "output_type": "execute_result"
    }
   ],
   "source": [
    "output_data_corrd.isnull().sum()"
   ]
  },
  {
   "cell_type": "code",
   "execution_count": 56,
   "metadata": {},
   "outputs": [],
   "source": [
    "output_data_corrd['stay_y'].fillna(200, inplace=True)"
   ]
  },
  {
   "cell_type": "code",
   "execution_count": 57,
   "metadata": {},
   "outputs": [
    {
     "data": {
      "text/plain": [
       "count    4284.000000\n",
       "mean       56.469655\n",
       "std        84.541613\n",
       "min         0.000000\n",
       "25%         4.000000\n",
       "50%         7.000000\n",
       "75%       200.000000\n",
       "max       200.000000\n",
       "Name: stay_x, dtype: float64"
      ]
     },
     "execution_count": 57,
     "metadata": {},
     "output_type": "execute_result"
    }
   ],
   "source": [
    "input_data_corrd['stay_x'].describe()"
   ]
  },
  {
   "cell_type": "code",
   "execution_count": 58,
   "metadata": {},
   "outputs": [],
   "source": [
    "input_data_corrd.drop('watch_advance_x', axis=1, inplace=True)"
   ]
  },
  {
   "cell_type": "code",
   "execution_count": 59,
   "metadata": {},
   "outputs": [
    {
     "data": {
      "text/plain": [
       "(destination_type_x               0\n",
       " weekend_x                        0\n",
       " filter_no_lcc_x                  0\n",
       " filter_non_stop_x                0\n",
       " filter_short_layover_x           0\n",
       " filter_name_x                    0\n",
       " stay_x                           0\n",
       " total_notifs_x                   0\n",
       " total_buy_notifs_x               0\n",
       " first_rec_x                      0\n",
       " first_price_x                    0\n",
       " first_buy_price_x                0\n",
       " lowest_price_x                   0\n",
       " forecast_first_target_price_x    0\n",
       " forecast_first_good_price_x      0\n",
       " forecast_last_target_price_x     0\n",
       " forecast_last_good_price_x       0\n",
       " forecast_min_target_price_x      0\n",
       " forecast_max_target_price_x      0\n",
       " forecast_min_good_price_x        0\n",
       " forecast_max_good_price_x        0\n",
       " first_advance_x                  0\n",
       " latitude_destination             0\n",
       " longitude_destination            0\n",
       " dtype: int64, departure_date_from_2015    0\n",
       " stay_y                      0\n",
       " latitude_destination        0\n",
       " longitude_destination       0\n",
       " dtype: int64)"
      ]
     },
     "execution_count": 59,
     "metadata": {},
     "output_type": "execute_result"
    }
   ],
   "source": [
    "input_data_corrd.isnull().sum(),output_data_corrd.isnull().sum()"
   ]
  },
  {
   "cell_type": "code",
   "execution_count": 60,
   "metadata": {},
   "outputs": [
    {
     "data": {
      "text/html": [
       "<div>\n",
       "<style scoped>\n",
       "    .dataframe tbody tr th:only-of-type {\n",
       "        vertical-align: middle;\n",
       "    }\n",
       "\n",
       "    .dataframe tbody tr th {\n",
       "        vertical-align: top;\n",
       "    }\n",
       "\n",
       "    .dataframe thead th {\n",
       "        text-align: right;\n",
       "    }\n",
       "</style>\n",
       "<table border=\"1\" class=\"dataframe\">\n",
       "  <thead>\n",
       "    <tr style=\"text-align: right;\">\n",
       "      <th></th>\n",
       "      <th>departure_date_from_2015</th>\n",
       "      <th>stay_y</th>\n",
       "      <th>latitude_destination</th>\n",
       "      <th>longitude_destination</th>\n",
       "    </tr>\n",
       "  </thead>\n",
       "  <tbody>\n",
       "    <tr>\n",
       "      <td>0</td>\n",
       "      <td>1294</td>\n",
       "      <td>200.0</td>\n",
       "      <td>29.814899</td>\n",
       "      <td>-95.31015</td>\n",
       "    </tr>\n",
       "    <tr>\n",
       "      <td>1</td>\n",
       "      <td>1294</td>\n",
       "      <td>200.0</td>\n",
       "      <td>29.814899</td>\n",
       "      <td>-95.31015</td>\n",
       "    </tr>\n",
       "    <tr>\n",
       "      <td>2</td>\n",
       "      <td>1268</td>\n",
       "      <td>200.0</td>\n",
       "      <td>29.814899</td>\n",
       "      <td>-95.31015</td>\n",
       "    </tr>\n",
       "    <tr>\n",
       "      <td>3</td>\n",
       "      <td>1268</td>\n",
       "      <td>200.0</td>\n",
       "      <td>29.814899</td>\n",
       "      <td>-95.31015</td>\n",
       "    </tr>\n",
       "    <tr>\n",
       "      <td>4</td>\n",
       "      <td>1428</td>\n",
       "      <td>200.0</td>\n",
       "      <td>29.814899</td>\n",
       "      <td>-95.31015</td>\n",
       "    </tr>\n",
       "  </tbody>\n",
       "</table>\n",
       "</div>"
      ],
      "text/plain": [
       "   departure_date_from_2015  stay_y  latitude_destination  \\\n",
       "0                      1294   200.0             29.814899   \n",
       "1                      1294   200.0             29.814899   \n",
       "2                      1268   200.0             29.814899   \n",
       "3                      1268   200.0             29.814899   \n",
       "4                      1428   200.0             29.814899   \n",
       "\n",
       "   longitude_destination  \n",
       "0              -95.31015  \n",
       "1              -95.31015  \n",
       "2              -95.31015  \n",
       "3              -95.31015  \n",
       "4              -95.31015  "
      ]
     },
     "execution_count": 60,
     "metadata": {},
     "output_type": "execute_result"
    }
   ],
   "source": [
    "output_data_corrd.head()"
   ]
  },
  {
   "cell_type": "markdown",
   "metadata": {},
   "source": [
    "# Creating Dummies"
   ]
  },
  {
   "cell_type": "code",
   "execution_count": 61,
   "metadata": {},
   "outputs": [],
   "source": [
    "input_final = pd.get_dummies(input_data_corrd)"
   ]
  },
  {
   "cell_type": "code",
   "execution_count": 62,
   "metadata": {},
   "outputs": [
    {
     "data": {
      "text/plain": [
       "Index(['weekend_x', 'filter_no_lcc_x', 'filter_non_stop_x',\n",
       "       'filter_short_layover_x', 'stay_x', 'total_notifs_x',\n",
       "       'total_buy_notifs_x', 'first_price_x', 'first_buy_price_x',\n",
       "       'lowest_price_x', 'forecast_first_target_price_x',\n",
       "       'forecast_first_good_price_x', 'forecast_last_target_price_x',\n",
       "       'forecast_last_good_price_x', 'forecast_min_target_price_x',\n",
       "       'forecast_max_target_price_x', 'forecast_min_good_price_x',\n",
       "       'forecast_max_good_price_x', 'first_advance_x', 'latitude_destination',\n",
       "       'longitude_destination', 'destination_type_x_airport',\n",
       "       'destination_type_x_city', 'filter_name_x_And(NonStop,NoLCC)',\n",
       "       'filter_name_x_And(ShortLayover,NoLCC)', 'filter_name_x_NoFilter',\n",
       "       'filter_name_x_NoLCC', 'filter_name_x_NonStop',\n",
       "       'filter_name_x_ShortLayover', 'first_rec_x_buy', 'first_rec_x_wait'],\n",
       "      dtype='object')"
      ]
     },
     "execution_count": 62,
     "metadata": {},
     "output_type": "execute_result"
    }
   ],
   "source": [
    "input_final.columns"
   ]
  },
  {
   "cell_type": "markdown",
   "metadata": {},
   "source": [
    "Min - Max scaling for continuous variables"
   ]
  },
  {
   "cell_type": "code",
   "execution_count": 63,
   "metadata": {},
   "outputs": [],
   "source": [
    "Continuous_var = ['stay_x', 'total_notifs_x', 'first_advance_x','total_buy_notifs_x',  'first_price_x', 'first_buy_price_x', 'lowest_price_x', \n",
    "'forecast_first_target_price_x', \n",
    "'forecast_first_good_price_x',     \n",
    "'forecast_last_target_price_x', \n",
    "'forecast_last_good_price_x',   \n",
    "'forecast_min_target_price_x',  \n",
    "'forecast_max_target_price_x',   \n",
    "'forecast_min_good_price_x',    \n",
    "'forecast_max_good_price_x', \n",
    "'latitude_destination',           \n",
    "'longitude_destination']"
   ]
  },
  {
   "cell_type": "code",
   "execution_count": 64,
   "metadata": {},
   "outputs": [
    {
     "data": {
      "text/html": [
       "<div>\n",
       "<style scoped>\n",
       "    .dataframe tbody tr th:only-of-type {\n",
       "        vertical-align: middle;\n",
       "    }\n",
       "\n",
       "    .dataframe tbody tr th {\n",
       "        vertical-align: top;\n",
       "    }\n",
       "\n",
       "    .dataframe thead th {\n",
       "        text-align: right;\n",
       "    }\n",
       "</style>\n",
       "<table border=\"1\" class=\"dataframe\">\n",
       "  <thead>\n",
       "    <tr style=\"text-align: right;\">\n",
       "      <th></th>\n",
       "      <th>weekend_x</th>\n",
       "      <th>filter_no_lcc_x</th>\n",
       "      <th>filter_non_stop_x</th>\n",
       "      <th>filter_short_layover_x</th>\n",
       "      <th>stay_x</th>\n",
       "      <th>total_notifs_x</th>\n",
       "      <th>total_buy_notifs_x</th>\n",
       "      <th>first_price_x</th>\n",
       "      <th>first_buy_price_x</th>\n",
       "      <th>lowest_price_x</th>\n",
       "      <th>...</th>\n",
       "      <th>destination_type_x_airport</th>\n",
       "      <th>destination_type_x_city</th>\n",
       "      <th>filter_name_x_And(NonStop,NoLCC)</th>\n",
       "      <th>filter_name_x_And(ShortLayover,NoLCC)</th>\n",
       "      <th>filter_name_x_NoFilter</th>\n",
       "      <th>filter_name_x_NoLCC</th>\n",
       "      <th>filter_name_x_NonStop</th>\n",
       "      <th>filter_name_x_ShortLayover</th>\n",
       "      <th>first_rec_x_buy</th>\n",
       "      <th>first_rec_x_wait</th>\n",
       "    </tr>\n",
       "  </thead>\n",
       "  <tbody>\n",
       "    <tr>\n",
       "      <td>0</td>\n",
       "      <td>1</td>\n",
       "      <td>0</td>\n",
       "      <td>0</td>\n",
       "      <td>0</td>\n",
       "      <td>3.0</td>\n",
       "      <td>0.0</td>\n",
       "      <td>0.0</td>\n",
       "      <td>428.0</td>\n",
       "      <td>428.0</td>\n",
       "      <td>428.0</td>\n",
       "      <td>...</td>\n",
       "      <td>1</td>\n",
       "      <td>0</td>\n",
       "      <td>0</td>\n",
       "      <td>0</td>\n",
       "      <td>1</td>\n",
       "      <td>0</td>\n",
       "      <td>0</td>\n",
       "      <td>0</td>\n",
       "      <td>1</td>\n",
       "      <td>0</td>\n",
       "    </tr>\n",
       "    <tr>\n",
       "      <td>1</td>\n",
       "      <td>0</td>\n",
       "      <td>0</td>\n",
       "      <td>0</td>\n",
       "      <td>0</td>\n",
       "      <td>200.0</td>\n",
       "      <td>0.0</td>\n",
       "      <td>0.0</td>\n",
       "      <td>217.0</td>\n",
       "      <td>217.0</td>\n",
       "      <td>217.0</td>\n",
       "      <td>...</td>\n",
       "      <td>1</td>\n",
       "      <td>0</td>\n",
       "      <td>0</td>\n",
       "      <td>0</td>\n",
       "      <td>1</td>\n",
       "      <td>0</td>\n",
       "      <td>0</td>\n",
       "      <td>0</td>\n",
       "      <td>1</td>\n",
       "      <td>0</td>\n",
       "    </tr>\n",
       "    <tr>\n",
       "      <td>2</td>\n",
       "      <td>0</td>\n",
       "      <td>0</td>\n",
       "      <td>0</td>\n",
       "      <td>0</td>\n",
       "      <td>200.0</td>\n",
       "      <td>0.0</td>\n",
       "      <td>0.0</td>\n",
       "      <td>809.0</td>\n",
       "      <td>734.0</td>\n",
       "      <td>809.0</td>\n",
       "      <td>...</td>\n",
       "      <td>1</td>\n",
       "      <td>0</td>\n",
       "      <td>0</td>\n",
       "      <td>0</td>\n",
       "      <td>1</td>\n",
       "      <td>0</td>\n",
       "      <td>0</td>\n",
       "      <td>0</td>\n",
       "      <td>0</td>\n",
       "      <td>1</td>\n",
       "    </tr>\n",
       "    <tr>\n",
       "      <td>3</td>\n",
       "      <td>1</td>\n",
       "      <td>0</td>\n",
       "      <td>0</td>\n",
       "      <td>0</td>\n",
       "      <td>2.0</td>\n",
       "      <td>0.0</td>\n",
       "      <td>0.0</td>\n",
       "      <td>223.0</td>\n",
       "      <td>144.0</td>\n",
       "      <td>223.0</td>\n",
       "      <td>...</td>\n",
       "      <td>1</td>\n",
       "      <td>0</td>\n",
       "      <td>0</td>\n",
       "      <td>0</td>\n",
       "      <td>1</td>\n",
       "      <td>0</td>\n",
       "      <td>0</td>\n",
       "      <td>0</td>\n",
       "      <td>0</td>\n",
       "      <td>1</td>\n",
       "    </tr>\n",
       "    <tr>\n",
       "      <td>4</td>\n",
       "      <td>0</td>\n",
       "      <td>0</td>\n",
       "      <td>0</td>\n",
       "      <td>0</td>\n",
       "      <td>3.0</td>\n",
       "      <td>13.0</td>\n",
       "      <td>11.0</td>\n",
       "      <td>116.0</td>\n",
       "      <td>116.0</td>\n",
       "      <td>116.0</td>\n",
       "      <td>...</td>\n",
       "      <td>1</td>\n",
       "      <td>0</td>\n",
       "      <td>0</td>\n",
       "      <td>0</td>\n",
       "      <td>1</td>\n",
       "      <td>0</td>\n",
       "      <td>0</td>\n",
       "      <td>0</td>\n",
       "      <td>0</td>\n",
       "      <td>1</td>\n",
       "    </tr>\n",
       "  </tbody>\n",
       "</table>\n",
       "<p>5 rows × 31 columns</p>\n",
       "</div>"
      ],
      "text/plain": [
       "   weekend_x  filter_no_lcc_x  filter_non_stop_x  filter_short_layover_x  \\\n",
       "0          1                0                  0                       0   \n",
       "1          0                0                  0                       0   \n",
       "2          0                0                  0                       0   \n",
       "3          1                0                  0                       0   \n",
       "4          0                0                  0                       0   \n",
       "\n",
       "   stay_x  total_notifs_x  total_buy_notifs_x  first_price_x  \\\n",
       "0     3.0             0.0                 0.0          428.0   \n",
       "1   200.0             0.0                 0.0          217.0   \n",
       "2   200.0             0.0                 0.0          809.0   \n",
       "3     2.0             0.0                 0.0          223.0   \n",
       "4     3.0            13.0                11.0          116.0   \n",
       "\n",
       "   first_buy_price_x  lowest_price_x  ...  destination_type_x_airport  \\\n",
       "0              428.0           428.0  ...                           1   \n",
       "1              217.0           217.0  ...                           1   \n",
       "2              734.0           809.0  ...                           1   \n",
       "3              144.0           223.0  ...                           1   \n",
       "4              116.0           116.0  ...                           1   \n",
       "\n",
       "   destination_type_x_city  filter_name_x_And(NonStop,NoLCC)  \\\n",
       "0                        0                                 0   \n",
       "1                        0                                 0   \n",
       "2                        0                                 0   \n",
       "3                        0                                 0   \n",
       "4                        0                                 0   \n",
       "\n",
       "   filter_name_x_And(ShortLayover,NoLCC)  filter_name_x_NoFilter  \\\n",
       "0                                      0                       1   \n",
       "1                                      0                       1   \n",
       "2                                      0                       1   \n",
       "3                                      0                       1   \n",
       "4                                      0                       1   \n",
       "\n",
       "   filter_name_x_NoLCC  filter_name_x_NonStop  filter_name_x_ShortLayover  \\\n",
       "0                    0                      0                           0   \n",
       "1                    0                      0                           0   \n",
       "2                    0                      0                           0   \n",
       "3                    0                      0                           0   \n",
       "4                    0                      0                           0   \n",
       "\n",
       "   first_rec_x_buy  first_rec_x_wait  \n",
       "0                1                 0  \n",
       "1                1                 0  \n",
       "2                0                 1  \n",
       "3                0                 1  \n",
       "4                0                 1  \n",
       "\n",
       "[5 rows x 31 columns]"
      ]
     },
     "execution_count": 64,
     "metadata": {},
     "output_type": "execute_result"
    }
   ],
   "source": [
    "input_final.head()"
   ]
  },
  {
   "cell_type": "markdown",
   "metadata": {},
   "source": [
    "# Scaling"
   ]
  },
  {
   "cell_type": "code",
   "execution_count": 65,
   "metadata": {},
   "outputs": [],
   "source": [
    "scaler = MinMaxScaler()"
   ]
  },
  {
   "cell_type": "code",
   "execution_count": 66,
   "metadata": {},
   "outputs": [],
   "source": [
    "input_final[Continuous_var] = scaler.fit_transform(input_final[Continuous_var])"
   ]
  },
  {
   "cell_type": "code",
   "execution_count": 67,
   "metadata": {},
   "outputs": [
    {
     "data": {
      "text/plain": [
       "weekend_x                                1.0\n",
       "filter_no_lcc_x                          1.0\n",
       "filter_non_stop_x                        1.0\n",
       "filter_short_layover_x                   1.0\n",
       "stay_x                                   1.0\n",
       "total_notifs_x                           1.0\n",
       "total_buy_notifs_x                       1.0\n",
       "first_price_x                            1.0\n",
       "first_buy_price_x                        1.0\n",
       "lowest_price_x                           1.0\n",
       "forecast_first_target_price_x            1.0\n",
       "forecast_first_good_price_x              1.0\n",
       "forecast_last_target_price_x             1.0\n",
       "forecast_last_good_price_x               1.0\n",
       "forecast_min_target_price_x              1.0\n",
       "forecast_max_target_price_x              1.0\n",
       "forecast_min_good_price_x                1.0\n",
       "forecast_max_good_price_x                1.0\n",
       "first_advance_x                          1.0\n",
       "latitude_destination                     1.0\n",
       "longitude_destination                    1.0\n",
       "destination_type_x_airport               1.0\n",
       "destination_type_x_city                  1.0\n",
       "filter_name_x_And(NonStop,NoLCC)         1.0\n",
       "filter_name_x_And(ShortLayover,NoLCC)    1.0\n",
       "filter_name_x_NoFilter                   1.0\n",
       "filter_name_x_NoLCC                      1.0\n",
       "filter_name_x_NonStop                    1.0\n",
       "filter_name_x_ShortLayover               1.0\n",
       "first_rec_x_buy                          1.0\n",
       "first_rec_x_wait                         1.0\n",
       "dtype: float64"
      ]
     },
     "execution_count": 67,
     "metadata": {},
     "output_type": "execute_result"
    }
   ],
   "source": [
    "input_final.max()"
   ]
  },
  {
   "cell_type": "code",
   "execution_count": 68,
   "metadata": {},
   "outputs": [],
   "source": [
    "scaler_output = MinMaxScaler()\n",
    "output_final = scaler_output.fit_transform(output_data_corrd)"
   ]
  },
  {
   "cell_type": "code",
   "execution_count": 69,
   "metadata": {},
   "outputs": [
    {
     "data": {
      "text/html": [
       "<div>\n",
       "<style scoped>\n",
       "    .dataframe tbody tr th:only-of-type {\n",
       "        vertical-align: middle;\n",
       "    }\n",
       "\n",
       "    .dataframe tbody tr th {\n",
       "        vertical-align: top;\n",
       "    }\n",
       "\n",
       "    .dataframe thead th {\n",
       "        text-align: right;\n",
       "    }\n",
       "</style>\n",
       "<table border=\"1\" class=\"dataframe\">\n",
       "  <thead>\n",
       "    <tr style=\"text-align: right;\">\n",
       "      <th></th>\n",
       "      <th>departure_date_from_2015</th>\n",
       "      <th>stay_y</th>\n",
       "      <th>latitude_destination</th>\n",
       "      <th>longitude_destination</th>\n",
       "    </tr>\n",
       "  </thead>\n",
       "  <tbody>\n",
       "    <tr>\n",
       "      <td>0</td>\n",
       "      <td>1294</td>\n",
       "      <td>200.0</td>\n",
       "      <td>29.814899</td>\n",
       "      <td>-95.31015</td>\n",
       "    </tr>\n",
       "    <tr>\n",
       "      <td>1</td>\n",
       "      <td>1294</td>\n",
       "      <td>200.0</td>\n",
       "      <td>29.814899</td>\n",
       "      <td>-95.31015</td>\n",
       "    </tr>\n",
       "    <tr>\n",
       "      <td>2</td>\n",
       "      <td>1268</td>\n",
       "      <td>200.0</td>\n",
       "      <td>29.814899</td>\n",
       "      <td>-95.31015</td>\n",
       "    </tr>\n",
       "    <tr>\n",
       "      <td>3</td>\n",
       "      <td>1268</td>\n",
       "      <td>200.0</td>\n",
       "      <td>29.814899</td>\n",
       "      <td>-95.31015</td>\n",
       "    </tr>\n",
       "    <tr>\n",
       "      <td>4</td>\n",
       "      <td>1428</td>\n",
       "      <td>200.0</td>\n",
       "      <td>29.814899</td>\n",
       "      <td>-95.31015</td>\n",
       "    </tr>\n",
       "  </tbody>\n",
       "</table>\n",
       "</div>"
      ],
      "text/plain": [
       "   departure_date_from_2015  stay_y  latitude_destination  \\\n",
       "0                      1294   200.0             29.814899   \n",
       "1                      1294   200.0             29.814899   \n",
       "2                      1268   200.0             29.814899   \n",
       "3                      1268   200.0             29.814899   \n",
       "4                      1428   200.0             29.814899   \n",
       "\n",
       "   longitude_destination  \n",
       "0              -95.31015  \n",
       "1              -95.31015  \n",
       "2              -95.31015  \n",
       "3              -95.31015  \n",
       "4              -95.31015  "
      ]
     },
     "execution_count": 69,
     "metadata": {},
     "output_type": "execute_result"
    }
   ],
   "source": [
    "output_data_corrd.head()"
   ]
  },
  {
   "cell_type": "code",
   "execution_count": 70,
   "metadata": {},
   "outputs": [
    {
     "data": {
      "text/plain": [
       "(4284, 4)"
      ]
     },
     "execution_count": 70,
     "metadata": {},
     "output_type": "execute_result"
    }
   ],
   "source": [
    "output_final.shape"
   ]
  },
  {
   "cell_type": "code",
   "execution_count": 71,
   "metadata": {},
   "outputs": [
    {
     "data": {
      "text/plain": [
       "((4284, 31), (4284, 4))"
      ]
     },
     "execution_count": 71,
     "metadata": {},
     "output_type": "execute_result"
    }
   ],
   "source": [
    "input_final.shape , output_final.shape"
   ]
  },
  {
   "cell_type": "markdown",
   "metadata": {},
   "source": [
    "Data split for train and test, validation set created within keras itself"
   ]
  },
  {
   "cell_type": "code",
   "execution_count": 72,
   "metadata": {},
   "outputs": [],
   "source": [
    "X_train, X_test, Y_train, Y_test = train_test_split(input_final, output_final,test_size=0.2)"
   ]
  },
  {
   "cell_type": "markdown",
   "metadata": {},
   "source": [
    "# Builing the model"
   ]
  },
  {
   "cell_type": "code",
   "execution_count": 73,
   "metadata": {},
   "outputs": [],
   "source": [
    "def root_mean_squared_error(y_true, y_pred):\n",
    "        return K.sqrt(K.mean(K.square(y_pred - y_true))) "
   ]
  },
  {
   "cell_type": "code",
   "execution_count": 245,
   "metadata": {},
   "outputs": [],
   "source": [
    "def build_model():\n",
    "    \n",
    "    input1 = keras.layers.Input(shape=(int(input_final.shape[1]),))   \n",
    "    x1 = keras.layers.Dense(20, activation='relu')(input1)\n",
    "    x1_batch = keras.layers.BatchNormalization()(x1)\n",
    "    #x11 = keras.layers.Dropout(rate=0.5)(x1_batch)\n",
    "    x2  = keras.layers.Dense(10,activation='relu' )(x1_batch)\n",
    "    x2_batch = keras.layers.BatchNormalization()(x2)\n",
    "    x3 = keras.layers.Dense(5, activation='relu')(x2_batch)\n",
    "    x3_batch = keras.layers.BatchNormalization()(x3)\n",
    "    out1 = keras.layers.Dense(1, activation='relu')(x3_batch)\n",
    "    out2 = keras.layers.Dense(1, activation='relu')(x3_batch)\n",
    "    out3 = keras.layers.Dense(1, activation='relu')(x3_batch)\n",
    "    out4 = keras.layers.Dense(1, activation='relu')(x3_batch)\n",
    "    \n",
    "     \n",
    "    model = keras.models.Model(inputs=input1, outputs=[out1,out2,out3,out4])\n",
    "    \n",
    "    optimizer = tf.keras.optimizers.Adam(0.0001)\n",
    "    \n",
    "    model.compile(loss=root_mean_squared_error, optimizer = optimizer, metrics=['mean_absolute_error', 'mean_squared_error'])\n",
    "    \n",
    "    return model\n",
    "  \n",
    "model = build_model()"
   ]
  },
  {
   "cell_type": "code",
   "execution_count": 246,
   "metadata": {},
   "outputs": [
    {
     "data": {
      "text/plain": [
       "(3427,)"
      ]
     },
     "execution_count": 246,
     "metadata": {},
     "output_type": "execute_result"
    }
   ],
   "source": [
    "Y_train[:,0].shape"
   ]
  },
  {
   "cell_type": "code",
   "execution_count": 247,
   "metadata": {},
   "outputs": [
    {
     "name": "stdout",
     "output_type": "stream",
     "text": [
      "\n",
      "01234567891011121314151617181920212223242526272829303132333435363738394041424344454647484950515253545556575859"
     ]
    }
   ],
   "source": [
    "class PrintDot(keras.callbacks.Callback):\n",
    "    def on_epoch_end(self, epoch, logs):\n",
    "        if epoch % 100 == 0 : print('')\n",
    "        print(epoch, end='')\n",
    "        \n",
    "EPOCHS=60\n",
    "\n",
    "history = model.fit(X_train, [Y_train[:,0],Y_train[:,1],Y_train[:,2],Y_train[:,3]], epochs = EPOCHS, validation_split=0.2, verbose=0, callbacks=[PrintDot()])"
   ]
  },
  {
   "cell_type": "code",
   "execution_count": 248,
   "metadata": {},
   "outputs": [
    {
     "data": {
      "text/html": [
       "<div>\n",
       "<style scoped>\n",
       "    .dataframe tbody tr th:only-of-type {\n",
       "        vertical-align: middle;\n",
       "    }\n",
       "\n",
       "    .dataframe tbody tr th {\n",
       "        vertical-align: top;\n",
       "    }\n",
       "\n",
       "    .dataframe thead th {\n",
       "        text-align: right;\n",
       "    }\n",
       "</style>\n",
       "<table border=\"1\" class=\"dataframe\">\n",
       "  <thead>\n",
       "    <tr style=\"text-align: right;\">\n",
       "      <th></th>\n",
       "      <th>loss</th>\n",
       "      <th>dense_38_loss</th>\n",
       "      <th>dense_39_loss</th>\n",
       "      <th>dense_40_loss</th>\n",
       "      <th>dense_41_loss</th>\n",
       "      <th>dense_38_mean_absolute_error</th>\n",
       "      <th>dense_38_mean_squared_error</th>\n",
       "      <th>dense_39_mean_absolute_error</th>\n",
       "      <th>dense_39_mean_squared_error</th>\n",
       "      <th>dense_40_mean_absolute_error</th>\n",
       "      <th>...</th>\n",
       "      <th>val_dense_41_loss</th>\n",
       "      <th>val_dense_38_mean_absolute_error</th>\n",
       "      <th>val_dense_38_mean_squared_error</th>\n",
       "      <th>val_dense_39_mean_absolute_error</th>\n",
       "      <th>val_dense_39_mean_squared_error</th>\n",
       "      <th>val_dense_40_mean_absolute_error</th>\n",
       "      <th>val_dense_40_mean_squared_error</th>\n",
       "      <th>val_dense_41_mean_absolute_error</th>\n",
       "      <th>val_dense_41_mean_squared_error</th>\n",
       "      <th>epoch</th>\n",
       "    </tr>\n",
       "  </thead>\n",
       "  <tbody>\n",
       "    <tr>\n",
       "      <td>55</td>\n",
       "      <td>1.267230</td>\n",
       "      <td>0.341788</td>\n",
       "      <td>0.460661</td>\n",
       "      <td>0.246509</td>\n",
       "      <td>0.218250</td>\n",
       "      <td>0.274433</td>\n",
       "      <td>0.118881</td>\n",
       "      <td>0.402275</td>\n",
       "      <td>0.214269</td>\n",
       "      <td>0.158376</td>\n",
       "      <td>...</td>\n",
       "      <td>0.218074</td>\n",
       "      <td>0.255766</td>\n",
       "      <td>0.107029</td>\n",
       "      <td>0.399834</td>\n",
       "      <td>0.209796</td>\n",
       "      <td>0.150580</td>\n",
       "      <td>0.061661</td>\n",
       "      <td>0.157150</td>\n",
       "      <td>0.049682</td>\n",
       "      <td>55</td>\n",
       "    </tr>\n",
       "    <tr>\n",
       "      <td>56</td>\n",
       "      <td>1.263952</td>\n",
       "      <td>0.340295</td>\n",
       "      <td>0.460248</td>\n",
       "      <td>0.247819</td>\n",
       "      <td>0.215268</td>\n",
       "      <td>0.271720</td>\n",
       "      <td>0.117526</td>\n",
       "      <td>0.402861</td>\n",
       "      <td>0.213599</td>\n",
       "      <td>0.159024</td>\n",
       "      <td>...</td>\n",
       "      <td>0.220298</td>\n",
       "      <td>0.255430</td>\n",
       "      <td>0.106796</td>\n",
       "      <td>0.401220</td>\n",
       "      <td>0.209605</td>\n",
       "      <td>0.148379</td>\n",
       "      <td>0.060242</td>\n",
       "      <td>0.156614</td>\n",
       "      <td>0.049568</td>\n",
       "      <td>56</td>\n",
       "    </tr>\n",
       "    <tr>\n",
       "      <td>57</td>\n",
       "      <td>1.257551</td>\n",
       "      <td>0.340484</td>\n",
       "      <td>0.460682</td>\n",
       "      <td>0.243441</td>\n",
       "      <td>0.213582</td>\n",
       "      <td>0.271328</td>\n",
       "      <td>0.117357</td>\n",
       "      <td>0.403334</td>\n",
       "      <td>0.213257</td>\n",
       "      <td>0.155197</td>\n",
       "      <td>...</td>\n",
       "      <td>0.217683</td>\n",
       "      <td>0.255486</td>\n",
       "      <td>0.106739</td>\n",
       "      <td>0.402955</td>\n",
       "      <td>0.209327</td>\n",
       "      <td>0.147657</td>\n",
       "      <td>0.060077</td>\n",
       "      <td>0.157857</td>\n",
       "      <td>0.049338</td>\n",
       "      <td>57</td>\n",
       "    </tr>\n",
       "    <tr>\n",
       "      <td>58</td>\n",
       "      <td>1.260465</td>\n",
       "      <td>0.342437</td>\n",
       "      <td>0.458914</td>\n",
       "      <td>0.242482</td>\n",
       "      <td>0.217375</td>\n",
       "      <td>0.274626</td>\n",
       "      <td>0.118990</td>\n",
       "      <td>0.402904</td>\n",
       "      <td>0.211958</td>\n",
       "      <td>0.152494</td>\n",
       "      <td>...</td>\n",
       "      <td>0.219330</td>\n",
       "      <td>0.255178</td>\n",
       "      <td>0.106395</td>\n",
       "      <td>0.402215</td>\n",
       "      <td>0.209598</td>\n",
       "      <td>0.147169</td>\n",
       "      <td>0.059969</td>\n",
       "      <td>0.157506</td>\n",
       "      <td>0.049686</td>\n",
       "      <td>58</td>\n",
       "    </tr>\n",
       "    <tr>\n",
       "      <td>59</td>\n",
       "      <td>1.255156</td>\n",
       "      <td>0.339167</td>\n",
       "      <td>0.458762</td>\n",
       "      <td>0.243946</td>\n",
       "      <td>0.213335</td>\n",
       "      <td>0.271221</td>\n",
       "      <td>0.116763</td>\n",
       "      <td>0.403419</td>\n",
       "      <td>0.211901</td>\n",
       "      <td>0.155434</td>\n",
       "      <td>...</td>\n",
       "      <td>0.221816</td>\n",
       "      <td>0.254740</td>\n",
       "      <td>0.106019</td>\n",
       "      <td>0.402802</td>\n",
       "      <td>0.209440</td>\n",
       "      <td>0.147058</td>\n",
       "      <td>0.060113</td>\n",
       "      <td>0.157548</td>\n",
       "      <td>0.049650</td>\n",
       "      <td>59</td>\n",
       "    </tr>\n",
       "  </tbody>\n",
       "</table>\n",
       "<p>5 rows × 27 columns</p>\n",
       "</div>"
      ],
      "text/plain": [
       "        loss  dense_38_loss  dense_39_loss  dense_40_loss  dense_41_loss  \\\n",
       "55  1.267230       0.341788       0.460661       0.246509       0.218250   \n",
       "56  1.263952       0.340295       0.460248       0.247819       0.215268   \n",
       "57  1.257551       0.340484       0.460682       0.243441       0.213582   \n",
       "58  1.260465       0.342437       0.458914       0.242482       0.217375   \n",
       "59  1.255156       0.339167       0.458762       0.243946       0.213335   \n",
       "\n",
       "    dense_38_mean_absolute_error  dense_38_mean_squared_error  \\\n",
       "55                      0.274433                     0.118881   \n",
       "56                      0.271720                     0.117526   \n",
       "57                      0.271328                     0.117357   \n",
       "58                      0.274626                     0.118990   \n",
       "59                      0.271221                     0.116763   \n",
       "\n",
       "    dense_39_mean_absolute_error  dense_39_mean_squared_error  \\\n",
       "55                      0.402275                     0.214269   \n",
       "56                      0.402861                     0.213599   \n",
       "57                      0.403334                     0.213257   \n",
       "58                      0.402904                     0.211958   \n",
       "59                      0.403419                     0.211901   \n",
       "\n",
       "    dense_40_mean_absolute_error  ...  val_dense_41_loss  \\\n",
       "55                      0.158376  ...           0.218074   \n",
       "56                      0.159024  ...           0.220298   \n",
       "57                      0.155197  ...           0.217683   \n",
       "58                      0.152494  ...           0.219330   \n",
       "59                      0.155434  ...           0.221816   \n",
       "\n",
       "    val_dense_38_mean_absolute_error  val_dense_38_mean_squared_error  \\\n",
       "55                          0.255766                         0.107029   \n",
       "56                          0.255430                         0.106796   \n",
       "57                          0.255486                         0.106739   \n",
       "58                          0.255178                         0.106395   \n",
       "59                          0.254740                         0.106019   \n",
       "\n",
       "    val_dense_39_mean_absolute_error  val_dense_39_mean_squared_error  \\\n",
       "55                          0.399834                         0.209796   \n",
       "56                          0.401220                         0.209605   \n",
       "57                          0.402955                         0.209327   \n",
       "58                          0.402215                         0.209598   \n",
       "59                          0.402802                         0.209440   \n",
       "\n",
       "    val_dense_40_mean_absolute_error  val_dense_40_mean_squared_error  \\\n",
       "55                          0.150580                         0.061661   \n",
       "56                          0.148379                         0.060242   \n",
       "57                          0.147657                         0.060077   \n",
       "58                          0.147169                         0.059969   \n",
       "59                          0.147058                         0.060113   \n",
       "\n",
       "    val_dense_41_mean_absolute_error  val_dense_41_mean_squared_error  epoch  \n",
       "55                          0.157150                         0.049682     55  \n",
       "56                          0.156614                         0.049568     56  \n",
       "57                          0.157857                         0.049338     57  \n",
       "58                          0.157506                         0.049686     58  \n",
       "59                          0.157548                         0.049650     59  \n",
       "\n",
       "[5 rows x 27 columns]"
      ]
     },
     "execution_count": 248,
     "metadata": {},
     "output_type": "execute_result"
    }
   ],
   "source": [
    "hist = pd.DataFrame(history.history)\n",
    "hist['epoch']=history.epoch\n",
    "hist.tail()\n"
   ]
  },
  {
   "cell_type": "code",
   "execution_count": 249,
   "metadata": {},
   "outputs": [
    {
     "data": {
      "text/plain": [
       "Index(['loss', 'dense_38_loss', 'dense_39_loss', 'dense_40_loss',\n",
       "       'dense_41_loss', 'dense_38_mean_absolute_error',\n",
       "       'dense_38_mean_squared_error', 'dense_39_mean_absolute_error',\n",
       "       'dense_39_mean_squared_error', 'dense_40_mean_absolute_error',\n",
       "       'dense_40_mean_squared_error', 'dense_41_mean_absolute_error',\n",
       "       'dense_41_mean_squared_error', 'val_loss', 'val_dense_38_loss',\n",
       "       'val_dense_39_loss', 'val_dense_40_loss', 'val_dense_41_loss',\n",
       "       'val_dense_38_mean_absolute_error', 'val_dense_38_mean_squared_error',\n",
       "       'val_dense_39_mean_absolute_error', 'val_dense_39_mean_squared_error',\n",
       "       'val_dense_40_mean_absolute_error', 'val_dense_40_mean_squared_error',\n",
       "       'val_dense_41_mean_absolute_error', 'val_dense_41_mean_squared_error',\n",
       "       'epoch'],\n",
       "      dtype='object')"
      ]
     },
     "execution_count": 249,
     "metadata": {},
     "output_type": "execute_result"
    }
   ],
   "source": [
    "hist.columns"
   ]
  },
  {
   "cell_type": "code",
   "execution_count": 250,
   "metadata": {},
   "outputs": [],
   "source": [
    "def plot_history(history):\n",
    "  hist = pd.DataFrame(history.history)\n",
    "  hist['epoch'] = history.epoch\n",
    "\n",
    "  plt.figure()\n",
    "  plt.xlabel('Epoch')\n",
    "  plt.ylabel('RMSE1 Error [MPG]')\n",
    "  plt.plot(hist['epoch'], hist['dense_38_loss'],\n",
    "           label='Train Error')\n",
    "  plt.plot(hist['epoch'], hist['val_dense_38_loss'],\n",
    "           label = 'Val Error')\n",
    "  plt.ylim([0,1])\n",
    "  plt.legend()\n",
    "\n",
    "  plt.figure()\n",
    "  plt.xlabel('Epoch')\n",
    "  plt.ylabel('RMSE2 [MPG]')\n",
    "  plt.plot(hist['epoch'], hist['dense_39_loss'],\n",
    "           label='Train Error')\n",
    "  plt.plot(hist['epoch'], hist['val_dense_39_loss'],\n",
    "           label = 'Val Error')\n",
    "  plt.ylim([0,1])\n",
    "  plt.legend()\n",
    "    \n",
    "  plt.figure()\n",
    "  plt.xlabel('Epoch')\n",
    "  plt.ylabel('RMSE3 [MPG]')\n",
    "  plt.plot(hist['epoch'], hist['dense_40_loss'],\n",
    "           label='Train Error')\n",
    "  plt.plot(hist['epoch'], hist['val_dense_40_loss'],\n",
    "           label = 'Val Error')\n",
    "  plt.ylim([0,1])\n",
    "  plt.legend()\n",
    "\n",
    "  plt.figure()\n",
    "  plt.xlabel('Epoch')\n",
    "  plt.ylabel('RMSE4 [MPG]')\n",
    "  plt.plot(hist['epoch'], hist['dense_41_loss'],\n",
    "           label='Train Error')\n",
    "  plt.plot(hist['epoch'], hist['val_dense_41_loss'],\n",
    "           label = 'Val Error')\n",
    "  plt.ylim([0,1])\n",
    "  plt.legend()\n",
    "  \n",
    "  plt.show()\n"
   ]
  },
  {
   "cell_type": "code",
   "execution_count": 251,
   "metadata": {},
   "outputs": [
    {
     "data": {
      "image/png": "[encoded data removed]",
      "text/plain": [
       "<Figure size 432x288 with 1 Axes>"
      ]
     },
     "metadata": {
      "needs_background": "light"
     },
     "output_type": "display_data"
    },
    {
     "data": {
      "image/png": "[encoded data removed]",
      "text/plain": [
       "<Figure size 432x288 with 1 Axes>"
      ]
     },
     "metadata": {
      "needs_background": "light"
     },
     "output_type": "display_data"
    },
    {
     "data": {
      "image/png": "[encoded data removed]",
      "text/plain": [
       "<Figure size 432x288 with 1 Axes>"
      ]
     },
     "metadata": {
      "needs_background": "light"
     },
     "output_type": "display_data"
    },
    {
     "data": {
      "image/png": "[encoded data removed]",
      "text/plain": [
       "<Figure size 432x288 with 1 Axes>"
      ]
     },
     "metadata": {
      "needs_background": "light"
     },
     "output_type": "display_data"
    }
   ],
   "source": [
    "plot_history(history)"
   ]
  },
  {
   "cell_type": "code",
   "execution_count": 252,
   "metadata": {},
   "outputs": [],
   "source": [
    "total_predict = model.predict(X_test)"
   ]
  },
  {
   "cell_type": "code",
   "execution_count": 253,
   "metadata": {},
   "outputs": [
    {
     "data": {
      "text/plain": [
       "857"
      ]
     },
     "execution_count": 253,
     "metadata": {},
     "output_type": "execute_result"
    }
   ],
   "source": [
    "len(total_predict[0])"
   ]
  },
  {
   "cell_type": "markdown",
   "metadata": {},
   "source": [
    "# Converting output to Trip\n",
    "\n",
    "From Predicted Longitude/ Lattitude to Destination\n",
    "\n",
    "From Predicted Days from 1/1/2015 to Departure Date\n",
    "\n",
    "From Predicted stay to Return Date"
   ]
  },
  {
   "cell_type": "code",
   "execution_count": 254,
   "metadata": {},
   "outputs": [],
   "source": [
    "pred_days = [l[0] for l in total_predict[0]]\n",
    "pred_stay =  [l[0] for l in total_predict[1]]\n",
    "pred_latti =  [l[0] for l in total_predict[2]]\n",
    "pred_longi =  [l[0] for l in total_predict[3]]\n"
   ]
  },
  {
   "cell_type": "code",
   "execution_count": 255,
   "metadata": {},
   "outputs": [
    {
     "data": {
      "text/plain": [
       "857"
      ]
     },
     "execution_count": 255,
     "metadata": {},
     "output_type": "execute_result"
    }
   ],
   "source": [
    "len(pred_days)"
   ]
  },
  {
   "cell_type": "code",
   "execution_count": 256,
   "metadata": {},
   "outputs": [],
   "source": [
    "pred_output = pd.DataFrame({'days':pred_days,'stay':pred_stay,'latti':pred_latti,'longi':pred_longi})"
   ]
  },
  {
   "cell_type": "code",
   "execution_count": 257,
   "metadata": {},
   "outputs": [
    {
     "data": {
      "text/plain": [
       "(857, 4)"
      ]
     },
     "execution_count": 257,
     "metadata": {},
     "output_type": "execute_result"
    }
   ],
   "source": [
    "pred_output.shape"
   ]
  },
  {
   "cell_type": "code",
   "execution_count": 258,
   "metadata": {},
   "outputs": [],
   "source": [
    "Scaled_Output = scaler_output.inverse_transform(pred_output)"
   ]
  },
  {
   "cell_type": "code",
   "execution_count": 259,
   "metadata": {},
   "outputs": [],
   "source": [
    "Scaled_Output_df = pd.DataFrame(Scaled_Output, columns = ['days','stay','latti','longi'])"
   ]
  },
  {
   "cell_type": "code",
   "execution_count": 260,
   "metadata": {},
   "outputs": [
    {
     "data": {
      "text/plain": [
       "(857, 4)"
      ]
     },
     "execution_count": 260,
     "metadata": {},
     "output_type": "execute_result"
    }
   ],
   "source": [
    "Scaled_Output_df.shape"
   ]
  },
  {
   "cell_type": "code",
   "execution_count": 261,
   "metadata": {},
   "outputs": [
    {
     "data": {
      "text/html": [
       "<div>\n",
       "<style scoped>\n",
       "    .dataframe tbody tr th:only-of-type {\n",
       "        vertical-align: middle;\n",
       "    }\n",
       "\n",
       "    .dataframe tbody tr th {\n",
       "        vertical-align: top;\n",
       "    }\n",
       "\n",
       "    .dataframe thead th {\n",
       "        text-align: right;\n",
       "    }\n",
       "</style>\n",
       "<table border=\"1\" class=\"dataframe\">\n",
       "  <thead>\n",
       "    <tr style=\"text-align: right;\">\n",
       "      <th></th>\n",
       "      <th>days</th>\n",
       "      <th>stay</th>\n",
       "      <th>latti</th>\n",
       "      <th>longi</th>\n",
       "    </tr>\n",
       "  </thead>\n",
       "  <tbody>\n",
       "    <tr>\n",
       "      <td>0</td>\n",
       "      <td>1102.000000</td>\n",
       "      <td>55.964053</td>\n",
       "      <td>35.260099</td>\n",
       "      <td>-73.051314</td>\n",
       "    </tr>\n",
       "    <tr>\n",
       "      <td>1</td>\n",
       "      <td>1418.520873</td>\n",
       "      <td>65.665090</td>\n",
       "      <td>34.451314</td>\n",
       "      <td>-64.881461</td>\n",
       "    </tr>\n",
       "    <tr>\n",
       "      <td>2</td>\n",
       "      <td>1102.000000</td>\n",
       "      <td>61.374283</td>\n",
       "      <td>35.224690</td>\n",
       "      <td>-66.642562</td>\n",
       "    </tr>\n",
       "    <tr>\n",
       "      <td>3</td>\n",
       "      <td>1318.894901</td>\n",
       "      <td>13.457069</td>\n",
       "      <td>-53.002602</td>\n",
       "      <td>-159.339005</td>\n",
       "    </tr>\n",
       "    <tr>\n",
       "      <td>4</td>\n",
       "      <td>1444.686779</td>\n",
       "      <td>0.000000</td>\n",
       "      <td>-53.002602</td>\n",
       "      <td>-159.339005</td>\n",
       "    </tr>\n",
       "  </tbody>\n",
       "</table>\n",
       "</div>"
      ],
      "text/plain": [
       "          days       stay      latti       longi\n",
       "0  1102.000000  55.964053  35.260099  -73.051314\n",
       "1  1418.520873  65.665090  34.451314  -64.881461\n",
       "2  1102.000000  61.374283  35.224690  -66.642562\n",
       "3  1318.894901  13.457069 -53.002602 -159.339005\n",
       "4  1444.686779   0.000000 -53.002602 -159.339005"
      ]
     },
     "execution_count": 261,
     "metadata": {},
     "output_type": "execute_result"
    }
   ],
   "source": [
    "Scaled_Output_df.head()"
   ]
  },
  {
   "cell_type": "code",
   "execution_count": 262,
   "metadata": {},
   "outputs": [
    {
     "data": {
      "text/plain": [
       "count    857.000000\n",
       "mean      60.317675\n",
       "std       19.033360\n",
       "min        0.000000\n",
       "25%       62.367219\n",
       "50%       65.668571\n",
       "75%       65.714133\n",
       "max      126.591873\n",
       "Name: stay, dtype: float64"
      ]
     },
     "execution_count": 262,
     "metadata": {},
     "output_type": "execute_result"
    }
   ],
   "source": [
    "Scaled_Output_df['stay'].describe()"
   ]
  },
  {
   "cell_type": "markdown",
   "metadata": {},
   "source": [
    "Find closest airport"
   ]
  },
  {
   "cell_type": "code",
   "execution_count": 263,
   "metadata": {},
   "outputs": [],
   "source": [
    "def get_airport(x):\n",
    "    lat = x['latti']\n",
    "    long = x['longi']\n",
    "    min_dis = 1000000\n",
    "    port = 'Random'\n",
    "    for row,_ in airport.iterrows():\n",
    "        lat_row = airport.loc[row,'latitude']\n",
    "        long_row = airport.loc[row,'longitude']\n",
    "        \n",
    "        dis = (lat_row - lat)**2 +  (long_row - long)**2\n",
    "        \n",
    "        if min_dis > dis:\n",
    "            min_dis = dis\n",
    "            \n",
    "            port = airport.loc[row,'location_id']\n",
    "        \n",
    "    return port   "
   ]
  },
  {
   "cell_type": "code",
   "execution_count": 264,
   "metadata": {},
   "outputs": [],
   "source": [
    "Scaled_Output_df['Nearest_Destination'] = Scaled_Output_df.apply(get_airport,axis=1)"
   ]
  },
  {
   "cell_type": "code",
   "execution_count": 265,
   "metadata": {},
   "outputs": [],
   "source": [
    "def get_departure_date (x):\n",
    "    y = int(x)    \n",
    "    val = pd.to_datetime('1/1/2015', format='%m/%d/%Y') + np.timedelta64(y,'D')\n",
    "    return val"
   ]
  },
  {
   "cell_type": "code",
   "execution_count": 266,
   "metadata": {},
   "outputs": [],
   "source": [
    "Scaled_Output_df['Approx_Departure_Date'] = Scaled_Output_df['days'].apply(get_departure_date)"
   ]
  },
  {
   "cell_type": "code",
   "execution_count": 267,
   "metadata": {},
   "outputs": [
    {
     "data": {
      "text/plain": [
       "0   2018-01-07\n",
       "1   2018-11-19\n",
       "2   2018-01-07\n",
       "3   2018-08-11\n",
       "4   2018-12-15\n",
       "Name: Approx_Departure_Date, dtype: datetime64[ns]"
      ]
     },
     "execution_count": 267,
     "metadata": {},
     "output_type": "execute_result"
    }
   ],
   "source": [
    "Scaled_Output_df['Approx_Departure_Date'].head()"
   ]
  },
  {
   "cell_type": "code",
   "execution_count": 268,
   "metadata": {},
   "outputs": [],
   "source": [
    "def get_return_date (x):\n",
    "    departure = x['Approx_Departure_Date']\n",
    "    stay = int(x['stay'])\n",
    "    \n",
    "    if stay >= 65:\n",
    "        return \n",
    "    else:\n",
    "        y = stay//7\n",
    "        val = pd.to_datetime(departure, format='%y-%m-%d') + np.timedelta64(y,'D')\n",
    "        return val"
   ]
  },
  {
   "cell_type": "code",
   "execution_count": 269,
   "metadata": {},
   "outputs": [],
   "source": [
    "Scaled_Output_df['Approx_Reurn_Date'] = Scaled_Output_df.apply(get_return_date, axis=1)"
   ]
  },
  {
   "cell_type": "code",
   "execution_count": 270,
   "metadata": {},
   "outputs": [
    {
     "data": {
      "text/plain": [
       "0   2018-01-14\n",
       "1          NaT\n",
       "2   2018-01-15\n",
       "3   2018-08-12\n",
       "4   2018-12-15\n",
       "Name: Approx_Reurn_Date, dtype: datetime64[ns]"
      ]
     },
     "execution_count": 270,
     "metadata": {},
     "output_type": "execute_result"
    }
   ],
   "source": [
    "Scaled_Output_df['Approx_Reurn_Date'] .head()"
   ]
  },
  {
   "cell_type": "code",
   "execution_count": 271,
   "metadata": {},
   "outputs": [
    {
     "data": {
      "text/html": [
       "<div>\n",
       "<style scoped>\n",
       "    .dataframe tbody tr th:only-of-type {\n",
       "        vertical-align: middle;\n",
       "    }\n",
       "\n",
       "    .dataframe tbody tr th {\n",
       "        vertical-align: top;\n",
       "    }\n",
       "\n",
       "    .dataframe thead th {\n",
       "        text-align: right;\n",
       "    }\n",
       "</style>\n",
       "<table border=\"1\" class=\"dataframe\">\n",
       "  <thead>\n",
       "    <tr style=\"text-align: right;\">\n",
       "      <th></th>\n",
       "      <th>days</th>\n",
       "      <th>stay</th>\n",
       "      <th>latti</th>\n",
       "      <th>longi</th>\n",
       "      <th>Nearest_Destination</th>\n",
       "      <th>Approx_Departure_Date</th>\n",
       "      <th>Approx_Reurn_Date</th>\n",
       "    </tr>\n",
       "  </thead>\n",
       "  <tbody>\n",
       "    <tr>\n",
       "      <td>0</td>\n",
       "      <td>1102.000000</td>\n",
       "      <td>55.964053</td>\n",
       "      <td>35.260099</td>\n",
       "      <td>-73.051314</td>\n",
       "      <td>airport/HNC</td>\n",
       "      <td>2018-01-07</td>\n",
       "      <td>2018-01-14</td>\n",
       "    </tr>\n",
       "    <tr>\n",
       "      <td>1</td>\n",
       "      <td>1418.520873</td>\n",
       "      <td>65.665090</td>\n",
       "      <td>34.451314</td>\n",
       "      <td>-64.881461</td>\n",
       "      <td>airport/BDA</td>\n",
       "      <td>2018-11-19</td>\n",
       "      <td>NaT</td>\n",
       "    </tr>\n",
       "    <tr>\n",
       "      <td>2</td>\n",
       "      <td>1102.000000</td>\n",
       "      <td>61.374283</td>\n",
       "      <td>35.224690</td>\n",
       "      <td>-66.642562</td>\n",
       "      <td>airport/BDA</td>\n",
       "      <td>2018-01-07</td>\n",
       "      <td>2018-01-15</td>\n",
       "    </tr>\n",
       "    <tr>\n",
       "      <td>3</td>\n",
       "      <td>1318.894901</td>\n",
       "      <td>13.457069</td>\n",
       "      <td>-53.002602</td>\n",
       "      <td>-159.339005</td>\n",
       "      <td>airport/CHT</td>\n",
       "      <td>2018-08-11</td>\n",
       "      <td>2018-08-12</td>\n",
       "    </tr>\n",
       "    <tr>\n",
       "      <td>4</td>\n",
       "      <td>1444.686779</td>\n",
       "      <td>0.000000</td>\n",
       "      <td>-53.002602</td>\n",
       "      <td>-159.339005</td>\n",
       "      <td>airport/CHT</td>\n",
       "      <td>2018-12-15</td>\n",
       "      <td>2018-12-15</td>\n",
       "    </tr>\n",
       "  </tbody>\n",
       "</table>\n",
       "</div>"
      ],
      "text/plain": [
       "          days       stay      latti       longi Nearest_Destination  \\\n",
       "0  1102.000000  55.964053  35.260099  -73.051314         airport/HNC   \n",
       "1  1418.520873  65.665090  34.451314  -64.881461         airport/BDA   \n",
       "2  1102.000000  61.374283  35.224690  -66.642562         airport/BDA   \n",
       "3  1318.894901  13.457069 -53.002602 -159.339005         airport/CHT   \n",
       "4  1444.686779   0.000000 -53.002602 -159.339005         airport/CHT   \n",
       "\n",
       "  Approx_Departure_Date Approx_Reurn_Date  \n",
       "0            2018-01-07        2018-01-14  \n",
       "1            2018-11-19               NaT  \n",
       "2            2018-01-07        2018-01-15  \n",
       "3            2018-08-11        2018-08-12  \n",
       "4            2018-12-15        2018-12-15  "
      ]
     },
     "execution_count": 271,
     "metadata": {},
     "output_type": "execute_result"
    }
   ],
   "source": [
    "Scaled_Output_df.head()"
   ]
  },
  {
   "cell_type": "code",
   "execution_count": 225,
   "metadata": {},
   "outputs": [
    {
     "data": {
      "text/plain": [
       "(494, 7)"
      ]
     },
     "execution_count": 225,
     "metadata": {},
     "output_type": "execute_result"
    }
   ],
   "source": [
    "Scaled_Output_df[pd.isnull(Scaled_Output_df['Approx_Reurn_Date'])].shape"
   ]
  },
  {
   "cell_type": "code",
   "execution_count": null,
   "metadata": {},
   "outputs": [],
   "source": []
  },
  {
   "cell_type": "markdown",
   "metadata": {},
   "source": [
    "# Converting Y_test back to trip form"
   ]
  },
  {
   "cell_type": "code",
   "execution_count": 227,
   "metadata": {},
   "outputs": [],
   "source": [
    "Y_test_unscaled = scaler_output.inverse_transform(Y_test)"
   ]
  },
  {
   "cell_type": "code",
   "execution_count": 228,
   "metadata": {},
   "outputs": [],
   "source": [
    "Y_test_unscaled_df = pd.DataFrame(Y_test_unscaled, columns = ['departure_date_from_2015','stay_y','latitude_destination','longitude_destination'])"
   ]
  },
  {
   "cell_type": "code",
   "execution_count": 229,
   "metadata": {},
   "outputs": [
    {
     "data": {
      "text/html": [
       "<div>\n",
       "<style scoped>\n",
       "    .dataframe tbody tr th:only-of-type {\n",
       "        vertical-align: middle;\n",
       "    }\n",
       "\n",
       "    .dataframe tbody tr th {\n",
       "        vertical-align: top;\n",
       "    }\n",
       "\n",
       "    .dataframe thead th {\n",
       "        text-align: right;\n",
       "    }\n",
       "</style>\n",
       "<table border=\"1\" class=\"dataframe\">\n",
       "  <thead>\n",
       "    <tr style=\"text-align: right;\">\n",
       "      <th></th>\n",
       "      <th>departure_date_from_2015</th>\n",
       "      <th>stay_y</th>\n",
       "      <th>latitude_destination</th>\n",
       "      <th>longitude_destination</th>\n",
       "    </tr>\n",
       "  </thead>\n",
       "  <tbody>\n",
       "    <tr>\n",
       "      <td>0</td>\n",
       "      <td>1505.0</td>\n",
       "      <td>4.0</td>\n",
       "      <td>28.429399</td>\n",
       "      <td>-81.308998</td>\n",
       "    </tr>\n",
       "    <tr>\n",
       "      <td>1</td>\n",
       "      <td>1450.0</td>\n",
       "      <td>8.0</td>\n",
       "      <td>36.124500</td>\n",
       "      <td>-86.678200</td>\n",
       "    </tr>\n",
       "    <tr>\n",
       "      <td>2</td>\n",
       "      <td>1121.0</td>\n",
       "      <td>3.0</td>\n",
       "      <td>36.080101</td>\n",
       "      <td>-115.152000</td>\n",
       "    </tr>\n",
       "    <tr>\n",
       "      <td>3</td>\n",
       "      <td>1459.0</td>\n",
       "      <td>200.0</td>\n",
       "      <td>26.072599</td>\n",
       "      <td>-80.152702</td>\n",
       "    </tr>\n",
       "    <tr>\n",
       "      <td>4</td>\n",
       "      <td>1294.0</td>\n",
       "      <td>200.0</td>\n",
       "      <td>37.618999</td>\n",
       "      <td>-122.375000</td>\n",
       "    </tr>\n",
       "  </tbody>\n",
       "</table>\n",
       "</div>"
      ],
      "text/plain": [
       "   departure_date_from_2015  stay_y  latitude_destination  \\\n",
       "0                    1505.0     4.0             28.429399   \n",
       "1                    1450.0     8.0             36.124500   \n",
       "2                    1121.0     3.0             36.080101   \n",
       "3                    1459.0   200.0             26.072599   \n",
       "4                    1294.0   200.0             37.618999   \n",
       "\n",
       "   longitude_destination  \n",
       "0             -81.308998  \n",
       "1             -86.678200  \n",
       "2            -115.152000  \n",
       "3             -80.152702  \n",
       "4            -122.375000  "
      ]
     },
     "execution_count": 229,
     "metadata": {},
     "output_type": "execute_result"
    }
   ],
   "source": [
    "Y_test_unscaled_df.head()"
   ]
  },
  {
   "cell_type": "code",
   "execution_count": 230,
   "metadata": {},
   "outputs": [],
   "source": [
    "Actual_Output = Y_test_unscaled_df.merge(airport[['latitude','longitude','location_id']], left_on=['latitude_destination','longitude_destination'], right_on=['latitude','longitude'])"
   ]
  },
  {
   "cell_type": "code",
   "execution_count": 231,
   "metadata": {},
   "outputs": [
    {
     "data": {
      "text/html": [
       "<div>\n",
       "<style scoped>\n",
       "    .dataframe tbody tr th:only-of-type {\n",
       "        vertical-align: middle;\n",
       "    }\n",
       "\n",
       "    .dataframe tbody tr th {\n",
       "        vertical-align: top;\n",
       "    }\n",
       "\n",
       "    .dataframe thead th {\n",
       "        text-align: right;\n",
       "    }\n",
       "</style>\n",
       "<table border=\"1\" class=\"dataframe\">\n",
       "  <thead>\n",
       "    <tr style=\"text-align: right;\">\n",
       "      <th></th>\n",
       "      <th>departure_date_from_2015</th>\n",
       "      <th>stay_y</th>\n",
       "      <th>latitude_destination</th>\n",
       "      <th>longitude_destination</th>\n",
       "      <th>latitude</th>\n",
       "      <th>longitude</th>\n",
       "      <th>location_id</th>\n",
       "    </tr>\n",
       "  </thead>\n",
       "  <tbody>\n",
       "    <tr>\n",
       "      <td>0</td>\n",
       "      <td>1450.0</td>\n",
       "      <td>8.0</td>\n",
       "      <td>36.1245</td>\n",
       "      <td>-86.6782</td>\n",
       "      <td>36.1245</td>\n",
       "      <td>-86.6782</td>\n",
       "      <td>airport/BNA</td>\n",
       "    </tr>\n",
       "    <tr>\n",
       "      <td>1</td>\n",
       "      <td>1450.0</td>\n",
       "      <td>8.0</td>\n",
       "      <td>36.1245</td>\n",
       "      <td>-86.6782</td>\n",
       "      <td>36.1245</td>\n",
       "      <td>-86.6782</td>\n",
       "      <td>airport/BNA</td>\n",
       "    </tr>\n",
       "    <tr>\n",
       "      <td>2</td>\n",
       "      <td>1476.0</td>\n",
       "      <td>5.0</td>\n",
       "      <td>36.1245</td>\n",
       "      <td>-86.6782</td>\n",
       "      <td>36.1245</td>\n",
       "      <td>-86.6782</td>\n",
       "      <td>airport/BNA</td>\n",
       "    </tr>\n",
       "    <tr>\n",
       "      <td>3</td>\n",
       "      <td>1169.0</td>\n",
       "      <td>2.0</td>\n",
       "      <td>36.1245</td>\n",
       "      <td>-86.6782</td>\n",
       "      <td>36.1245</td>\n",
       "      <td>-86.6782</td>\n",
       "      <td>airport/BNA</td>\n",
       "    </tr>\n",
       "    <tr>\n",
       "      <td>4</td>\n",
       "      <td>1296.0</td>\n",
       "      <td>2.0</td>\n",
       "      <td>36.1245</td>\n",
       "      <td>-86.6782</td>\n",
       "      <td>36.1245</td>\n",
       "      <td>-86.6782</td>\n",
       "      <td>airport/BNA</td>\n",
       "    </tr>\n",
       "  </tbody>\n",
       "</table>\n",
       "</div>"
      ],
      "text/plain": [
       "   departure_date_from_2015  stay_y  latitude_destination  \\\n",
       "0                    1450.0     8.0               36.1245   \n",
       "1                    1450.0     8.0               36.1245   \n",
       "2                    1476.0     5.0               36.1245   \n",
       "3                    1169.0     2.0               36.1245   \n",
       "4                    1296.0     2.0               36.1245   \n",
       "\n",
       "   longitude_destination  latitude  longitude  location_id  \n",
       "0               -86.6782   36.1245   -86.6782  airport/BNA  \n",
       "1               -86.6782   36.1245   -86.6782  airport/BNA  \n",
       "2               -86.6782   36.1245   -86.6782  airport/BNA  \n",
       "3               -86.6782   36.1245   -86.6782  airport/BNA  \n",
       "4               -86.6782   36.1245   -86.6782  airport/BNA  "
      ]
     },
     "execution_count": 231,
     "metadata": {},
     "output_type": "execute_result"
    }
   ],
   "source": [
    "Actual_Output.head()"
   ]
  },
  {
   "cell_type": "code",
   "execution_count": 232,
   "metadata": {},
   "outputs": [],
   "source": [
    "Y_test_unscaled_df['Destination'] = Actual_Output['location_id']"
   ]
  },
  {
   "cell_type": "code",
   "execution_count": 233,
   "metadata": {},
   "outputs": [],
   "source": [
    "Y_test_unscaled_df['Deaprture_date'] = Y_test_unscaled_df['departure_date_from_2015'].apply(get_departure_date)"
   ]
  },
  {
   "cell_type": "code",
   "execution_count": 234,
   "metadata": {},
   "outputs": [],
   "source": [
    "def get_return_date_actual (x):\n",
    "    departure = x['Deaprture_date']\n",
    "    stay = int(x['stay_y'])\n",
    "    \n",
    "    if stay >= 200:\n",
    "        return \n",
    "    else:\n",
    "        \n",
    "        val = pd.to_datetime(departure, format='%y-%m-%d') + np.timedelta64(stay,'D')\n",
    "        return val"
   ]
  },
  {
   "cell_type": "code",
   "execution_count": 235,
   "metadata": {},
   "outputs": [],
   "source": [
    "Y_test_unscaled_df['Return_Date'] = Y_test_unscaled_df.apply(get_return_date_actual,axis=1)"
   ]
  },
  {
   "cell_type": "code",
   "execution_count": 236,
   "metadata": {},
   "outputs": [
    {
     "data": {
      "text/html": [
       "<div>\n",
       "<style scoped>\n",
       "    .dataframe tbody tr th:only-of-type {\n",
       "        vertical-align: middle;\n",
       "    }\n",
       "\n",
       "    .dataframe tbody tr th {\n",
       "        vertical-align: top;\n",
       "    }\n",
       "\n",
       "    .dataframe thead th {\n",
       "        text-align: right;\n",
       "    }\n",
       "</style>\n",
       "<table border=\"1\" class=\"dataframe\">\n",
       "  <thead>\n",
       "    <tr style=\"text-align: right;\">\n",
       "      <th></th>\n",
       "      <th>departure_date_from_2015</th>\n",
       "      <th>stay_y</th>\n",
       "      <th>latitude_destination</th>\n",
       "      <th>longitude_destination</th>\n",
       "      <th>Destination</th>\n",
       "      <th>Deaprture_date</th>\n",
       "      <th>Return_Date</th>\n",
       "    </tr>\n",
       "  </thead>\n",
       "  <tbody>\n",
       "    <tr>\n",
       "      <td>0</td>\n",
       "      <td>1505.0</td>\n",
       "      <td>4.0</td>\n",
       "      <td>28.429399</td>\n",
       "      <td>-81.308998</td>\n",
       "      <td>airport/BNA</td>\n",
       "      <td>2019-02-14</td>\n",
       "      <td>2019-02-18</td>\n",
       "    </tr>\n",
       "    <tr>\n",
       "      <td>1</td>\n",
       "      <td>1450.0</td>\n",
       "      <td>8.0</td>\n",
       "      <td>36.124500</td>\n",
       "      <td>-86.678200</td>\n",
       "      <td>airport/BNA</td>\n",
       "      <td>2018-12-21</td>\n",
       "      <td>2018-12-29</td>\n",
       "    </tr>\n",
       "    <tr>\n",
       "      <td>2</td>\n",
       "      <td>1121.0</td>\n",
       "      <td>3.0</td>\n",
       "      <td>36.080101</td>\n",
       "      <td>-115.152000</td>\n",
       "      <td>airport/BNA</td>\n",
       "      <td>2018-01-26</td>\n",
       "      <td>2018-01-29</td>\n",
       "    </tr>\n",
       "    <tr>\n",
       "      <td>3</td>\n",
       "      <td>1459.0</td>\n",
       "      <td>200.0</td>\n",
       "      <td>26.072599</td>\n",
       "      <td>-80.152702</td>\n",
       "      <td>airport/BNA</td>\n",
       "      <td>2018-12-30</td>\n",
       "      <td>NaT</td>\n",
       "    </tr>\n",
       "    <tr>\n",
       "      <td>4</td>\n",
       "      <td>1294.0</td>\n",
       "      <td>200.0</td>\n",
       "      <td>37.618999</td>\n",
       "      <td>-122.375000</td>\n",
       "      <td>airport/BNA</td>\n",
       "      <td>2018-07-18</td>\n",
       "      <td>NaT</td>\n",
       "    </tr>\n",
       "  </tbody>\n",
       "</table>\n",
       "</div>"
      ],
      "text/plain": [
       "   departure_date_from_2015  stay_y  latitude_destination  \\\n",
       "0                    1505.0     4.0             28.429399   \n",
       "1                    1450.0     8.0             36.124500   \n",
       "2                    1121.0     3.0             36.080101   \n",
       "3                    1459.0   200.0             26.072599   \n",
       "4                    1294.0   200.0             37.618999   \n",
       "\n",
       "   longitude_destination  Destination Deaprture_date Return_Date  \n",
       "0             -81.308998  airport/BNA     2019-02-14  2019-02-18  \n",
       "1             -86.678200  airport/BNA     2018-12-21  2018-12-29  \n",
       "2            -115.152000  airport/BNA     2018-01-26  2018-01-29  \n",
       "3             -80.152702  airport/BNA     2018-12-30         NaT  \n",
       "4            -122.375000  airport/BNA     2018-07-18         NaT  "
      ]
     },
     "execution_count": 236,
     "metadata": {},
     "output_type": "execute_result"
    }
   ],
   "source": [
    "Y_test_unscaled_df.head()"
   ]
  },
  {
   "cell_type": "code",
   "execution_count": 237,
   "metadata": {},
   "outputs": [],
   "source": [
    "tmp = Y_test_unscaled_df.merge(airport[['location_id','airport_group']], left_on='Destination', right_on='location_id')"
   ]
  },
  {
   "cell_type": "code",
   "execution_count": 238,
   "metadata": {},
   "outputs": [],
   "source": [
    "Y_test_unscaled_df['destination_gp'] = tmp['airport_group']"
   ]
  },
  {
   "cell_type": "code",
   "execution_count": 239,
   "metadata": {},
   "outputs": [
    {
     "data": {
      "text/plain": [
       "((857, 8), (857, 7))"
      ]
     },
     "execution_count": 239,
     "metadata": {},
     "output_type": "execute_result"
    }
   ],
   "source": [
    "Y_test_unscaled_df.shape, Scaled_Output_df.shape"
   ]
  },
  {
   "cell_type": "code",
   "execution_count": 281,
   "metadata": {},
   "outputs": [
    {
     "data": {
      "text/plain": [
       "(266, 8)"
      ]
     },
     "execution_count": 281,
     "metadata": {},
     "output_type": "execute_result"
    }
   ],
   "source": [
    "Y_test_unscaled_df[pd.isnull(Y_test_unscaled_df['Return_Date'])].shape"
   ]
  },
  {
   "cell_type": "code",
   "execution_count": 272,
   "metadata": {},
   "outputs": [],
   "source": [
    "tmp = Scaled_Output_df.merge(airport[['location_id','airport_group']], left_on='Nearest_Destination', right_on='location_id')"
   ]
  },
  {
   "cell_type": "code",
   "execution_count": 273,
   "metadata": {},
   "outputs": [],
   "source": [
    "Scaled_Output_df['destination_gp'] = tmp['airport_group']"
   ]
  },
  {
   "cell_type": "code",
   "execution_count": 274,
   "metadata": {},
   "outputs": [],
   "source": [
    "c=0\n",
    "for row,_ in Y_test_unscaled_df.iterrows():\n",
    "    if Y_test_unscaled_df.loc[row,'destination_gp'] == Scaled_Output_df.loc[row,'destination_gp']:\n",
    "        c += 1\n",
    "    "
   ]
  },
  {
   "cell_type": "code",
   "execution_count": 191,
   "metadata": {},
   "outputs": [
    {
     "data": {
      "text/plain": [
       "84"
      ]
     },
     "execution_count": 191,
     "metadata": {},
     "output_type": "execute_result"
    }
   ],
   "source": [
    "c=0\n",
    "for row,_ in Y_test_unscaled_df.iterrows():\n",
    "    if abs(Y_test_unscaled_df.loc[row,'Deaprture_date'] - Scaled_Output_df.loc[row,'Approx_Departure_Date']).days < 30:\n",
    "        c += 1\n",
    "c    "
   ]
  },
  {
   "cell_type": "code",
   "execution_count": 192,
   "metadata": {},
   "outputs": [
    {
     "data": {
      "text/plain": [
       "214"
      ]
     },
     "execution_count": 192,
     "metadata": {},
     "output_type": "execute_result"
    }
   ],
   "source": [
    "c=0\n",
    "for row,_ in Y_test_unscaled_df.iterrows():\n",
    "    if Y_test_unscaled_df.loc[row,'stay_y'] >= 200 and Scaled_Output_df.loc[row,'stay'] > 65:\n",
    "        c += 1\n",
    "c    "
   ]
  },
  {
   "cell_type": "code",
   "execution_count": 278,
   "metadata": {},
   "outputs": [
    {
     "data": {
      "text/html": [
       "<div>\n",
       "<style scoped>\n",
       "    .dataframe tbody tr th:only-of-type {\n",
       "        vertical-align: middle;\n",
       "    }\n",
       "\n",
       "    .dataframe tbody tr th {\n",
       "        vertical-align: top;\n",
       "    }\n",
       "\n",
       "    .dataframe thead th {\n",
       "        text-align: right;\n",
       "    }\n",
       "</style>\n",
       "<table border=\"1\" class=\"dataframe\">\n",
       "  <thead>\n",
       "    <tr style=\"text-align: right;\">\n",
       "      <th></th>\n",
       "      <th>days</th>\n",
       "      <th>stay</th>\n",
       "      <th>latti</th>\n",
       "      <th>longi</th>\n",
       "      <th>Nearest_Destination</th>\n",
       "      <th>Approx_Departure_Date</th>\n",
       "      <th>Approx_Reurn_Date</th>\n",
       "      <th>destination_gp</th>\n",
       "    </tr>\n",
       "  </thead>\n",
       "  <tbody>\n",
       "    <tr>\n",
       "      <td>0</td>\n",
       "      <td>1102.000000</td>\n",
       "      <td>55.964053</td>\n",
       "      <td>35.260099</td>\n",
       "      <td>-73.051314</td>\n",
       "      <td>airport/HNC</td>\n",
       "      <td>2018-01-07</td>\n",
       "      <td>2018-01-14</td>\n",
       "      <td>airport/HNC</td>\n",
       "    </tr>\n",
       "    <tr>\n",
       "      <td>1</td>\n",
       "      <td>1418.520873</td>\n",
       "      <td>65.665090</td>\n",
       "      <td>34.451314</td>\n",
       "      <td>-64.881461</td>\n",
       "      <td>airport/BDA</td>\n",
       "      <td>2018-11-19</td>\n",
       "      <td>NaT</td>\n",
       "      <td>airport/HNC</td>\n",
       "    </tr>\n",
       "    <tr>\n",
       "      <td>2</td>\n",
       "      <td>1102.000000</td>\n",
       "      <td>61.374283</td>\n",
       "      <td>35.224690</td>\n",
       "      <td>-66.642562</td>\n",
       "      <td>airport/BDA</td>\n",
       "      <td>2018-01-07</td>\n",
       "      <td>2018-01-15</td>\n",
       "      <td>airport/HNC</td>\n",
       "    </tr>\n",
       "    <tr>\n",
       "      <td>3</td>\n",
       "      <td>1318.894901</td>\n",
       "      <td>13.457069</td>\n",
       "      <td>-53.002602</td>\n",
       "      <td>-159.339005</td>\n",
       "      <td>airport/CHT</td>\n",
       "      <td>2018-08-11</td>\n",
       "      <td>2018-08-12</td>\n",
       "      <td>airport/HNC</td>\n",
       "    </tr>\n",
       "    <tr>\n",
       "      <td>4</td>\n",
       "      <td>1444.686779</td>\n",
       "      <td>0.000000</td>\n",
       "      <td>-53.002602</td>\n",
       "      <td>-159.339005</td>\n",
       "      <td>airport/CHT</td>\n",
       "      <td>2018-12-15</td>\n",
       "      <td>2018-12-15</td>\n",
       "      <td>airport/HNC</td>\n",
       "    </tr>\n",
       "  </tbody>\n",
       "</table>\n",
       "</div>"
      ],
      "text/plain": [
       "          days       stay      latti       longi Nearest_Destination  \\\n",
       "0  1102.000000  55.964053  35.260099  -73.051314         airport/HNC   \n",
       "1  1418.520873  65.665090  34.451314  -64.881461         airport/BDA   \n",
       "2  1102.000000  61.374283  35.224690  -66.642562         airport/BDA   \n",
       "3  1318.894901  13.457069 -53.002602 -159.339005         airport/CHT   \n",
       "4  1444.686779   0.000000 -53.002602 -159.339005         airport/CHT   \n",
       "\n",
       "  Approx_Departure_Date Approx_Reurn_Date destination_gp  \n",
       "0            2018-01-07        2018-01-14    airport/HNC  \n",
       "1            2018-11-19               NaT    airport/HNC  \n",
       "2            2018-01-07        2018-01-15    airport/HNC  \n",
       "3            2018-08-11        2018-08-12    airport/HNC  \n",
       "4            2018-12-15        2018-12-15    airport/HNC  "
      ]
     },
     "execution_count": 278,
     "metadata": {},
     "output_type": "execute_result"
    }
   ],
   "source": [
    "Scaled_Output_df.head()"
   ]
  },
  {
   "cell_type": "code",
   "execution_count": null,
   "metadata": {},
   "outputs": [],
   "source": []
  }
 ],
 "metadata": {
  "kernelspec": {
   "display_name": "Python 3",
   "language": "python",
   "name": "python3"
  },
  "language_info": {
   "codemirror_mode": {
    "name": "ipython",
    "version": 3
   },
   "file_extension": ".py",
   "mimetype": "text/x-python",
   "name": "python",
   "nbconvert_exporter": "python",
   "pygments_lexer": "ipython3",
   "version": "3.6.5"
  }
 },
 "nbformat": 4,
 "nbformat_minor": 2
}
