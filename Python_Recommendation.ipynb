{
 "cells": [
  {
   "cell_type": "code",
   "execution_count": 1,
   "metadata": {},
   "outputs": [],
   "source": [
    "import pandas as pd\n",
    "import numpy as np"
   ]
  },
  {
   "cell_type": "code",
   "execution_count": 2,
   "metadata": {},
   "outputs": [],
   "source": [
    "airport = pd.read_csv(\"search_sample_data/airports.csv\")"
   ]
  },
  {
   "cell_type": "code",
   "execution_count": 3,
   "metadata": {},
   "outputs": [
    {
     "data": {
      "text/html": [
       "<div>\n",
       "<style scoped>\n",
       "    .dataframe tbody tr th:only-of-type {\n",
       "        vertical-align: middle;\n",
       "    }\n",
       "\n",
       "    .dataframe tbody tr th {\n",
       "        vertical-align: top;\n",
       "    }\n",
       "\n",
       "    .dataframe thead th {\n",
       "        text-align: right;\n",
       "    }\n",
       "</style>\n",
       "<table border=\"1\" class=\"dataframe\">\n",
       "  <thead>\n",
       "    <tr style=\"text-align: right;\">\n",
       "      <th></th>\n",
       "      <th>location_id</th>\n",
       "      <th>location_type</th>\n",
       "      <th>airport_group</th>\n",
       "      <th>country_code</th>\n",
       "      <th>country</th>\n",
       "      <th>region</th>\n",
       "      <th>latitude</th>\n",
       "      <th>longitude</th>\n",
       "    </tr>\n",
       "  </thead>\n",
       "  <tbody>\n",
       "    <tr>\n",
       "      <th>0</th>\n",
       "      <td>airport/0</td>\n",
       "      <td>airport</td>\n",
       "      <td>airport/0</td>\n",
       "      <td>BR</td>\n",
       "      <td>Brazil</td>\n",
       "      <td>South America</td>\n",
       "      <td>-29.153099</td>\n",
       "      <td>-53.743301</td>\n",
       "    </tr>\n",
       "    <tr>\n",
       "      <th>1</th>\n",
       "      <td>airport/AAA</td>\n",
       "      <td>airport</td>\n",
       "      <td>airport/AAA</td>\n",
       "      <td>FR</td>\n",
       "      <td>French Polynesia</td>\n",
       "      <td>Oceania</td>\n",
       "      <td>-17.352600</td>\n",
       "      <td>-145.509995</td>\n",
       "    </tr>\n",
       "    <tr>\n",
       "      <th>2</th>\n",
       "      <td>airport/AAB</td>\n",
       "      <td>airport</td>\n",
       "      <td>airport/AAB</td>\n",
       "      <td>AU</td>\n",
       "      <td>Australia</td>\n",
       "      <td>Oceania</td>\n",
       "      <td>-26.700001</td>\n",
       "      <td>141.050003</td>\n",
       "    </tr>\n",
       "    <tr>\n",
       "      <th>3</th>\n",
       "      <td>airport/AAC</td>\n",
       "      <td>airport</td>\n",
       "      <td>airport/AAC</td>\n",
       "      <td>EG</td>\n",
       "      <td>Egypt</td>\n",
       "      <td>Africa and Mideast</td>\n",
       "      <td>31.073299</td>\n",
       "      <td>33.835800</td>\n",
       "    </tr>\n",
       "    <tr>\n",
       "      <th>4</th>\n",
       "      <td>airport/AAE</td>\n",
       "      <td>airport</td>\n",
       "      <td>airport/AAE</td>\n",
       "      <td>DZ</td>\n",
       "      <td>Algeria</td>\n",
       "      <td>Africa and Mideast</td>\n",
       "      <td>36.822201</td>\n",
       "      <td>7.809170</td>\n",
       "    </tr>\n",
       "  </tbody>\n",
       "</table>\n",
       "</div>"
      ],
      "text/plain": [
       "   location_id location_type airport_group country_code           country  \\\n",
       "0    airport/0       airport     airport/0           BR            Brazil   \n",
       "1  airport/AAA       airport   airport/AAA           FR  French Polynesia   \n",
       "2  airport/AAB       airport   airport/AAB           AU         Australia   \n",
       "3  airport/AAC       airport   airport/AAC           EG             Egypt   \n",
       "4  airport/AAE       airport   airport/AAE           DZ           Algeria   \n",
       "\n",
       "               region   latitude   longitude  \n",
       "0       South America -29.153099  -53.743301  \n",
       "1             Oceania -17.352600 -145.509995  \n",
       "2             Oceania -26.700001  141.050003  \n",
       "3  Africa and Mideast  31.073299   33.835800  \n",
       "4  Africa and Mideast  36.822201    7.809170  "
      ]
     },
     "execution_count": 3,
     "metadata": {},
     "output_type": "execute_result"
    }
   ],
   "source": [
    "airport.head()"
   ]
  },
  {
   "cell_type": "code",
   "execution_count": 4,
   "metadata": {},
   "outputs": [
    {
     "data": {
      "text/plain": [
       "array(['airport', 'city'], dtype=object)"
      ]
     },
     "execution_count": 4,
     "metadata": {},
     "output_type": "execute_result"
    }
   ],
   "source": [
    "airport['location_type'].unique()"
   ]
  },
  {
   "cell_type": "code",
   "execution_count": 173,
   "metadata": {},
   "outputs": [],
   "source": [
    "watch_sample_full = pd.read_csv(\"search_sample_data/watch_sample.csv\")"
   ]
  },
  {
   "cell_type": "code",
   "execution_count": 174,
   "metadata": {},
   "outputs": [
    {
     "data": {
      "text/plain": [
       "(1168145, 40)"
      ]
     },
     "execution_count": 174,
     "metadata": {},
     "output_type": "execute_result"
    }
   ],
   "source": [
    "watch_sample_full.shape"
   ]
  },
  {
   "cell_type": "code",
   "execution_count": 231,
   "metadata": {},
   "outputs": [],
   "source": [
    "watch_sample = watch_sample_full.loc[:50000,:]"
   ]
  },
  {
   "cell_type": "code",
   "execution_count": 232,
   "metadata": {},
   "outputs": [
    {
     "data": {
      "text/plain": [
       "(50001, 40)"
      ]
     },
     "execution_count": 232,
     "metadata": {},
     "output_type": "execute_result"
    }
   ],
   "source": [
    "watch_sample.shape"
   ]
  },
  {
   "cell_type": "code",
   "execution_count": 233,
   "metadata": {},
   "outputs": [
    {
     "data": {
      "text/plain": [
       "Index(['user_id', 'trip_id', 'trip_type', 'origin', 'destination',\n",
       "       'origin_type', 'destination_type', 'departure_date', 'return_date',\n",
       "       'stay', 'weekend', 'filter_no_lcc', 'filter_non_stop',\n",
       "       'filter_short_layover', 'filter_name', 'first_searched_dt',\n",
       "       'watch_added_dt', 'status_latest', 'latest_status_change_dt',\n",
       "       'status_updates', 'total_notifs', 'total_buy_notifs', 'first_rec',\n",
       "       'first_price', 'first_buy_dt', 'first_buy_price', 'lowest_price',\n",
       "       'last_notif_dt', 'forecast_first_target_price',\n",
       "       'forecast_first_good_price', 'forecast_last_target_price',\n",
       "       'forecast_last_good_price', 'forecast_last_warning_date',\n",
       "       'forecast_last_danger_date', 'forecast_min_target_price',\n",
       "       'forecast_max_target_price', 'forecast_min_good_price',\n",
       "       'forecast_max_good_price', 'first_advance', 'watch_advance'],\n",
       "      dtype='object')"
      ]
     },
     "execution_count": 233,
     "metadata": {},
     "output_type": "execute_result"
    }
   ],
   "source": [
    "watch_sample.columns"
   ]
  },
  {
   "cell_type": "code",
   "execution_count": 234,
   "metadata": {},
   "outputs": [
    {
     "data": {
      "text/plain": [
       "(24329, 2.0552016112458382)"
      ]
     },
     "execution_count": 234,
     "metadata": {},
     "output_type": "execute_result"
    }
   ],
   "source": [
    "len(watch_sample['user_id'].unique()), watch_sample.shape[0]/len(watch_sample['user_id'].unique())"
   ]
  },
  {
   "cell_type": "code",
   "execution_count": 235,
   "metadata": {},
   "outputs": [
    {
     "data": {
      "text/plain": [
       "49873"
      ]
     },
     "execution_count": 235,
     "metadata": {},
     "output_type": "execute_result"
    }
   ],
   "source": [
    "len(watch_sample['trip_id'].unique())"
   ]
  },
  {
   "cell_type": "code",
   "execution_count": 236,
   "metadata": {},
   "outputs": [
    {
     "data": {
      "text/plain": [
       "126"
      ]
     },
     "execution_count": 236,
     "metadata": {},
     "output_type": "execute_result"
    }
   ],
   "source": [
    "np.sum(watch_sample['trip_id'].value_counts() > 1)"
   ]
  },
  {
   "cell_type": "code",
   "execution_count": 237,
   "metadata": {},
   "outputs": [
    {
     "data": {
      "text/plain": [
       "array(['one_way', 'round_trip'], dtype=object)"
      ]
     },
     "execution_count": 237,
     "metadata": {},
     "output_type": "execute_result"
    }
   ],
   "source": [
    "watch_sample['trip_type'].unique()"
   ]
  },
  {
   "cell_type": "code",
   "execution_count": 238,
   "metadata": {},
   "outputs": [
    {
     "data": {
      "text/plain": [
       "(816, 1028)"
      ]
     },
     "execution_count": 238,
     "metadata": {},
     "output_type": "execute_result"
    }
   ],
   "source": [
    "len(watch_sample['origin'].unique()), len(watch_sample['destination'].unique())"
   ]
  },
  {
   "cell_type": "code",
   "execution_count": 239,
   "metadata": {},
   "outputs": [
    {
     "data": {
      "text/plain": [
       "(array(['airport', 'city'], dtype=object),\n",
       " array(['airport', 'city'], dtype=object))"
      ]
     },
     "execution_count": 239,
     "metadata": {},
     "output_type": "execute_result"
    }
   ],
   "source": [
    "watch_sample['origin_type'].unique(), watch_sample['destination_type'].unique()"
   ]
  },
  {
   "cell_type": "code",
   "execution_count": 240,
   "metadata": {},
   "outputs": [
    {
     "data": {
      "text/plain": [
       "user_id                         object\n",
       "trip_id                         object\n",
       "trip_type                       object\n",
       "origin                          object\n",
       "destination                     object\n",
       "origin_type                     object\n",
       "destination_type                object\n",
       "departure_date                  object\n",
       "return_date                     object\n",
       "stay                           float64\n",
       "weekend                          int64\n",
       "filter_no_lcc                    int64\n",
       "filter_non_stop                  int64\n",
       "filter_short_layover             int64\n",
       "filter_name                     object\n",
       "first_searched_dt               object\n",
       "watch_added_dt                  object\n",
       "status_latest                   object\n",
       "latest_status_change_dt         object\n",
       "status_updates                   int64\n",
       "total_notifs                   float64\n",
       "total_buy_notifs               float64\n",
       "first_rec                       object\n",
       "first_price                    float64\n",
       "first_buy_dt                    object\n",
       "first_buy_price                float64\n",
       "lowest_price                   float64\n",
       "last_notif_dt                   object\n",
       "forecast_first_target_price    float64\n",
       "forecast_first_good_price      float64\n",
       "forecast_last_target_price     float64\n",
       "forecast_last_good_price       float64\n",
       "forecast_last_warning_date      object\n",
       "forecast_last_danger_date       object\n",
       "forecast_min_target_price      float64\n",
       "forecast_max_target_price      float64\n",
       "forecast_min_good_price        float64\n",
       "forecast_max_good_price        float64\n",
       "first_advance                    int64\n",
       "watch_advance                  float64\n",
       "dtype: object"
      ]
     },
     "execution_count": 240,
     "metadata": {},
     "output_type": "execute_result"
    }
   ],
   "source": [
    "watch_sample.dtypes"
   ]
  },
  {
   "cell_type": "code",
   "execution_count": 241,
   "metadata": {},
   "outputs": [
    {
     "data": {
      "text/html": [
       "<div>\n",
       "<style scoped>\n",
       "    .dataframe tbody tr th:only-of-type {\n",
       "        vertical-align: middle;\n",
       "    }\n",
       "\n",
       "    .dataframe tbody tr th {\n",
       "        vertical-align: top;\n",
       "    }\n",
       "\n",
       "    .dataframe thead th {\n",
       "        text-align: right;\n",
       "    }\n",
       "</style>\n",
       "<table border=\"1\" class=\"dataframe\">\n",
       "  <thead>\n",
       "    <tr style=\"text-align: right;\">\n",
       "      <th></th>\n",
       "      <th>user_id</th>\n",
       "      <th>trip_id</th>\n",
       "      <th>trip_type</th>\n",
       "      <th>origin</th>\n",
       "      <th>destination</th>\n",
       "      <th>origin_type</th>\n",
       "      <th>destination_type</th>\n",
       "      <th>departure_date</th>\n",
       "      <th>return_date</th>\n",
       "      <th>stay</th>\n",
       "      <th>weekend</th>\n",
       "      <th>filter_no_lcc</th>\n",
       "      <th>filter_non_stop</th>\n",
       "      <th>filter_short_layover</th>\n",
       "      <th>filter_name</th>\n",
       "      <th>first_searched_dt</th>\n",
       "      <th>watch_added_dt</th>\n",
       "      <th>status_latest</th>\n",
       "      <th>latest_status_change_dt</th>\n",
       "      <th>status_updates</th>\n",
       "      <th>total_notifs</th>\n",
       "      <th>total_buy_notifs</th>\n",
       "      <th>first_rec</th>\n",
       "      <th>first_price</th>\n",
       "      <th>first_buy_dt</th>\n",
       "      <th>first_buy_price</th>\n",
       "      <th>lowest_price</th>\n",
       "      <th>last_notif_dt</th>\n",
       "      <th>forecast_first_target_price</th>\n",
       "      <th>forecast_first_good_price</th>\n",
       "      <th>forecast_last_target_price</th>\n",
       "      <th>forecast_last_good_price</th>\n",
       "      <th>forecast_last_warning_date</th>\n",
       "      <th>forecast_last_danger_date</th>\n",
       "      <th>forecast_min_target_price</th>\n",
       "      <th>forecast_max_target_price</th>\n",
       "      <th>forecast_min_good_price</th>\n",
       "      <th>forecast_max_good_price</th>\n",
       "      <th>first_advance</th>\n",
       "      <th>watch_advance</th>\n",
       "    </tr>\n",
       "  </thead>\n",
       "  <tbody>\n",
       "    <tr>\n",
       "      <th>0</th>\n",
       "      <td>945e05e2b2510be2edb1149348fdb24852f2a6fe101e6c...</td>\n",
       "      <td>ddc5e806-226f-335d-a9f9-e59c55550832</td>\n",
       "      <td>one_way</td>\n",
       "      <td>airport/BCN</td>\n",
       "      <td>airport/EWR</td>\n",
       "      <td>airport</td>\n",
       "      <td>airport</td>\n",
       "      <td>2018-03-01</td>\n",
       "      <td>NaN</td>\n",
       "      <td>NaN</td>\n",
       "      <td>0</td>\n",
       "      <td>0</td>\n",
       "      <td>0</td>\n",
       "      <td>0</td>\n",
       "      <td>NoFilter</td>\n",
       "      <td>2018-02-26 01:22:51</td>\n",
       "      <td>2018-02-26 01:22:59</td>\n",
       "      <td>expired</td>\n",
       "      <td>2018-03-02 03:00:00</td>\n",
       "      <td>3</td>\n",
       "      <td>1.0</td>\n",
       "      <td>1.0</td>\n",
       "      <td>buy</td>\n",
       "      <td>464.0</td>\n",
       "      <td>2018-02-26 01:22:51</td>\n",
       "      <td>464.0</td>\n",
       "      <td>464.0</td>\n",
       "      <td>2018-02-28 10:58:16</td>\n",
       "      <td>406.0</td>\n",
       "      <td>248.0</td>\n",
       "      <td>491.0</td>\n",
       "      <td>245.0</td>\n",
       "      <td>2017-12-02</td>\n",
       "      <td>2018-01-18</td>\n",
       "      <td>406.0</td>\n",
       "      <td>491.0</td>\n",
       "      <td>245.0</td>\n",
       "      <td>248.0</td>\n",
       "      <td>3</td>\n",
       "      <td>3.0</td>\n",
       "    </tr>\n",
       "  </tbody>\n",
       "</table>\n",
       "</div>"
      ],
      "text/plain": [
       "                                             user_id  \\\n",
       "0  945e05e2b2510be2edb1149348fdb24852f2a6fe101e6c...   \n",
       "\n",
       "                                trip_id trip_type       origin  destination  \\\n",
       "0  ddc5e806-226f-335d-a9f9-e59c55550832   one_way  airport/BCN  airport/EWR   \n",
       "\n",
       "  origin_type destination_type departure_date return_date  stay  weekend  \\\n",
       "0     airport          airport     2018-03-01         NaN   NaN        0   \n",
       "\n",
       "   filter_no_lcc  filter_non_stop  filter_short_layover filter_name  \\\n",
       "0              0                0                     0    NoFilter   \n",
       "\n",
       "     first_searched_dt       watch_added_dt status_latest  \\\n",
       "0  2018-02-26 01:22:51  2018-02-26 01:22:59       expired   \n",
       "\n",
       "  latest_status_change_dt  status_updates  total_notifs  total_buy_notifs  \\\n",
       "0     2018-03-02 03:00:00               3           1.0               1.0   \n",
       "\n",
       "  first_rec  first_price         first_buy_dt  first_buy_price  lowest_price  \\\n",
       "0       buy        464.0  2018-02-26 01:22:51            464.0         464.0   \n",
       "\n",
       "         last_notif_dt  forecast_first_target_price  \\\n",
       "0  2018-02-28 10:58:16                        406.0   \n",
       "\n",
       "   forecast_first_good_price  forecast_last_target_price  \\\n",
       "0                      248.0                       491.0   \n",
       "\n",
       "   forecast_last_good_price forecast_last_warning_date  \\\n",
       "0                     245.0                 2017-12-02   \n",
       "\n",
       "  forecast_last_danger_date  forecast_min_target_price  \\\n",
       "0                2018-01-18                      406.0   \n",
       "\n",
       "   forecast_max_target_price  forecast_min_good_price  \\\n",
       "0                      491.0                    245.0   \n",
       "\n",
       "   forecast_max_good_price  first_advance  watch_advance  \n",
       "0                    248.0              3            3.0  "
      ]
     },
     "execution_count": 241,
     "metadata": {},
     "output_type": "execute_result"
    }
   ],
   "source": [
    "pd.set_option('display.max_columns', 50)\n",
    "watch_sample.head(1)"
   ]
  },
  {
   "cell_type": "code",
   "execution_count": 242,
   "metadata": {},
   "outputs": [
    {
     "data": {
      "text/plain": [
       "array([ nan,   5.,  29.,   3.,   7.,   6.,   4.,  16.,   8.,  44.,   2.,\n",
       "         0.,   9.,  10.,  14.,  91.,  11.,  17.,   1.,  28.,  13.,  24.,\n",
       "        21.,  19., 169.,  22.,  12.,  15.,  30.,  49.,  20.,  61.,  18.,\n",
       "       164.,  33.,  62.,  79.,  60.,  23.,  27.,  34., 120., 168.,  64.,\n",
       "        37.,  32.,  89.,  42.,  48.,  56.,  70.,  25.,  92.,  81.,  50.,\n",
       "        75.,  90., 125.,  35.,  43., 121.,  58.,  74., 111.,  88.,  31.,\n",
       "        45., 100.,  53.,  94.,  26.,  59.,  63.,  47.,  46., 118.,  68.,\n",
       "       231.,  99., 179.,  67.,  41.,  39.,  97.,  96., 136., 109., 177.,\n",
       "        36.,  38., 243.,  93.,  72., 172., 127.,  83.,  57., 150., 158.,\n",
       "        51.,  52., 133., 196., 182., 178., 175., 122.,  65.,  66., 126.,\n",
       "       103., 135.,  76., 232.,  40.,  85., 114., 224.,  55., 123.,  80.,\n",
       "        71.,  69., 112., 101., 124.,  77.,  54., 102., 153., 241., 151.,\n",
       "       181., 229., 180.,  95., 161., 260.,  78., 166., 113., 106., 174.,\n",
       "       115., 145., 105., 138., 237., 162., 110.,  73., 163., 171.,  84.,\n",
       "        87., 155., 268., 141., 117., 167., 288., 156.,  82., 213., 230.,\n",
       "       210.,  86., 128., 104., 273., 131., 185., 129., 140., 303., 240.,\n",
       "       188., 134., 207., 132., 143., 116., 254., 157., 297., 258., 119.,\n",
       "       130., 183., 154., 211., 221., 311., 325., 218., 160., 305.,  98.,\n",
       "       149., 184., 199., 189., 108., 187., 225., 147., 146.])"
      ]
     },
     "execution_count": 242,
     "metadata": {},
     "output_type": "execute_result"
    }
   ],
   "source": [
    "watch_sample['stay'].unique()"
   ]
  },
  {
   "cell_type": "code",
   "execution_count": 243,
   "metadata": {},
   "outputs": [],
   "source": [
    "date_cols =['departure_date',\n",
    "'return_date',\n",
    "'first_searched_dt',\n",
    "'watch_added_dt',\n",
    "'latest_status_change_dt',\n",
    "'first_buy_dt',\n",
    "'last_notif_dt',\n",
    "'forecast_last_warning_date',\n",
    "'forecast_last_danger_date']\n",
    "\n"
   ]
  },
  {
   "cell_type": "code",
   "execution_count": 244,
   "metadata": {},
   "outputs": [
    {
     "name": "stderr",
     "output_type": "stream",
     "text": [
      "C:\\Users\\ankur\\AppData\\Local\\Continuum\\anaconda3\\lib\\site-packages\\ipykernel_launcher.py:3: SettingWithCopyWarning: \n",
      "A value is trying to be set on a copy of a slice from a DataFrame.\n",
      "Try using .loc[row_indexer,col_indexer] = value instead\n",
      "\n",
      "See the caveats in the documentation: http://pandas.pydata.org/pandas-docs/stable/indexing.html#indexing-view-versus-copy\n",
      "  This is separate from the ipykernel package so we can avoid doing imports until\n"
     ]
    }
   ],
   "source": [
    "for col in date_cols:\n",
    "    #print(col)\n",
    "    watch_sample[col] = pd.to_datetime(watch_sample[col])"
   ]
  },
  {
   "cell_type": "code",
   "execution_count": 245,
   "metadata": {},
   "outputs": [
    {
     "name": "stderr",
     "output_type": "stream",
     "text": [
      "C:\\Users\\ankur\\AppData\\Local\\Continuum\\anaconda3\\lib\\site-packages\\pandas\\core\\groupby\\groupby.py:3766: FutureWarning: In the future, NAT != NAT will be True rather than False.\n",
      "  inc = np.r_[1, val[1:] != val[:-1]]\n"
     ]
    }
   ],
   "source": [
    "df_trip = watch_sample.groupby('trip_id').agg('nunique')"
   ]
  },
  {
   "cell_type": "code",
   "execution_count": 246,
   "metadata": {},
   "outputs": [
    {
     "data": {
      "text/plain": [
       "(49873, 40)"
      ]
     },
     "execution_count": 246,
     "metadata": {},
     "output_type": "execute_result"
    }
   ],
   "source": [
    "df_trip.shape"
   ]
  },
  {
   "cell_type": "code",
   "execution_count": 247,
   "metadata": {},
   "outputs": [
    {
     "data": {
      "text/plain": [
       "user_id                        126\n",
       "trip_id                          0\n",
       "trip_type                        0\n",
       "origin                           0\n",
       "destination                      0\n",
       "origin_type                      0\n",
       "destination_type                 0\n",
       "departure_date                   0\n",
       "return_date                      0\n",
       "stay                             0\n",
       "weekend                          0\n",
       "filter_no_lcc                    0\n",
       "filter_non_stop                  0\n",
       "filter_short_layover             0\n",
       "filter_name                      0\n",
       "first_searched_dt              126\n",
       "watch_added_dt                  16\n",
       "status_latest                   62\n",
       "latest_status_change_dt        124\n",
       "status_updates                  61\n",
       "total_notifs                    58\n",
       "total_buy_notifs                54\n",
       "first_rec                       44\n",
       "first_price                    107\n",
       "first_buy_dt                    40\n",
       "first_buy_price                 29\n",
       "lowest_price                   111\n",
       "last_notif_dt                    6\n",
       "forecast_first_target_price    115\n",
       "forecast_first_good_price       84\n",
       "forecast_last_target_price     118\n",
       "forecast_last_good_price        82\n",
       "forecast_last_warning_date      81\n",
       "forecast_last_danger_date       53\n",
       "forecast_min_target_price      117\n",
       "forecast_max_target_price      117\n",
       "forecast_min_good_price         86\n",
       "forecast_max_good_price         92\n",
       "first_advance                  122\n",
       "watch_advance                   15\n",
       "dtype: int64"
      ]
     },
     "execution_count": 247,
     "metadata": {},
     "output_type": "execute_result"
    }
   ],
   "source": [
    "np.sum(df_trip >1)"
   ]
  },
  {
   "cell_type": "code",
   "execution_count": 248,
   "metadata": {},
   "outputs": [
    {
     "data": {
      "text/html": [
       "<div>\n",
       "<style scoped>\n",
       "    .dataframe tbody tr th:only-of-type {\n",
       "        vertical-align: middle;\n",
       "    }\n",
       "\n",
       "    .dataframe tbody tr th {\n",
       "        vertical-align: top;\n",
       "    }\n",
       "\n",
       "    .dataframe thead th {\n",
       "        text-align: right;\n",
       "    }\n",
       "</style>\n",
       "<table border=\"1\" class=\"dataframe\">\n",
       "  <thead>\n",
       "    <tr style=\"text-align: right;\">\n",
       "      <th></th>\n",
       "      <th>user_id</th>\n",
       "      <th>trip_id</th>\n",
       "      <th>trip_type</th>\n",
       "      <th>origin</th>\n",
       "      <th>destination</th>\n",
       "      <th>origin_type</th>\n",
       "      <th>destination_type</th>\n",
       "      <th>departure_date</th>\n",
       "      <th>return_date</th>\n",
       "      <th>stay</th>\n",
       "      <th>weekend</th>\n",
       "      <th>filter_no_lcc</th>\n",
       "      <th>filter_non_stop</th>\n",
       "      <th>filter_short_layover</th>\n",
       "      <th>filter_name</th>\n",
       "      <th>first_searched_dt</th>\n",
       "      <th>watch_added_dt</th>\n",
       "      <th>status_latest</th>\n",
       "      <th>latest_status_change_dt</th>\n",
       "      <th>status_updates</th>\n",
       "      <th>total_notifs</th>\n",
       "      <th>total_buy_notifs</th>\n",
       "      <th>first_rec</th>\n",
       "      <th>first_price</th>\n",
       "      <th>first_buy_dt</th>\n",
       "      <th>first_buy_price</th>\n",
       "      <th>lowest_price</th>\n",
       "      <th>last_notif_dt</th>\n",
       "      <th>forecast_first_target_price</th>\n",
       "      <th>forecast_first_good_price</th>\n",
       "      <th>forecast_last_target_price</th>\n",
       "      <th>forecast_last_good_price</th>\n",
       "      <th>forecast_last_warning_date</th>\n",
       "      <th>forecast_last_danger_date</th>\n",
       "      <th>forecast_min_target_price</th>\n",
       "      <th>forecast_max_target_price</th>\n",
       "      <th>forecast_min_good_price</th>\n",
       "      <th>forecast_max_good_price</th>\n",
       "      <th>first_advance</th>\n",
       "      <th>watch_advance</th>\n",
       "    </tr>\n",
       "  </thead>\n",
       "  <tbody>\n",
       "  </tbody>\n",
       "</table>\n",
       "</div>"
      ],
      "text/plain": [
       "Empty DataFrame\n",
       "Columns: [user_id, trip_id, trip_type, origin, destination, origin_type, destination_type, departure_date, return_date, stay, weekend, filter_no_lcc, filter_non_stop, filter_short_layover, filter_name, first_searched_dt, watch_added_dt, status_latest, latest_status_change_dt, status_updates, total_notifs, total_buy_notifs, first_rec, first_price, first_buy_dt, first_buy_price, lowest_price, last_notif_dt, forecast_first_target_price, forecast_first_good_price, forecast_last_target_price, forecast_last_good_price, forecast_last_warning_date, forecast_last_danger_date, forecast_min_target_price, forecast_max_target_price, forecast_min_good_price, forecast_max_good_price, first_advance, watch_advance]\n",
       "Index: []"
      ]
     },
     "execution_count": 248,
     "metadata": {},
     "output_type": "execute_result"
    }
   ],
   "source": [
    "watch_sample[(watch_sample['trip_type']=='one_way') & ~pd.isnull(watch_sample['return_date'])]"
   ]
  },
  {
   "cell_type": "code",
   "execution_count": 249,
   "metadata": {},
   "outputs": [
    {
     "data": {
      "text/html": [
       "<div>\n",
       "<style scoped>\n",
       "    .dataframe tbody tr th:only-of-type {\n",
       "        vertical-align: middle;\n",
       "    }\n",
       "\n",
       "    .dataframe tbody tr th {\n",
       "        vertical-align: top;\n",
       "    }\n",
       "\n",
       "    .dataframe thead th {\n",
       "        text-align: right;\n",
       "    }\n",
       "</style>\n",
       "<table border=\"1\" class=\"dataframe\">\n",
       "  <thead>\n",
       "    <tr style=\"text-align: right;\">\n",
       "      <th></th>\n",
       "      <th>user_id</th>\n",
       "      <th>trip_id</th>\n",
       "      <th>trip_type</th>\n",
       "      <th>origin</th>\n",
       "      <th>destination</th>\n",
       "      <th>origin_type</th>\n",
       "      <th>destination_type</th>\n",
       "      <th>departure_date</th>\n",
       "      <th>return_date</th>\n",
       "      <th>stay</th>\n",
       "      <th>weekend</th>\n",
       "      <th>filter_no_lcc</th>\n",
       "      <th>filter_non_stop</th>\n",
       "      <th>filter_short_layover</th>\n",
       "      <th>filter_name</th>\n",
       "      <th>first_searched_dt</th>\n",
       "      <th>watch_added_dt</th>\n",
       "      <th>status_latest</th>\n",
       "      <th>latest_status_change_dt</th>\n",
       "      <th>status_updates</th>\n",
       "      <th>total_notifs</th>\n",
       "      <th>total_buy_notifs</th>\n",
       "      <th>first_rec</th>\n",
       "      <th>first_price</th>\n",
       "      <th>first_buy_dt</th>\n",
       "      <th>first_buy_price</th>\n",
       "      <th>lowest_price</th>\n",
       "      <th>last_notif_dt</th>\n",
       "      <th>forecast_first_target_price</th>\n",
       "      <th>forecast_first_good_price</th>\n",
       "      <th>forecast_last_target_price</th>\n",
       "      <th>forecast_last_good_price</th>\n",
       "      <th>forecast_last_warning_date</th>\n",
       "      <th>forecast_last_danger_date</th>\n",
       "      <th>forecast_min_target_price</th>\n",
       "      <th>forecast_max_target_price</th>\n",
       "      <th>forecast_min_good_price</th>\n",
       "      <th>forecast_max_good_price</th>\n",
       "      <th>first_advance</th>\n",
       "      <th>watch_advance</th>\n",
       "    </tr>\n",
       "  </thead>\n",
       "  <tbody>\n",
       "  </tbody>\n",
       "</table>\n",
       "</div>"
      ],
      "text/plain": [
       "Empty DataFrame\n",
       "Columns: [user_id, trip_id, trip_type, origin, destination, origin_type, destination_type, departure_date, return_date, stay, weekend, filter_no_lcc, filter_non_stop, filter_short_layover, filter_name, first_searched_dt, watch_added_dt, status_latest, latest_status_change_dt, status_updates, total_notifs, total_buy_notifs, first_rec, first_price, first_buy_dt, first_buy_price, lowest_price, last_notif_dt, forecast_first_target_price, forecast_first_good_price, forecast_last_target_price, forecast_last_good_price, forecast_last_warning_date, forecast_last_danger_date, forecast_min_target_price, forecast_max_target_price, forecast_min_good_price, forecast_max_good_price, first_advance, watch_advance]\n",
       "Index: []"
      ]
     },
     "execution_count": 249,
     "metadata": {},
     "output_type": "execute_result"
    }
   ],
   "source": [
    "watch_sample[(watch_sample['trip_type']!='one_way') & pd.isnull(watch_sample['return_date'])]"
   ]
  },
  {
   "cell_type": "code",
   "execution_count": 250,
   "metadata": {},
   "outputs": [
    {
     "data": {
      "text/html": [
       "<div>\n",
       "<style scoped>\n",
       "    .dataframe tbody tr th:only-of-type {\n",
       "        vertical-align: middle;\n",
       "    }\n",
       "\n",
       "    .dataframe tbody tr th {\n",
       "        vertical-align: top;\n",
       "    }\n",
       "\n",
       "    .dataframe thead th {\n",
       "        text-align: right;\n",
       "    }\n",
       "</style>\n",
       "<table border=\"1\" class=\"dataframe\">\n",
       "  <thead>\n",
       "    <tr style=\"text-align: right;\">\n",
       "      <th></th>\n",
       "      <th>user_id</th>\n",
       "      <th>trip_id</th>\n",
       "      <th>trip_type</th>\n",
       "      <th>origin</th>\n",
       "      <th>destination</th>\n",
       "      <th>origin_type</th>\n",
       "      <th>destination_type</th>\n",
       "      <th>departure_date</th>\n",
       "      <th>return_date</th>\n",
       "      <th>stay</th>\n",
       "      <th>weekend</th>\n",
       "      <th>filter_no_lcc</th>\n",
       "      <th>filter_non_stop</th>\n",
       "      <th>filter_short_layover</th>\n",
       "      <th>filter_name</th>\n",
       "      <th>first_searched_dt</th>\n",
       "      <th>watch_added_dt</th>\n",
       "      <th>status_latest</th>\n",
       "      <th>latest_status_change_dt</th>\n",
       "      <th>status_updates</th>\n",
       "      <th>total_notifs</th>\n",
       "      <th>total_buy_notifs</th>\n",
       "      <th>first_rec</th>\n",
       "      <th>first_price</th>\n",
       "      <th>first_buy_dt</th>\n",
       "      <th>first_buy_price</th>\n",
       "      <th>lowest_price</th>\n",
       "      <th>last_notif_dt</th>\n",
       "      <th>forecast_first_target_price</th>\n",
       "      <th>forecast_first_good_price</th>\n",
       "      <th>forecast_last_target_price</th>\n",
       "      <th>forecast_last_good_price</th>\n",
       "      <th>forecast_last_warning_date</th>\n",
       "      <th>forecast_last_danger_date</th>\n",
       "      <th>forecast_min_target_price</th>\n",
       "      <th>forecast_max_target_price</th>\n",
       "      <th>forecast_min_good_price</th>\n",
       "      <th>forecast_max_good_price</th>\n",
       "      <th>first_advance</th>\n",
       "      <th>watch_advance</th>\n",
       "    </tr>\n",
       "  </thead>\n",
       "  <tbody>\n",
       "  </tbody>\n",
       "</table>\n",
       "</div>"
      ],
      "text/plain": [
       "Empty DataFrame\n",
       "Columns: [user_id, trip_id, trip_type, origin, destination, origin_type, destination_type, departure_date, return_date, stay, weekend, filter_no_lcc, filter_non_stop, filter_short_layover, filter_name, first_searched_dt, watch_added_dt, status_latest, latest_status_change_dt, status_updates, total_notifs, total_buy_notifs, first_rec, first_price, first_buy_dt, first_buy_price, lowest_price, last_notif_dt, forecast_first_target_price, forecast_first_good_price, forecast_last_target_price, forecast_last_good_price, forecast_last_warning_date, forecast_last_danger_date, forecast_min_target_price, forecast_max_target_price, forecast_min_good_price, forecast_max_good_price, first_advance, watch_advance]\n",
       "Index: []"
      ]
     },
     "execution_count": 250,
     "metadata": {},
     "output_type": "execute_result"
    }
   ],
   "source": [
    "watch_sample[(watch_sample['trip_type']=='one_way') & ~pd.isnull(watch_sample['stay'])]"
   ]
  },
  {
   "cell_type": "code",
   "execution_count": 251,
   "metadata": {},
   "outputs": [
    {
     "data": {
      "text/html": [
       "<div>\n",
       "<style scoped>\n",
       "    .dataframe tbody tr th:only-of-type {\n",
       "        vertical-align: middle;\n",
       "    }\n",
       "\n",
       "    .dataframe tbody tr th {\n",
       "        vertical-align: top;\n",
       "    }\n",
       "\n",
       "    .dataframe thead th {\n",
       "        text-align: right;\n",
       "    }\n",
       "</style>\n",
       "<table border=\"1\" class=\"dataframe\">\n",
       "  <thead>\n",
       "    <tr style=\"text-align: right;\">\n",
       "      <th></th>\n",
       "      <th>user_id</th>\n",
       "      <th>trip_id</th>\n",
       "      <th>trip_type</th>\n",
       "      <th>origin</th>\n",
       "      <th>destination</th>\n",
       "      <th>origin_type</th>\n",
       "      <th>destination_type</th>\n",
       "      <th>departure_date</th>\n",
       "      <th>return_date</th>\n",
       "      <th>stay</th>\n",
       "      <th>weekend</th>\n",
       "      <th>filter_no_lcc</th>\n",
       "      <th>filter_non_stop</th>\n",
       "      <th>filter_short_layover</th>\n",
       "      <th>filter_name</th>\n",
       "      <th>first_searched_dt</th>\n",
       "      <th>watch_added_dt</th>\n",
       "      <th>status_latest</th>\n",
       "      <th>latest_status_change_dt</th>\n",
       "      <th>status_updates</th>\n",
       "      <th>total_notifs</th>\n",
       "      <th>total_buy_notifs</th>\n",
       "      <th>first_rec</th>\n",
       "      <th>first_price</th>\n",
       "      <th>first_buy_dt</th>\n",
       "      <th>first_buy_price</th>\n",
       "      <th>lowest_price</th>\n",
       "      <th>last_notif_dt</th>\n",
       "      <th>forecast_first_target_price</th>\n",
       "      <th>forecast_first_good_price</th>\n",
       "      <th>forecast_last_target_price</th>\n",
       "      <th>forecast_last_good_price</th>\n",
       "      <th>forecast_last_warning_date</th>\n",
       "      <th>forecast_last_danger_date</th>\n",
       "      <th>forecast_min_target_price</th>\n",
       "      <th>forecast_max_target_price</th>\n",
       "      <th>forecast_min_good_price</th>\n",
       "      <th>forecast_max_good_price</th>\n",
       "      <th>first_advance</th>\n",
       "      <th>watch_advance</th>\n",
       "    </tr>\n",
       "  </thead>\n",
       "  <tbody>\n",
       "  </tbody>\n",
       "</table>\n",
       "</div>"
      ],
      "text/plain": [
       "Empty DataFrame\n",
       "Columns: [user_id, trip_id, trip_type, origin, destination, origin_type, destination_type, departure_date, return_date, stay, weekend, filter_no_lcc, filter_non_stop, filter_short_layover, filter_name, first_searched_dt, watch_added_dt, status_latest, latest_status_change_dt, status_updates, total_notifs, total_buy_notifs, first_rec, first_price, first_buy_dt, first_buy_price, lowest_price, last_notif_dt, forecast_first_target_price, forecast_first_good_price, forecast_last_target_price, forecast_last_good_price, forecast_last_warning_date, forecast_last_danger_date, forecast_min_target_price, forecast_max_target_price, forecast_min_good_price, forecast_max_good_price, first_advance, watch_advance]\n",
       "Index: []"
      ]
     },
     "execution_count": 251,
     "metadata": {},
     "output_type": "execute_result"
    }
   ],
   "source": [
    "watch_sample[(watch_sample['trip_type']!='one_way') & pd.isnull(watch_sample['stay'])]"
   ]
  },
  {
   "cell_type": "code",
   "execution_count": 252,
   "metadata": {},
   "outputs": [],
   "source": [
    "trip_features = ['trip_id','trip_type','origin','destination','origin_type','destination_type','departure_date','return_date','stay','weekend',\n",
    "'filter_no_lcc','filter_non_stop','filter_short_layover','filter_name']"
   ]
  },
  {
   "cell_type": "code",
   "execution_count": 253,
   "metadata": {},
   "outputs": [],
   "source": [
    "trip_data = watch_sample[trip_features].drop_duplicates()"
   ]
  },
  {
   "cell_type": "code",
   "execution_count": 254,
   "metadata": {},
   "outputs": [
    {
     "data": {
      "text/plain": [
       "(49873, 14)"
      ]
     },
     "execution_count": 254,
     "metadata": {},
     "output_type": "execute_result"
    }
   ],
   "source": [
    "trip_data.shape"
   ]
  },
  {
   "cell_type": "code",
   "execution_count": 255,
   "metadata": {},
   "outputs": [
    {
     "data": {
      "text/plain": [
       "array(['NoFilter', 'And(NonStop,NoLCC)', 'ShortLayover', 'NonStop',\n",
       "       'NoLCC', 'And(ShortLayover,NoLCC)'], dtype=object)"
      ]
     },
     "execution_count": 255,
     "metadata": {},
     "output_type": "execute_result"
    }
   ],
   "source": [
    "trip_data['filter_name'].unique()"
   ]
  },
  {
   "cell_type": "code",
   "execution_count": 256,
   "metadata": {},
   "outputs": [],
   "source": [
    "trip_data_origin = trip_data.merge(airport[['location_id','latitude','longitude']], left_on='origin', right_on='location_id')"
   ]
  },
  {
   "cell_type": "code",
   "execution_count": 257,
   "metadata": {},
   "outputs": [],
   "source": [
    "trip_data_origin.rename(columns = {'latitude':'latitude_origin'}, inplace = True) \n",
    "trip_data_origin.rename(columns = {'longitude':'longitude_origin'}, inplace = True) "
   ]
  },
  {
   "cell_type": "code",
   "execution_count": 258,
   "metadata": {},
   "outputs": [],
   "source": [
    "trip_data_destination =  trip_data_origin.merge(airport[['location_id','latitude','longitude']], left_on='destination', right_on='location_id')"
   ]
  },
  {
   "cell_type": "code",
   "execution_count": 259,
   "metadata": {},
   "outputs": [],
   "source": [
    "trip_data_destination.rename(columns = {'latitude':'latitude_destination'}, inplace = True) \n",
    "trip_data_destination.rename(columns = {'longitude':'longitude_destination'}, inplace = True) "
   ]
  },
  {
   "cell_type": "code",
   "execution_count": 260,
   "metadata": {},
   "outputs": [
    {
     "data": {
      "text/html": [
       "<div>\n",
       "<style scoped>\n",
       "    .dataframe tbody tr th:only-of-type {\n",
       "        vertical-align: middle;\n",
       "    }\n",
       "\n",
       "    .dataframe tbody tr th {\n",
       "        vertical-align: top;\n",
       "    }\n",
       "\n",
       "    .dataframe thead th {\n",
       "        text-align: right;\n",
       "    }\n",
       "</style>\n",
       "<table border=\"1\" class=\"dataframe\">\n",
       "  <thead>\n",
       "    <tr style=\"text-align: right;\">\n",
       "      <th></th>\n",
       "      <th>trip_id</th>\n",
       "      <th>trip_type</th>\n",
       "      <th>origin</th>\n",
       "      <th>destination</th>\n",
       "      <th>origin_type</th>\n",
       "      <th>destination_type</th>\n",
       "      <th>departure_date</th>\n",
       "      <th>return_date</th>\n",
       "      <th>stay</th>\n",
       "      <th>weekend</th>\n",
       "      <th>filter_no_lcc</th>\n",
       "      <th>filter_non_stop</th>\n",
       "      <th>filter_short_layover</th>\n",
       "      <th>filter_name</th>\n",
       "      <th>location_id_x</th>\n",
       "      <th>latitude_origin</th>\n",
       "      <th>longitude_origin</th>\n",
       "      <th>location_id_y</th>\n",
       "      <th>latitude_destination</th>\n",
       "      <th>longitude_destination</th>\n",
       "    </tr>\n",
       "  </thead>\n",
       "  <tbody>\n",
       "    <tr>\n",
       "      <th>0</th>\n",
       "      <td>ddc5e806-226f-335d-a9f9-e59c55550832</td>\n",
       "      <td>one_way</td>\n",
       "      <td>airport/BCN</td>\n",
       "      <td>airport/EWR</td>\n",
       "      <td>airport</td>\n",
       "      <td>airport</td>\n",
       "      <td>2018-03-01</td>\n",
       "      <td>NaT</td>\n",
       "      <td>NaN</td>\n",
       "      <td>0</td>\n",
       "      <td>0</td>\n",
       "      <td>0</td>\n",
       "      <td>0</td>\n",
       "      <td>NoFilter</td>\n",
       "      <td>airport/BCN</td>\n",
       "      <td>41.297100</td>\n",
       "      <td>2.07846</td>\n",
       "      <td>airport/EWR</td>\n",
       "      <td>40.692501</td>\n",
       "      <td>-74.168701</td>\n",
       "    </tr>\n",
       "    <tr>\n",
       "      <th>1</th>\n",
       "      <td>f5552c10-5465-30a2-a34a-66b9fc06bc24</td>\n",
       "      <td>round_trip</td>\n",
       "      <td>airport/BCN</td>\n",
       "      <td>airport/EWR</td>\n",
       "      <td>airport</td>\n",
       "      <td>airport</td>\n",
       "      <td>2019-07-28</td>\n",
       "      <td>2019-08-10</td>\n",
       "      <td>13.0</td>\n",
       "      <td>0</td>\n",
       "      <td>0</td>\n",
       "      <td>1</td>\n",
       "      <td>0</td>\n",
       "      <td>NonStop</td>\n",
       "      <td>airport/BCN</td>\n",
       "      <td>41.297100</td>\n",
       "      <td>2.07846</td>\n",
       "      <td>airport/EWR</td>\n",
       "      <td>40.692501</td>\n",
       "      <td>-74.168701</td>\n",
       "    </tr>\n",
       "    <tr>\n",
       "      <th>2</th>\n",
       "      <td>99341aa4-341a-372c-8d0d-78b7a64728c9</td>\n",
       "      <td>one_way</td>\n",
       "      <td>airport/BCN</td>\n",
       "      <td>airport/EWR</td>\n",
       "      <td>airport</td>\n",
       "      <td>airport</td>\n",
       "      <td>2018-02-28</td>\n",
       "      <td>NaT</td>\n",
       "      <td>NaN</td>\n",
       "      <td>0</td>\n",
       "      <td>0</td>\n",
       "      <td>0</td>\n",
       "      <td>0</td>\n",
       "      <td>NoFilter</td>\n",
       "      <td>airport/BCN</td>\n",
       "      <td>41.297100</td>\n",
       "      <td>2.07846</td>\n",
       "      <td>airport/EWR</td>\n",
       "      <td>40.692501</td>\n",
       "      <td>-74.168701</td>\n",
       "    </tr>\n",
       "    <tr>\n",
       "      <th>3</th>\n",
       "      <td>d72776c7-015e-3b16-9400-56eff2594194</td>\n",
       "      <td>round_trip</td>\n",
       "      <td>city/QHO</td>\n",
       "      <td>airport/EWR</td>\n",
       "      <td>city</td>\n",
       "      <td>airport</td>\n",
       "      <td>2019-01-08</td>\n",
       "      <td>2019-01-13</td>\n",
       "      <td>5.0</td>\n",
       "      <td>0</td>\n",
       "      <td>1</td>\n",
       "      <td>0</td>\n",
       "      <td>0</td>\n",
       "      <td>NoLCC</td>\n",
       "      <td>city/QHO</td>\n",
       "      <td>29.814899</td>\n",
       "      <td>-95.31015</td>\n",
       "      <td>airport/EWR</td>\n",
       "      <td>40.692501</td>\n",
       "      <td>-74.168701</td>\n",
       "    </tr>\n",
       "    <tr>\n",
       "      <th>4</th>\n",
       "      <td>cab24962-174d-352d-be46-d9500a3b0127</td>\n",
       "      <td>round_trip</td>\n",
       "      <td>city/QHO</td>\n",
       "      <td>airport/EWR</td>\n",
       "      <td>city</td>\n",
       "      <td>airport</td>\n",
       "      <td>2018-04-09</td>\n",
       "      <td>2018-04-20</td>\n",
       "      <td>11.0</td>\n",
       "      <td>0</td>\n",
       "      <td>0</td>\n",
       "      <td>0</td>\n",
       "      <td>0</td>\n",
       "      <td>NoFilter</td>\n",
       "      <td>city/QHO</td>\n",
       "      <td>29.814899</td>\n",
       "      <td>-95.31015</td>\n",
       "      <td>airport/EWR</td>\n",
       "      <td>40.692501</td>\n",
       "      <td>-74.168701</td>\n",
       "    </tr>\n",
       "  </tbody>\n",
       "</table>\n",
       "</div>"
      ],
      "text/plain": [
       "                                trip_id   trip_type       origin  destination  \\\n",
       "0  ddc5e806-226f-335d-a9f9-e59c55550832     one_way  airport/BCN  airport/EWR   \n",
       "1  f5552c10-5465-30a2-a34a-66b9fc06bc24  round_trip  airport/BCN  airport/EWR   \n",
       "2  99341aa4-341a-372c-8d0d-78b7a64728c9     one_way  airport/BCN  airport/EWR   \n",
       "3  d72776c7-015e-3b16-9400-56eff2594194  round_trip     city/QHO  airport/EWR   \n",
       "4  cab24962-174d-352d-be46-d9500a3b0127  round_trip     city/QHO  airport/EWR   \n",
       "\n",
       "  origin_type destination_type departure_date return_date  stay  weekend  \\\n",
       "0     airport          airport     2018-03-01         NaT   NaN        0   \n",
       "1     airport          airport     2019-07-28  2019-08-10  13.0        0   \n",
       "2     airport          airport     2018-02-28         NaT   NaN        0   \n",
       "3        city          airport     2019-01-08  2019-01-13   5.0        0   \n",
       "4        city          airport     2018-04-09  2018-04-20  11.0        0   \n",
       "\n",
       "   filter_no_lcc  filter_non_stop  filter_short_layover filter_name  \\\n",
       "0              0                0                     0    NoFilter   \n",
       "1              0                1                     0     NonStop   \n",
       "2              0                0                     0    NoFilter   \n",
       "3              1                0                     0       NoLCC   \n",
       "4              0                0                     0    NoFilter   \n",
       "\n",
       "  location_id_x  latitude_origin  longitude_origin location_id_y  \\\n",
       "0   airport/BCN        41.297100           2.07846   airport/EWR   \n",
       "1   airport/BCN        41.297100           2.07846   airport/EWR   \n",
       "2   airport/BCN        41.297100           2.07846   airport/EWR   \n",
       "3      city/QHO        29.814899         -95.31015   airport/EWR   \n",
       "4      city/QHO        29.814899         -95.31015   airport/EWR   \n",
       "\n",
       "   latitude_destination  longitude_destination  \n",
       "0             40.692501             -74.168701  \n",
       "1             40.692501             -74.168701  \n",
       "2             40.692501             -74.168701  \n",
       "3             40.692501             -74.168701  \n",
       "4             40.692501             -74.168701  "
      ]
     },
     "execution_count": 260,
     "metadata": {},
     "output_type": "execute_result"
    }
   ],
   "source": [
    "trip_data_destination.head()"
   ]
  },
  {
   "cell_type": "code",
   "execution_count": 261,
   "metadata": {},
   "outputs": [],
   "source": [
    "trip_data_destination.drop(['origin','destination','location_id_x','location_id_y'], axis=1, inplace=True)"
   ]
  },
  {
   "cell_type": "code",
   "execution_count": 262,
   "metadata": {},
   "outputs": [
    {
     "data": {
      "text/plain": [
       "Index(['trip_id', 'trip_type', 'origin_type', 'destination_type',\n",
       "       'departure_date', 'return_date', 'stay', 'weekend', 'filter_no_lcc',\n",
       "       'filter_non_stop', 'filter_short_layover', 'filter_name',\n",
       "       'latitude_origin', 'longitude_origin', 'latitude_destination',\n",
       "       'longitude_destination'],\n",
       "      dtype='object')"
      ]
     },
     "execution_count": 262,
     "metadata": {},
     "output_type": "execute_result"
    }
   ],
   "source": [
    "trip_data_destination.columns"
   ]
  },
  {
   "cell_type": "code",
   "execution_count": 263,
   "metadata": {},
   "outputs": [
    {
     "data": {
      "text/plain": [
       "round_trip    40503\n",
       "one_way        9370\n",
       "Name: trip_type, dtype: int64"
      ]
     },
     "execution_count": 263,
     "metadata": {},
     "output_type": "execute_result"
    }
   ],
   "source": [
    "trip_data_destination['trip_type'].value_counts()"
   ]
  },
  {
   "cell_type": "code",
   "execution_count": 264,
   "metadata": {},
   "outputs": [],
   "source": [
    "#trip_data_destination['departure_month'] = trip_data_destination['departure_date'].apply(lambda x: x.strftime('%B'))"
   ]
  },
  {
   "cell_type": "code",
   "execution_count": 265,
   "metadata": {},
   "outputs": [],
   "source": [
    "trip_data_destination['departure_month'] = pd.DatetimeIndex(trip_data_destination['departure_date']).month"
   ]
  },
  {
   "cell_type": "code",
   "execution_count": 266,
   "metadata": {},
   "outputs": [],
   "source": [
    "trip_data_destination['departure_year'] = pd.DatetimeIndex(trip_data_destination['departure_date']).year"
   ]
  },
  {
   "cell_type": "code",
   "execution_count": 267,
   "metadata": {},
   "outputs": [
    {
     "data": {
      "text/plain": [
       "-514"
      ]
     },
     "execution_count": 267,
     "metadata": {},
     "output_type": "execute_result"
    }
   ],
   "source": [
    "(trip_data_destination['departure_date'][0] -trip_data_destination['departure_date'][1]  ).days"
   ]
  },
  {
   "cell_type": "code",
   "execution_count": 268,
   "metadata": {},
   "outputs": [],
   "source": [
    "dummies = pd.get_dummies(trip_data_destination[['origin_type','destination_type','filter_name']])"
   ]
  },
  {
   "cell_type": "code",
   "execution_count": 269,
   "metadata": {},
   "outputs": [],
   "source": [
    "trip_data_dummies = pd.concat([trip_data_destination,dummies], axis=1)"
   ]
  },
  {
   "cell_type": "code",
   "execution_count": 270,
   "metadata": {},
   "outputs": [
    {
     "data": {
      "text/html": [
       "<div>\n",
       "<style scoped>\n",
       "    .dataframe tbody tr th:only-of-type {\n",
       "        vertical-align: middle;\n",
       "    }\n",
       "\n",
       "    .dataframe tbody tr th {\n",
       "        vertical-align: top;\n",
       "    }\n",
       "\n",
       "    .dataframe thead th {\n",
       "        text-align: right;\n",
       "    }\n",
       "</style>\n",
       "<table border=\"1\" class=\"dataframe\">\n",
       "  <thead>\n",
       "    <tr style=\"text-align: right;\">\n",
       "      <th></th>\n",
       "      <th>trip_id</th>\n",
       "      <th>trip_type</th>\n",
       "      <th>origin_type</th>\n",
       "      <th>destination_type</th>\n",
       "      <th>departure_date</th>\n",
       "      <th>return_date</th>\n",
       "      <th>stay</th>\n",
       "      <th>weekend</th>\n",
       "      <th>filter_no_lcc</th>\n",
       "      <th>filter_non_stop</th>\n",
       "      <th>filter_short_layover</th>\n",
       "      <th>filter_name</th>\n",
       "      <th>latitude_origin</th>\n",
       "      <th>longitude_origin</th>\n",
       "      <th>latitude_destination</th>\n",
       "      <th>longitude_destination</th>\n",
       "      <th>departure_month</th>\n",
       "      <th>departure_year</th>\n",
       "      <th>origin_type_airport</th>\n",
       "      <th>origin_type_city</th>\n",
       "      <th>destination_type_airport</th>\n",
       "      <th>destination_type_city</th>\n",
       "      <th>filter_name_And(NonStop,NoLCC)</th>\n",
       "      <th>filter_name_And(ShortLayover,NoLCC)</th>\n",
       "      <th>filter_name_NoFilter</th>\n",
       "      <th>filter_name_NoLCC</th>\n",
       "      <th>filter_name_NonStop</th>\n",
       "      <th>filter_name_ShortLayover</th>\n",
       "    </tr>\n",
       "  </thead>\n",
       "  <tbody>\n",
       "    <tr>\n",
       "      <th>0</th>\n",
       "      <td>ddc5e806-226f-335d-a9f9-e59c55550832</td>\n",
       "      <td>one_way</td>\n",
       "      <td>airport</td>\n",
       "      <td>airport</td>\n",
       "      <td>2018-03-01</td>\n",
       "      <td>NaT</td>\n",
       "      <td>NaN</td>\n",
       "      <td>0</td>\n",
       "      <td>0</td>\n",
       "      <td>0</td>\n",
       "      <td>0</td>\n",
       "      <td>NoFilter</td>\n",
       "      <td>41.297100</td>\n",
       "      <td>2.07846</td>\n",
       "      <td>40.692501</td>\n",
       "      <td>-74.168701</td>\n",
       "      <td>3</td>\n",
       "      <td>2018</td>\n",
       "      <td>1</td>\n",
       "      <td>0</td>\n",
       "      <td>1</td>\n",
       "      <td>0</td>\n",
       "      <td>0</td>\n",
       "      <td>0</td>\n",
       "      <td>1</td>\n",
       "      <td>0</td>\n",
       "      <td>0</td>\n",
       "      <td>0</td>\n",
       "    </tr>\n",
       "    <tr>\n",
       "      <th>1</th>\n",
       "      <td>f5552c10-5465-30a2-a34a-66b9fc06bc24</td>\n",
       "      <td>round_trip</td>\n",
       "      <td>airport</td>\n",
       "      <td>airport</td>\n",
       "      <td>2019-07-28</td>\n",
       "      <td>2019-08-10</td>\n",
       "      <td>13.0</td>\n",
       "      <td>0</td>\n",
       "      <td>0</td>\n",
       "      <td>1</td>\n",
       "      <td>0</td>\n",
       "      <td>NonStop</td>\n",
       "      <td>41.297100</td>\n",
       "      <td>2.07846</td>\n",
       "      <td>40.692501</td>\n",
       "      <td>-74.168701</td>\n",
       "      <td>7</td>\n",
       "      <td>2019</td>\n",
       "      <td>1</td>\n",
       "      <td>0</td>\n",
       "      <td>1</td>\n",
       "      <td>0</td>\n",
       "      <td>0</td>\n",
       "      <td>0</td>\n",
       "      <td>0</td>\n",
       "      <td>0</td>\n",
       "      <td>1</td>\n",
       "      <td>0</td>\n",
       "    </tr>\n",
       "    <tr>\n",
       "      <th>2</th>\n",
       "      <td>99341aa4-341a-372c-8d0d-78b7a64728c9</td>\n",
       "      <td>one_way</td>\n",
       "      <td>airport</td>\n",
       "      <td>airport</td>\n",
       "      <td>2018-02-28</td>\n",
       "      <td>NaT</td>\n",
       "      <td>NaN</td>\n",
       "      <td>0</td>\n",
       "      <td>0</td>\n",
       "      <td>0</td>\n",
       "      <td>0</td>\n",
       "      <td>NoFilter</td>\n",
       "      <td>41.297100</td>\n",
       "      <td>2.07846</td>\n",
       "      <td>40.692501</td>\n",
       "      <td>-74.168701</td>\n",
       "      <td>2</td>\n",
       "      <td>2018</td>\n",
       "      <td>1</td>\n",
       "      <td>0</td>\n",
       "      <td>1</td>\n",
       "      <td>0</td>\n",
       "      <td>0</td>\n",
       "      <td>0</td>\n",
       "      <td>1</td>\n",
       "      <td>0</td>\n",
       "      <td>0</td>\n",
       "      <td>0</td>\n",
       "    </tr>\n",
       "    <tr>\n",
       "      <th>3</th>\n",
       "      <td>d72776c7-015e-3b16-9400-56eff2594194</td>\n",
       "      <td>round_trip</td>\n",
       "      <td>city</td>\n",
       "      <td>airport</td>\n",
       "      <td>2019-01-08</td>\n",
       "      <td>2019-01-13</td>\n",
       "      <td>5.0</td>\n",
       "      <td>0</td>\n",
       "      <td>1</td>\n",
       "      <td>0</td>\n",
       "      <td>0</td>\n",
       "      <td>NoLCC</td>\n",
       "      <td>29.814899</td>\n",
       "      <td>-95.31015</td>\n",
       "      <td>40.692501</td>\n",
       "      <td>-74.168701</td>\n",
       "      <td>1</td>\n",
       "      <td>2019</td>\n",
       "      <td>0</td>\n",
       "      <td>1</td>\n",
       "      <td>1</td>\n",
       "      <td>0</td>\n",
       "      <td>0</td>\n",
       "      <td>0</td>\n",
       "      <td>0</td>\n",
       "      <td>1</td>\n",
       "      <td>0</td>\n",
       "      <td>0</td>\n",
       "    </tr>\n",
       "    <tr>\n",
       "      <th>4</th>\n",
       "      <td>cab24962-174d-352d-be46-d9500a3b0127</td>\n",
       "      <td>round_trip</td>\n",
       "      <td>city</td>\n",
       "      <td>airport</td>\n",
       "      <td>2018-04-09</td>\n",
       "      <td>2018-04-20</td>\n",
       "      <td>11.0</td>\n",
       "      <td>0</td>\n",
       "      <td>0</td>\n",
       "      <td>0</td>\n",
       "      <td>0</td>\n",
       "      <td>NoFilter</td>\n",
       "      <td>29.814899</td>\n",
       "      <td>-95.31015</td>\n",
       "      <td>40.692501</td>\n",
       "      <td>-74.168701</td>\n",
       "      <td>4</td>\n",
       "      <td>2018</td>\n",
       "      <td>0</td>\n",
       "      <td>1</td>\n",
       "      <td>1</td>\n",
       "      <td>0</td>\n",
       "      <td>0</td>\n",
       "      <td>0</td>\n",
       "      <td>1</td>\n",
       "      <td>0</td>\n",
       "      <td>0</td>\n",
       "      <td>0</td>\n",
       "    </tr>\n",
       "  </tbody>\n",
       "</table>\n",
       "</div>"
      ],
      "text/plain": [
       "                                trip_id   trip_type origin_type  \\\n",
       "0  ddc5e806-226f-335d-a9f9-e59c55550832     one_way     airport   \n",
       "1  f5552c10-5465-30a2-a34a-66b9fc06bc24  round_trip     airport   \n",
       "2  99341aa4-341a-372c-8d0d-78b7a64728c9     one_way     airport   \n",
       "3  d72776c7-015e-3b16-9400-56eff2594194  round_trip        city   \n",
       "4  cab24962-174d-352d-be46-d9500a3b0127  round_trip        city   \n",
       "\n",
       "  destination_type departure_date return_date  stay  weekend  filter_no_lcc  \\\n",
       "0          airport     2018-03-01         NaT   NaN        0              0   \n",
       "1          airport     2019-07-28  2019-08-10  13.0        0              0   \n",
       "2          airport     2018-02-28         NaT   NaN        0              0   \n",
       "3          airport     2019-01-08  2019-01-13   5.0        0              1   \n",
       "4          airport     2018-04-09  2018-04-20  11.0        0              0   \n",
       "\n",
       "   filter_non_stop  filter_short_layover filter_name  latitude_origin  \\\n",
       "0                0                     0    NoFilter        41.297100   \n",
       "1                1                     0     NonStop        41.297100   \n",
       "2                0                     0    NoFilter        41.297100   \n",
       "3                0                     0       NoLCC        29.814899   \n",
       "4                0                     0    NoFilter        29.814899   \n",
       "\n",
       "   longitude_origin  latitude_destination  longitude_destination  \\\n",
       "0           2.07846             40.692501             -74.168701   \n",
       "1           2.07846             40.692501             -74.168701   \n",
       "2           2.07846             40.692501             -74.168701   \n",
       "3         -95.31015             40.692501             -74.168701   \n",
       "4         -95.31015             40.692501             -74.168701   \n",
       "\n",
       "   departure_month  departure_year  origin_type_airport  origin_type_city  \\\n",
       "0                3            2018                    1                 0   \n",
       "1                7            2019                    1                 0   \n",
       "2                2            2018                    1                 0   \n",
       "3                1            2019                    0                 1   \n",
       "4                4            2018                    0                 1   \n",
       "\n",
       "   destination_type_airport  destination_type_city  \\\n",
       "0                         1                      0   \n",
       "1                         1                      0   \n",
       "2                         1                      0   \n",
       "3                         1                      0   \n",
       "4                         1                      0   \n",
       "\n",
       "   filter_name_And(NonStop,NoLCC)  filter_name_And(ShortLayover,NoLCC)  \\\n",
       "0                               0                                    0   \n",
       "1                               0                                    0   \n",
       "2                               0                                    0   \n",
       "3                               0                                    0   \n",
       "4                               0                                    0   \n",
       "\n",
       "   filter_name_NoFilter  filter_name_NoLCC  filter_name_NonStop  \\\n",
       "0                     1                  0                    0   \n",
       "1                     0                  0                    1   \n",
       "2                     1                  0                    0   \n",
       "3                     0                  1                    0   \n",
       "4                     1                  0                    0   \n",
       "\n",
       "   filter_name_ShortLayover  \n",
       "0                         0  \n",
       "1                         0  \n",
       "2                         0  \n",
       "3                         0  \n",
       "4                         0  "
      ]
     },
     "execution_count": 270,
     "metadata": {},
     "output_type": "execute_result"
    }
   ],
   "source": [
    "trip_data_dummies.head()"
   ]
  },
  {
   "cell_type": "code",
   "execution_count": 271,
   "metadata": {},
   "outputs": [],
   "source": [
    "trip_data_one_way = trip_data_dummies[trip_data_dummies['trip_type']=='one_way']"
   ]
  },
  {
   "cell_type": "code",
   "execution_count": 272,
   "metadata": {},
   "outputs": [
    {
     "name": "stderr",
     "output_type": "stream",
     "text": [
      "C:\\Users\\ankur\\AppData\\Local\\Continuum\\anaconda3\\lib\\site-packages\\pandas\\core\\frame.py:3694: SettingWithCopyWarning: \n",
      "A value is trying to be set on a copy of a slice from a DataFrame\n",
      "\n",
      "See the caveats in the documentation: http://pandas.pydata.org/pandas-docs/stable/indexing.html#indexing-view-versus-copy\n",
      "  errors=errors)\n"
     ]
    }
   ],
   "source": [
    "trip_data_one_way.drop(['trip_type','departure_date','origin_type','destination_type','return_date','stay','filter_name'], axis=1, inplace=True)"
   ]
  },
  {
   "cell_type": "code",
   "execution_count": 273,
   "metadata": {},
   "outputs": [
    {
     "data": {
      "text/plain": [
       "Index(['trip_id', 'weekend', 'filter_no_lcc', 'filter_non_stop',\n",
       "       'filter_short_layover', 'latitude_origin', 'longitude_origin',\n",
       "       'latitude_destination', 'longitude_destination', 'departure_month',\n",
       "       'departure_year', 'origin_type_airport', 'origin_type_city',\n",
       "       'destination_type_airport', 'destination_type_city',\n",
       "       'filter_name_And(NonStop,NoLCC)', 'filter_name_And(ShortLayover,NoLCC)',\n",
       "       'filter_name_NoFilter', 'filter_name_NoLCC', 'filter_name_NonStop',\n",
       "       'filter_name_ShortLayover'],\n",
       "      dtype='object')"
      ]
     },
     "execution_count": 273,
     "metadata": {},
     "output_type": "execute_result"
    }
   ],
   "source": [
    "trip_data_one_way.columns"
   ]
  },
  {
   "cell_type": "code",
   "execution_count": 274,
   "metadata": {},
   "outputs": [],
   "source": [
    "trip_data_one_way_indexed= trip_data_one_way.set_index('trip_id')"
   ]
  },
  {
   "cell_type": "code",
   "execution_count": 275,
   "metadata": {},
   "outputs": [
    {
     "data": {
      "text/plain": [
       "(9370, 20)"
      ]
     },
     "execution_count": 275,
     "metadata": {},
     "output_type": "execute_result"
    }
   ],
   "source": [
    "trip_data_one_way_indexed.values.shape"
   ]
  },
  {
   "cell_type": "code",
   "execution_count": 276,
   "metadata": {},
   "outputs": [],
   "source": [
    "trip_data_two_way = trip_data_dummies[trip_data_dummies['trip_type']=='round_trip']"
   ]
  },
  {
   "cell_type": "code",
   "execution_count": 277,
   "metadata": {},
   "outputs": [
    {
     "name": "stderr",
     "output_type": "stream",
     "text": [
      "C:\\Users\\ankur\\AppData\\Local\\Continuum\\anaconda3\\lib\\site-packages\\pandas\\core\\frame.py:3694: SettingWithCopyWarning: \n",
      "A value is trying to be set on a copy of a slice from a DataFrame\n",
      "\n",
      "See the caveats in the documentation: http://pandas.pydata.org/pandas-docs/stable/indexing.html#indexing-view-versus-copy\n",
      "  errors=errors)\n"
     ]
    }
   ],
   "source": [
    "trip_data_two_way.drop(['trip_type','origin_type','destination_type','filter_name'], axis=1, inplace=True)"
   ]
  },
  {
   "cell_type": "code",
   "execution_count": 145,
   "metadata": {},
   "outputs": [],
   "source": [
    "from sklearn.metrics.pairwise import euclidean_distances\n"
   ]
  },
  {
   "cell_type": "code",
   "execution_count": 278,
   "metadata": {},
   "outputs": [],
   "source": [
    "matrix_one_way = trip_data_one_way_indexed.values"
   ]
  },
  {
   "cell_type": "code",
   "execution_count": null,
   "metadata": {},
   "outputs": [],
   "source": []
  },
  {
   "cell_type": "code",
   "execution_count": 225,
   "metadata": {},
   "outputs": [
    {
     "data": {
      "text/plain": [
       "(18716, 20)"
      ]
     },
     "execution_count": 225,
     "metadata": {},
     "output_type": "execute_result"
    }
   ],
   "source": [
    "matrix_one_way.shape"
   ]
  },
  {
   "cell_type": "code",
   "execution_count": 279,
   "metadata": {},
   "outputs": [],
   "source": [
    "dist = euclidean_distances(matrix_one_way, matrix_one_way)"
   ]
  },
  {
   "cell_type": "code",
   "execution_count": 285,
   "metadata": {},
   "outputs": [
    {
     "data": {
      "text/plain": [
       "(9370, 9370)"
      ]
     },
     "execution_count": 285,
     "metadata": {},
     "output_type": "execute_result"
    }
   ],
   "source": [
    "dist.shape"
   ]
  },
  {
   "cell_type": "code",
   "execution_count": 286,
   "metadata": {},
   "outputs": [],
   "source": [
    "dist_df = pd.DataFrame(dist, columns =trip_data_one_way_indexed.index )"
   ]
  },
  {
   "cell_type": "code",
   "execution_count": 290,
   "metadata": {},
   "outputs": [],
   "source": [
    "dist_df.index = trip_data_one_way_indexed.index"
   ]
  },
  {
   "cell_type": "code",
   "execution_count": 292,
   "metadata": {},
   "outputs": [
    {
     "data": {
      "text/plain": [
       "2"
      ]
     },
     "execution_count": 292,
     "metadata": {},
     "output_type": "execute_result"
    }
   ],
   "source": [
    "a = [1,4,0,2]\n",
    "a.index(min(a))"
   ]
  },
  {
   "cell_type": "code",
   "execution_count": 295,
   "metadata": {},
   "outputs": [],
   "source": [
    "trip_ids = list(trip_data_one_way_indexed.index)"
   ]
  },
  {
   "cell_type": "code",
   "execution_count": 315,
   "metadata": {},
   "outputs": [],
   "source": [
    "import gc"
   ]
  },
  {
   "cell_type": "code",
   "execution_count": 418,
   "metadata": {},
   "outputs": [
    {
     "data": {
      "text/plain": [
       "815"
      ]
     },
     "execution_count": 418,
     "metadata": {},
     "output_type": "execute_result"
    }
   ],
   "source": [
    "gc.collect()"
   ]
  },
  {
   "cell_type": "code",
   "execution_count": 321,
   "metadata": {},
   "outputs": [],
   "source": [
    "from heapq import nsmallest\n",
    "\n",
    "def second_smallest(numbers):\n",
    "    return nsmallest(2, numbers)[-1]"
   ]
  },
  {
   "cell_type": "code",
   "execution_count": 322,
   "metadata": {},
   "outputs": [],
   "source": [
    "def min_trip(y):\n",
    "    x = list(y)\n",
    "    num = second_smallest(x)\n",
    "    ind = x.index(num)\n",
    "    return trip_ids[ind]\n"
   ]
  },
  {
   "cell_type": "code",
   "execution_count": 323,
   "metadata": {},
   "outputs": [],
   "source": [
    "dist_df['minimum_dis_trip'] = dist_df.apply(min_trip)"
   ]
  },
  {
   "cell_type": "code",
   "execution_count": 324,
   "metadata": {},
   "outputs": [
    {
     "data": {
      "text/plain": [
       "trip_id\n",
       "ddc5e806-226f-335d-a9f9-e59c55550832    99341aa4-341a-372c-8d0d-78b7a64728c9\n",
       "99341aa4-341a-372c-8d0d-78b7a64728c9    ddc5e806-226f-335d-a9f9-e59c55550832\n",
       "2bd02cc2-c2ed-3e20-8e5b-4de41043a6c3    aceafca2-4e1c-31c9-bbb3-ac8713526141\n",
       "01aa02ef-9787-3c5b-9118-ca6859fe9fd2    9c5a173c-d102-3e70-a84b-0ecb58ce5651\n",
       "e39df009-d84d-3b8a-800e-73966fc1ac23    c2de11cf-b913-36d7-a518-aa03a19bf295\n",
       "Name: minimum_dis_trip, dtype: object"
      ]
     },
     "execution_count": 324,
     "metadata": {},
     "output_type": "execute_result"
    }
   ],
   "source": [
    "dist_df['minimum_dis_trip'].head()"
   ]
  },
  {
   "cell_type": "code",
   "execution_count": 413,
   "metadata": {},
   "outputs": [
    {
     "data": {
      "text/html": [
       "<div>\n",
       "<style scoped>\n",
       "    .dataframe tbody tr th:only-of-type {\n",
       "        vertical-align: middle;\n",
       "    }\n",
       "\n",
       "    .dataframe tbody tr th {\n",
       "        vertical-align: top;\n",
       "    }\n",
       "\n",
       "    .dataframe thead th {\n",
       "        text-align: right;\n",
       "    }\n",
       "</style>\n",
       "<table border=\"1\" class=\"dataframe\">\n",
       "  <thead>\n",
       "    <tr style=\"text-align: right;\">\n",
       "      <th></th>\n",
       "      <th>trip_id</th>\n",
       "      <th>weekend</th>\n",
       "      <th>filter_no_lcc</th>\n",
       "      <th>filter_non_stop</th>\n",
       "      <th>filter_short_layover</th>\n",
       "      <th>latitude_origin</th>\n",
       "      <th>longitude_origin</th>\n",
       "      <th>latitude_destination</th>\n",
       "      <th>longitude_destination</th>\n",
       "      <th>departure_month</th>\n",
       "      <th>departure_year</th>\n",
       "      <th>origin_type_airport</th>\n",
       "      <th>origin_type_city</th>\n",
       "      <th>destination_type_airport</th>\n",
       "      <th>destination_type_city</th>\n",
       "      <th>filter_name_And(NonStop,NoLCC)</th>\n",
       "      <th>filter_name_And(ShortLayover,NoLCC)</th>\n",
       "      <th>filter_name_NoFilter</th>\n",
       "      <th>filter_name_NoLCC</th>\n",
       "      <th>filter_name_NonStop</th>\n",
       "      <th>filter_name_ShortLayover</th>\n",
       "    </tr>\n",
       "  </thead>\n",
       "  <tbody>\n",
       "    <tr>\n",
       "      <th>0</th>\n",
       "      <td>ddc5e806-226f-335d-a9f9-e59c55550832</td>\n",
       "      <td>0</td>\n",
       "      <td>0</td>\n",
       "      <td>0</td>\n",
       "      <td>0</td>\n",
       "      <td>41.2971</td>\n",
       "      <td>2.07846</td>\n",
       "      <td>40.692501</td>\n",
       "      <td>-74.168701</td>\n",
       "      <td>3</td>\n",
       "      <td>2018</td>\n",
       "      <td>1</td>\n",
       "      <td>0</td>\n",
       "      <td>1</td>\n",
       "      <td>0</td>\n",
       "      <td>0</td>\n",
       "      <td>0</td>\n",
       "      <td>1</td>\n",
       "      <td>0</td>\n",
       "      <td>0</td>\n",
       "      <td>0</td>\n",
       "    </tr>\n",
       "    <tr>\n",
       "      <th>2</th>\n",
       "      <td>99341aa4-341a-372c-8d0d-78b7a64728c9</td>\n",
       "      <td>0</td>\n",
       "      <td>0</td>\n",
       "      <td>0</td>\n",
       "      <td>0</td>\n",
       "      <td>41.2971</td>\n",
       "      <td>2.07846</td>\n",
       "      <td>40.692501</td>\n",
       "      <td>-74.168701</td>\n",
       "      <td>2</td>\n",
       "      <td>2018</td>\n",
       "      <td>1</td>\n",
       "      <td>0</td>\n",
       "      <td>1</td>\n",
       "      <td>0</td>\n",
       "      <td>0</td>\n",
       "      <td>0</td>\n",
       "      <td>1</td>\n",
       "      <td>0</td>\n",
       "      <td>0</td>\n",
       "      <td>0</td>\n",
       "    </tr>\n",
       "  </tbody>\n",
       "</table>\n",
       "</div>"
      ],
      "text/plain": [
       "                                trip_id  weekend  filter_no_lcc  \\\n",
       "0  ddc5e806-226f-335d-a9f9-e59c55550832        0              0   \n",
       "2  99341aa4-341a-372c-8d0d-78b7a64728c9        0              0   \n",
       "\n",
       "   filter_non_stop  filter_short_layover  latitude_origin  longitude_origin  \\\n",
       "0                0                     0          41.2971           2.07846   \n",
       "2                0                     0          41.2971           2.07846   \n",
       "\n",
       "   latitude_destination  longitude_destination  departure_month  \\\n",
       "0             40.692501             -74.168701                3   \n",
       "2             40.692501             -74.168701                2   \n",
       "\n",
       "   departure_year  origin_type_airport  origin_type_city  \\\n",
       "0            2018                    1                 0   \n",
       "2            2018                    1                 0   \n",
       "\n",
       "   destination_type_airport  destination_type_city  \\\n",
       "0                         1                      0   \n",
       "2                         1                      0   \n",
       "\n",
       "   filter_name_And(NonStop,NoLCC)  filter_name_And(ShortLayover,NoLCC)  \\\n",
       "0                               0                                    0   \n",
       "2                               0                                    0   \n",
       "\n",
       "   filter_name_NoFilter  filter_name_NoLCC  filter_name_NonStop  \\\n",
       "0                     1                  0                    0   \n",
       "2                     1                  0                    0   \n",
       "\n",
       "   filter_name_ShortLayover  \n",
       "0                         0  \n",
       "2                         0  "
      ]
     },
     "execution_count": 413,
     "metadata": {},
     "output_type": "execute_result"
    }
   ],
   "source": [
    "trip_data_one_way[trip_data_one_way['trip_id'].isin(['ddc5e806-226f-335d-a9f9-e59c55550832','99341aa4-341a-372c-8d0d-78b7a64728c9'])]"
   ]
  },
  {
   "cell_type": "code",
   "execution_count": 339,
   "metadata": {},
   "outputs": [],
   "source": [
    "dist_df.reset_index(inplace=True)"
   ]
  },
  {
   "cell_type": "code",
   "execution_count": 332,
   "metadata": {},
   "outputs": [],
   "source": [
    "watch_sample_one_way = watch_sample[watch_sample['trip_type']=='one_way']"
   ]
  },
  {
   "cell_type": "code",
   "execution_count": 335,
   "metadata": {},
   "outputs": [
    {
     "data": {
      "text/plain": [
       "((9387, 40), 6062)"
      ]
     },
     "execution_count": 335,
     "metadata": {},
     "output_type": "execute_result"
    }
   ],
   "source": [
    "watch_sample_one_way.shape, len(watch_sample_one_way['user_id'].unique())"
   ]
  },
  {
   "cell_type": "code",
   "execution_count": 336,
   "metadata": {},
   "outputs": [
    {
     "data": {
      "text/html": [
       "<div>\n",
       "<style scoped>\n",
       "    .dataframe tbody tr th:only-of-type {\n",
       "        vertical-align: middle;\n",
       "    }\n",
       "\n",
       "    .dataframe tbody tr th {\n",
       "        vertical-align: top;\n",
       "    }\n",
       "\n",
       "    .dataframe thead th {\n",
       "        text-align: right;\n",
       "    }\n",
       "</style>\n",
       "<table border=\"1\" class=\"dataframe\">\n",
       "  <thead>\n",
       "    <tr style=\"text-align: right;\">\n",
       "      <th></th>\n",
       "      <th>user_id</th>\n",
       "      <th>trip_id</th>\n",
       "      <th>trip_type</th>\n",
       "      <th>origin</th>\n",
       "      <th>destination</th>\n",
       "      <th>origin_type</th>\n",
       "      <th>destination_type</th>\n",
       "      <th>departure_date</th>\n",
       "      <th>return_date</th>\n",
       "      <th>stay</th>\n",
       "      <th>weekend</th>\n",
       "      <th>filter_no_lcc</th>\n",
       "      <th>filter_non_stop</th>\n",
       "      <th>filter_short_layover</th>\n",
       "      <th>filter_name</th>\n",
       "      <th>first_searched_dt</th>\n",
       "      <th>watch_added_dt</th>\n",
       "      <th>status_latest</th>\n",
       "      <th>latest_status_change_dt</th>\n",
       "      <th>status_updates</th>\n",
       "      <th>total_notifs</th>\n",
       "      <th>total_buy_notifs</th>\n",
       "      <th>first_rec</th>\n",
       "      <th>first_price</th>\n",
       "      <th>first_buy_dt</th>\n",
       "      <th>first_buy_price</th>\n",
       "      <th>lowest_price</th>\n",
       "      <th>last_notif_dt</th>\n",
       "      <th>forecast_first_target_price</th>\n",
       "      <th>forecast_first_good_price</th>\n",
       "      <th>forecast_last_target_price</th>\n",
       "      <th>forecast_last_good_price</th>\n",
       "      <th>forecast_last_warning_date</th>\n",
       "      <th>forecast_last_danger_date</th>\n",
       "      <th>forecast_min_target_price</th>\n",
       "      <th>forecast_max_target_price</th>\n",
       "      <th>forecast_min_good_price</th>\n",
       "      <th>forecast_max_good_price</th>\n",
       "      <th>first_advance</th>\n",
       "      <th>watch_advance</th>\n",
       "    </tr>\n",
       "  </thead>\n",
       "  <tbody>\n",
       "    <tr>\n",
       "      <th>0</th>\n",
       "      <td>945e05e2b2510be2edb1149348fdb24852f2a6fe101e6c...</td>\n",
       "      <td>ddc5e806-226f-335d-a9f9-e59c55550832</td>\n",
       "      <td>one_way</td>\n",
       "      <td>airport/BCN</td>\n",
       "      <td>airport/EWR</td>\n",
       "      <td>airport</td>\n",
       "      <td>airport</td>\n",
       "      <td>2018-03-01</td>\n",
       "      <td>NaT</td>\n",
       "      <td>NaN</td>\n",
       "      <td>0</td>\n",
       "      <td>0</td>\n",
       "      <td>0</td>\n",
       "      <td>0</td>\n",
       "      <td>NoFilter</td>\n",
       "      <td>2018-02-26 01:22:51</td>\n",
       "      <td>2018-02-26 01:22:59</td>\n",
       "      <td>expired</td>\n",
       "      <td>2018-03-02 03:00:00</td>\n",
       "      <td>3</td>\n",
       "      <td>1.0</td>\n",
       "      <td>1.0</td>\n",
       "      <td>buy</td>\n",
       "      <td>464.0</td>\n",
       "      <td>2018-02-26 01:22:51</td>\n",
       "      <td>464.0</td>\n",
       "      <td>464.0</td>\n",
       "      <td>2018-02-28 10:58:16</td>\n",
       "      <td>406.0</td>\n",
       "      <td>248.0</td>\n",
       "      <td>491.0</td>\n",
       "      <td>245.0</td>\n",
       "      <td>2017-12-02</td>\n",
       "      <td>2018-01-18</td>\n",
       "      <td>406.0</td>\n",
       "      <td>491.0</td>\n",
       "      <td>245.0</td>\n",
       "      <td>248.0</td>\n",
       "      <td>3</td>\n",
       "      <td>3.0</td>\n",
       "    </tr>\n",
       "    <tr>\n",
       "      <th>7</th>\n",
       "      <td>117eb4bde001046b792801d47c793f816bfe16c780962f...</td>\n",
       "      <td>641f7cc0-a16e-34f5-8f4d-fe5c807dbdbe</td>\n",
       "      <td>one_way</td>\n",
       "      <td>airport/FLL</td>\n",
       "      <td>city/CHI</td>\n",
       "      <td>airport</td>\n",
       "      <td>city</td>\n",
       "      <td>2018-06-21</td>\n",
       "      <td>NaT</td>\n",
       "      <td>NaN</td>\n",
       "      <td>0</td>\n",
       "      <td>0</td>\n",
       "      <td>0</td>\n",
       "      <td>0</td>\n",
       "      <td>NoFilter</td>\n",
       "      <td>2018-05-22 18:59:33</td>\n",
       "      <td>NaT</td>\n",
       "      <td>shopped</td>\n",
       "      <td>2018-05-22 18:59:33</td>\n",
       "      <td>1</td>\n",
       "      <td>0.0</td>\n",
       "      <td>0.0</td>\n",
       "      <td>wait</td>\n",
       "      <td>97.0</td>\n",
       "      <td>NaT</td>\n",
       "      <td>NaN</td>\n",
       "      <td>97.0</td>\n",
       "      <td>NaT</td>\n",
       "      <td>82.0</td>\n",
       "      <td>62.0</td>\n",
       "      <td>82.0</td>\n",
       "      <td>62.0</td>\n",
       "      <td>2018-01-27</td>\n",
       "      <td>2018-05-26</td>\n",
       "      <td>82.0</td>\n",
       "      <td>82.0</td>\n",
       "      <td>62.0</td>\n",
       "      <td>62.0</td>\n",
       "      <td>30</td>\n",
       "      <td>NaN</td>\n",
       "    </tr>\n",
       "    <tr>\n",
       "      <th>9</th>\n",
       "      <td>7c40c35c4c0c34b7ef115e4299797406d5273a05ec51fc...</td>\n",
       "      <td>c71f79b7-04d9-33e7-90dd-b2e194bdb732</td>\n",
       "      <td>one_way</td>\n",
       "      <td>airport/CUN</td>\n",
       "      <td>airport/FLL</td>\n",
       "      <td>airport</td>\n",
       "      <td>airport</td>\n",
       "      <td>2018-12-30</td>\n",
       "      <td>NaT</td>\n",
       "      <td>NaN</td>\n",
       "      <td>0</td>\n",
       "      <td>0</td>\n",
       "      <td>1</td>\n",
       "      <td>0</td>\n",
       "      <td>NonStop</td>\n",
       "      <td>2018-09-02 23:49:30</td>\n",
       "      <td>NaT</td>\n",
       "      <td>shopped</td>\n",
       "      <td>2018-09-02 23:49:30</td>\n",
       "      <td>1</td>\n",
       "      <td>0.0</td>\n",
       "      <td>0.0</td>\n",
       "      <td>wait</td>\n",
       "      <td>215.0</td>\n",
       "      <td>NaT</td>\n",
       "      <td>NaN</td>\n",
       "      <td>215.0</td>\n",
       "      <td>NaT</td>\n",
       "      <td>139.0</td>\n",
       "      <td>112.0</td>\n",
       "      <td>139.0</td>\n",
       "      <td>112.0</td>\n",
       "      <td>NaT</td>\n",
       "      <td>2018-12-28</td>\n",
       "      <td>139.0</td>\n",
       "      <td>139.0</td>\n",
       "      <td>112.0</td>\n",
       "      <td>112.0</td>\n",
       "      <td>119</td>\n",
       "      <td>NaN</td>\n",
       "    </tr>\n",
       "    <tr>\n",
       "      <th>11</th>\n",
       "      <td>90fdf6e7fdadcb6b68dd1eb8d0669acdc2720cd8004d50...</td>\n",
       "      <td>63f9d402-4be9-38b3-927d-b8671337984f</td>\n",
       "      <td>one_way</td>\n",
       "      <td>city/QDF</td>\n",
       "      <td>airport/PVD</td>\n",
       "      <td>city</td>\n",
       "      <td>airport</td>\n",
       "      <td>2018-02-20</td>\n",
       "      <td>NaT</td>\n",
       "      <td>NaN</td>\n",
       "      <td>0</td>\n",
       "      <td>0</td>\n",
       "      <td>0</td>\n",
       "      <td>1</td>\n",
       "      <td>ShortLayover</td>\n",
       "      <td>2018-01-19 20:04:17</td>\n",
       "      <td>2018-01-19 20:04:18</td>\n",
       "      <td>expired</td>\n",
       "      <td>2018-02-21 04:45:08</td>\n",
       "      <td>3</td>\n",
       "      <td>5.0</td>\n",
       "      <td>5.0</td>\n",
       "      <td>buy</td>\n",
       "      <td>96.0</td>\n",
       "      <td>2018-01-19 20:04:17</td>\n",
       "      <td>96.0</td>\n",
       "      <td>96.0</td>\n",
       "      <td>2018-02-14 08:22:52</td>\n",
       "      <td>94.0</td>\n",
       "      <td>85.0</td>\n",
       "      <td>373.0</td>\n",
       "      <td>82.0</td>\n",
       "      <td>2018-01-10</td>\n",
       "      <td>2018-01-24</td>\n",
       "      <td>94.0</td>\n",
       "      <td>373.0</td>\n",
       "      <td>82.0</td>\n",
       "      <td>85.0</td>\n",
       "      <td>32</td>\n",
       "      <td>32.0</td>\n",
       "    </tr>\n",
       "    <tr>\n",
       "      <th>14</th>\n",
       "      <td>1ae7bdefdfebe453571fa5ad5f9916f84cf0082ca6cffa...</td>\n",
       "      <td>a77c3632-5ac4-365d-bfb3-ee0c67dbece3</td>\n",
       "      <td>one_way</td>\n",
       "      <td>airport/LIS</td>\n",
       "      <td>airport/MIA</td>\n",
       "      <td>airport</td>\n",
       "      <td>airport</td>\n",
       "      <td>2018-08-16</td>\n",
       "      <td>NaT</td>\n",
       "      <td>NaN</td>\n",
       "      <td>0</td>\n",
       "      <td>0</td>\n",
       "      <td>0</td>\n",
       "      <td>0</td>\n",
       "      <td>NoFilter</td>\n",
       "      <td>2018-08-01 04:29:20</td>\n",
       "      <td>NaT</td>\n",
       "      <td>shopped</td>\n",
       "      <td>2018-08-01 04:29:20</td>\n",
       "      <td>1</td>\n",
       "      <td>0.0</td>\n",
       "      <td>0.0</td>\n",
       "      <td>buy</td>\n",
       "      <td>843.0</td>\n",
       "      <td>2018-08-01 04:29:20</td>\n",
       "      <td>843.0</td>\n",
       "      <td>841.0</td>\n",
       "      <td>NaT</td>\n",
       "      <td>828.0</td>\n",
       "      <td>367.0</td>\n",
       "      <td>829.0</td>\n",
       "      <td>366.0</td>\n",
       "      <td>2018-03-02</td>\n",
       "      <td>2018-06-18</td>\n",
       "      <td>828.0</td>\n",
       "      <td>829.0</td>\n",
       "      <td>366.0</td>\n",
       "      <td>367.0</td>\n",
       "      <td>15</td>\n",
       "      <td>NaN</td>\n",
       "    </tr>\n",
       "  </tbody>\n",
       "</table>\n",
       "</div>"
      ],
      "text/plain": [
       "                                              user_id  \\\n",
       "0   945e05e2b2510be2edb1149348fdb24852f2a6fe101e6c...   \n",
       "7   117eb4bde001046b792801d47c793f816bfe16c780962f...   \n",
       "9   7c40c35c4c0c34b7ef115e4299797406d5273a05ec51fc...   \n",
       "11  90fdf6e7fdadcb6b68dd1eb8d0669acdc2720cd8004d50...   \n",
       "14  1ae7bdefdfebe453571fa5ad5f9916f84cf0082ca6cffa...   \n",
       "\n",
       "                                 trip_id trip_type       origin  destination  \\\n",
       "0   ddc5e806-226f-335d-a9f9-e59c55550832   one_way  airport/BCN  airport/EWR   \n",
       "7   641f7cc0-a16e-34f5-8f4d-fe5c807dbdbe   one_way  airport/FLL     city/CHI   \n",
       "9   c71f79b7-04d9-33e7-90dd-b2e194bdb732   one_way  airport/CUN  airport/FLL   \n",
       "11  63f9d402-4be9-38b3-927d-b8671337984f   one_way     city/QDF  airport/PVD   \n",
       "14  a77c3632-5ac4-365d-bfb3-ee0c67dbece3   one_way  airport/LIS  airport/MIA   \n",
       "\n",
       "   origin_type destination_type departure_date return_date  stay  weekend  \\\n",
       "0      airport          airport     2018-03-01         NaT   NaN        0   \n",
       "7      airport             city     2018-06-21         NaT   NaN        0   \n",
       "9      airport          airport     2018-12-30         NaT   NaN        0   \n",
       "11        city          airport     2018-02-20         NaT   NaN        0   \n",
       "14     airport          airport     2018-08-16         NaT   NaN        0   \n",
       "\n",
       "    filter_no_lcc  filter_non_stop  filter_short_layover   filter_name  \\\n",
       "0               0                0                     0      NoFilter   \n",
       "7               0                0                     0      NoFilter   \n",
       "9               0                1                     0       NonStop   \n",
       "11              0                0                     1  ShortLayover   \n",
       "14              0                0                     0      NoFilter   \n",
       "\n",
       "     first_searched_dt      watch_added_dt status_latest  \\\n",
       "0  2018-02-26 01:22:51 2018-02-26 01:22:59       expired   \n",
       "7  2018-05-22 18:59:33                 NaT       shopped   \n",
       "9  2018-09-02 23:49:30                 NaT       shopped   \n",
       "11 2018-01-19 20:04:17 2018-01-19 20:04:18       expired   \n",
       "14 2018-08-01 04:29:20                 NaT       shopped   \n",
       "\n",
       "   latest_status_change_dt  status_updates  total_notifs  total_buy_notifs  \\\n",
       "0      2018-03-02 03:00:00               3           1.0               1.0   \n",
       "7      2018-05-22 18:59:33               1           0.0               0.0   \n",
       "9      2018-09-02 23:49:30               1           0.0               0.0   \n",
       "11     2018-02-21 04:45:08               3           5.0               5.0   \n",
       "14     2018-08-01 04:29:20               1           0.0               0.0   \n",
       "\n",
       "   first_rec  first_price        first_buy_dt  first_buy_price  lowest_price  \\\n",
       "0        buy        464.0 2018-02-26 01:22:51            464.0         464.0   \n",
       "7       wait         97.0                 NaT              NaN          97.0   \n",
       "9       wait        215.0                 NaT              NaN         215.0   \n",
       "11       buy         96.0 2018-01-19 20:04:17             96.0          96.0   \n",
       "14       buy        843.0 2018-08-01 04:29:20            843.0         841.0   \n",
       "\n",
       "         last_notif_dt  forecast_first_target_price  \\\n",
       "0  2018-02-28 10:58:16                        406.0   \n",
       "7                  NaT                         82.0   \n",
       "9                  NaT                        139.0   \n",
       "11 2018-02-14 08:22:52                         94.0   \n",
       "14                 NaT                        828.0   \n",
       "\n",
       "    forecast_first_good_price  forecast_last_target_price  \\\n",
       "0                       248.0                       491.0   \n",
       "7                        62.0                        82.0   \n",
       "9                       112.0                       139.0   \n",
       "11                       85.0                       373.0   \n",
       "14                      367.0                       829.0   \n",
       "\n",
       "    forecast_last_good_price forecast_last_warning_date  \\\n",
       "0                      245.0                 2017-12-02   \n",
       "7                       62.0                 2018-01-27   \n",
       "9                      112.0                        NaT   \n",
       "11                      82.0                 2018-01-10   \n",
       "14                     366.0                 2018-03-02   \n",
       "\n",
       "   forecast_last_danger_date  forecast_min_target_price  \\\n",
       "0                 2018-01-18                      406.0   \n",
       "7                 2018-05-26                       82.0   \n",
       "9                 2018-12-28                      139.0   \n",
       "11                2018-01-24                       94.0   \n",
       "14                2018-06-18                      828.0   \n",
       "\n",
       "    forecast_max_target_price  forecast_min_good_price  \\\n",
       "0                       491.0                    245.0   \n",
       "7                        82.0                     62.0   \n",
       "9                       139.0                    112.0   \n",
       "11                      373.0                     82.0   \n",
       "14                      829.0                    366.0   \n",
       "\n",
       "    forecast_max_good_price  first_advance  watch_advance  \n",
       "0                     248.0              3            3.0  \n",
       "7                      62.0             30            NaN  \n",
       "9                     112.0            119            NaN  \n",
       "11                     85.0             32           32.0  \n",
       "14                    367.0             15            NaN  "
      ]
     },
     "execution_count": 336,
     "metadata": {},
     "output_type": "execute_result"
    }
   ],
   "source": [
    "watch_sample_one_way.head()"
   ]
  },
  {
   "cell_type": "code",
   "execution_count": 342,
   "metadata": {},
   "outputs": [],
   "source": [
    "one_way_recommendations = watch_sample_one_way.merge(dist_df[['trip_id','minimum_dis_trip']], on='trip_id')[['user_id','trip_id','minimum_dis_trip']]"
   ]
  },
  {
   "cell_type": "code",
   "execution_count": 344,
   "metadata": {},
   "outputs": [
    {
     "data": {
      "text/plain": [
       "((9387, 3), (9387, 40))"
      ]
     },
     "execution_count": 344,
     "metadata": {},
     "output_type": "execute_result"
    }
   ],
   "source": [
    "one_way_recommendations.shape, watch_sample_one_way.shape"
   ]
  },
  {
   "cell_type": "code",
   "execution_count": 348,
   "metadata": {},
   "outputs": [],
   "source": [
    "one_way_user_trips = one_way_recommendations.groupby('user_id')['trip_id'].apply(list)                                                        "
   ]
  },
  {
   "cell_type": "code",
   "execution_count": 365,
   "metadata": {},
   "outputs": [
    {
     "data": {
      "text/plain": [
       "['a151809e-45e4-3f0e-a280-36f685b1cdd3',\n",
       " '2fdbca5c-3f85-3e30-869a-0ad520a0a3f5']"
      ]
     },
     "execution_count": 365,
     "metadata": {},
     "output_type": "execute_result"
    }
   ],
   "source": [
    "one_way_user_trips.loc['00191968c472deb3a857df8b83a29953a48d029c6f64151f87a035fe58ae7161']"
   ]
  },
  {
   "cell_type": "code",
   "execution_count": 349,
   "metadata": {},
   "outputs": [],
   "source": [
    "one_way_user_recommed = one_way_recommendations.groupby('user_id')['minimum_dis_trip'].apply(list)   "
   ]
  },
  {
   "cell_type": "code",
   "execution_count": 373,
   "metadata": {},
   "outputs": [],
   "source": [
    "one_way_final = pd.DataFrame({'trips':one_way_user_trips, 'recommed':one_way_user_recommed})"
   ]
  },
  {
   "cell_type": "code",
   "execution_count": 392,
   "metadata": {},
   "outputs": [],
   "source": [
    "pd.set_option('display.max_columns', 50)\n",
    "one_way_final['trips'].head(1)"
   ]
  },
  {
   "cell_type": "code",
   "execution_count": 394,
   "metadata": {},
   "outputs": [
    {
     "data": {
      "text/plain": [
       "['a151809e-45e4-3f0e-a280-36f685b1cdd3',\n",
       " '2fdbca5c-3f85-3e30-869a-0ad520a0a3f5']"
      ]
     },
     "execution_count": 394,
     "metadata": {},
     "output_type": "execute_result"
    }
   ],
   "source": [
    "one_way_final['trips'][0]"
   ]
  },
  {
   "cell_type": "code",
   "execution_count": 405,
   "metadata": {},
   "outputs": [],
   "source": [
    "def filtered_reco(row):\n",
    "    ls_trip = (row['trips'])\n",
    "    ls_reco = (row['recommed'])\n",
    "    A =set(ls_reco)\n",
    "    B = set(ls_trip)\n",
    "    to_recommend =(A-B )\n",
    "    return to_recommend\n",
    "    "
   ]
  },
  {
   "cell_type": "code",
   "execution_count": 406,
   "metadata": {},
   "outputs": [],
   "source": [
    "one_way_final['final_recommend'] = one_way_final.apply(filtered_reco,axis=1)"
   ]
  },
  {
   "cell_type": "code",
   "execution_count": 409,
   "metadata": {},
   "outputs": [
    {
     "data": {
      "text/plain": [
       "6062"
      ]
     },
     "execution_count": 409,
     "metadata": {},
     "output_type": "execute_result"
    }
   ],
   "source": [
    "np.sum(one_way_final['recommed'] !=one_way_final['final_recommend'])"
   ]
  },
  {
   "cell_type": "code",
   "execution_count": 416,
   "metadata": {},
   "outputs": [
    {
     "data": {
      "text/plain": [
       "(['a151809e-45e4-3f0e-a280-36f685b1cdd3',\n",
       "  '2fdbca5c-3f85-3e30-869a-0ad520a0a3f5'],\n",
       " {'48a45b93-71d5-34a6-a8e8-fb22b519158d',\n",
       "  '8d4f33c7-fa46-36cc-a494-8b26ed4d4d44'})"
      ]
     },
     "execution_count": 416,
     "metadata": {},
     "output_type": "execute_result"
    }
   ],
   "source": [
    "one_way_final['trips'][0], one_way_final['final_recommend'][0]"
   ]
  },
  {
   "cell_type": "code",
   "execution_count": null,
   "metadata": {},
   "outputs": [],
   "source": [
    "['a151809e-45e4-3f0e-a280-36f685b1cdd3',\n",
    "  '2fdbca5c-3f85-3e30-869a-0ad520a0a3f5',\n",
    " '48a45b93-71d5-34a6-a8e8-fb22b519158d',\n",
    "  '8d4f33c7-fa46-36cc-a494-8b26ed4d4d44']"
   ]
  },
  {
   "cell_type": "code",
   "execution_count": 417,
   "metadata": {},
   "outputs": [
    {
     "data": {
      "text/html": [
       "<div>\n",
       "<style scoped>\n",
       "    .dataframe tbody tr th:only-of-type {\n",
       "        vertical-align: middle;\n",
       "    }\n",
       "\n",
       "    .dataframe tbody tr th {\n",
       "        vertical-align: top;\n",
       "    }\n",
       "\n",
       "    .dataframe thead th {\n",
       "        text-align: right;\n",
       "    }\n",
       "</style>\n",
       "<table border=\"1\" class=\"dataframe\">\n",
       "  <thead>\n",
       "    <tr style=\"text-align: right;\">\n",
       "      <th></th>\n",
       "      <th>trip_id</th>\n",
       "      <th>weekend</th>\n",
       "      <th>filter_no_lcc</th>\n",
       "      <th>filter_non_stop</th>\n",
       "      <th>filter_short_layover</th>\n",
       "      <th>latitude_origin</th>\n",
       "      <th>longitude_origin</th>\n",
       "      <th>latitude_destination</th>\n",
       "      <th>longitude_destination</th>\n",
       "      <th>departure_month</th>\n",
       "      <th>departure_year</th>\n",
       "      <th>origin_type_airport</th>\n",
       "      <th>origin_type_city</th>\n",
       "      <th>destination_type_airport</th>\n",
       "      <th>destination_type_city</th>\n",
       "      <th>filter_name_And(NonStop,NoLCC)</th>\n",
       "      <th>filter_name_And(ShortLayover,NoLCC)</th>\n",
       "      <th>filter_name_NoFilter</th>\n",
       "      <th>filter_name_NoLCC</th>\n",
       "      <th>filter_name_NonStop</th>\n",
       "      <th>filter_name_ShortLayover</th>\n",
       "    </tr>\n",
       "  </thead>\n",
       "  <tbody>\n",
       "    <tr>\n",
       "      <th>3533</th>\n",
       "      <td>8d4f33c7-fa46-36cc-a494-8b26ed4d4d44</td>\n",
       "      <td>0</td>\n",
       "      <td>0</td>\n",
       "      <td>0</td>\n",
       "      <td>0</td>\n",
       "      <td>41.896819</td>\n",
       "      <td>-88.083160</td>\n",
       "      <td>40.703167</td>\n",
       "      <td>-73.940066</td>\n",
       "      <td>6</td>\n",
       "      <td>2018</td>\n",
       "      <td>0</td>\n",
       "      <td>1</td>\n",
       "      <td>0</td>\n",
       "      <td>1</td>\n",
       "      <td>0</td>\n",
       "      <td>0</td>\n",
       "      <td>1</td>\n",
       "      <td>0</td>\n",
       "      <td>0</td>\n",
       "      <td>0</td>\n",
       "    </tr>\n",
       "    <tr>\n",
       "      <th>15397</th>\n",
       "      <td>48a45b93-71d5-34a6-a8e8-fb22b519158d</td>\n",
       "      <td>0</td>\n",
       "      <td>0</td>\n",
       "      <td>0</td>\n",
       "      <td>0</td>\n",
       "      <td>40.703167</td>\n",
       "      <td>-73.940066</td>\n",
       "      <td>18.429701</td>\n",
       "      <td>-69.668900</td>\n",
       "      <td>9</td>\n",
       "      <td>2018</td>\n",
       "      <td>0</td>\n",
       "      <td>1</td>\n",
       "      <td>1</td>\n",
       "      <td>0</td>\n",
       "      <td>0</td>\n",
       "      <td>0</td>\n",
       "      <td>1</td>\n",
       "      <td>0</td>\n",
       "      <td>0</td>\n",
       "      <td>0</td>\n",
       "    </tr>\n",
       "    <tr>\n",
       "      <th>28731</th>\n",
       "      <td>a151809e-45e4-3f0e-a280-36f685b1cdd3</td>\n",
       "      <td>0</td>\n",
       "      <td>0</td>\n",
       "      <td>1</td>\n",
       "      <td>0</td>\n",
       "      <td>40.703167</td>\n",
       "      <td>-73.940066</td>\n",
       "      <td>18.567400</td>\n",
       "      <td>-68.363403</td>\n",
       "      <td>9</td>\n",
       "      <td>2018</td>\n",
       "      <td>0</td>\n",
       "      <td>1</td>\n",
       "      <td>1</td>\n",
       "      <td>0</td>\n",
       "      <td>0</td>\n",
       "      <td>0</td>\n",
       "      <td>0</td>\n",
       "      <td>0</td>\n",
       "      <td>1</td>\n",
       "      <td>0</td>\n",
       "    </tr>\n",
       "    <tr>\n",
       "      <th>44375</th>\n",
       "      <td>2fdbca5c-3f85-3e30-869a-0ad520a0a3f5</td>\n",
       "      <td>0</td>\n",
       "      <td>0</td>\n",
       "      <td>0</td>\n",
       "      <td>0</td>\n",
       "      <td>41.896819</td>\n",
       "      <td>-88.083160</td>\n",
       "      <td>41.504101</td>\n",
       "      <td>-74.104797</td>\n",
       "      <td>7</td>\n",
       "      <td>2018</td>\n",
       "      <td>0</td>\n",
       "      <td>1</td>\n",
       "      <td>1</td>\n",
       "      <td>0</td>\n",
       "      <td>0</td>\n",
       "      <td>0</td>\n",
       "      <td>1</td>\n",
       "      <td>0</td>\n",
       "      <td>0</td>\n",
       "      <td>0</td>\n",
       "    </tr>\n",
       "  </tbody>\n",
       "</table>\n",
       "</div>"
      ],
      "text/plain": [
       "                                    trip_id  weekend  filter_no_lcc  \\\n",
       "3533   8d4f33c7-fa46-36cc-a494-8b26ed4d4d44        0              0   \n",
       "15397  48a45b93-71d5-34a6-a8e8-fb22b519158d        0              0   \n",
       "28731  a151809e-45e4-3f0e-a280-36f685b1cdd3        0              0   \n",
       "44375  2fdbca5c-3f85-3e30-869a-0ad520a0a3f5        0              0   \n",
       "\n",
       "       filter_non_stop  filter_short_layover  latitude_origin  \\\n",
       "3533                 0                     0        41.896819   \n",
       "15397                0                     0        40.703167   \n",
       "28731                1                     0        40.703167   \n",
       "44375                0                     0        41.896819   \n",
       "\n",
       "       longitude_origin  latitude_destination  longitude_destination  \\\n",
       "3533         -88.083160             40.703167             -73.940066   \n",
       "15397        -73.940066             18.429701             -69.668900   \n",
       "28731        -73.940066             18.567400             -68.363403   \n",
       "44375        -88.083160             41.504101             -74.104797   \n",
       "\n",
       "       departure_month  departure_year  origin_type_airport  origin_type_city  \\\n",
       "3533                 6            2018                    0                 1   \n",
       "15397                9            2018                    0                 1   \n",
       "28731                9            2018                    0                 1   \n",
       "44375                7            2018                    0                 1   \n",
       "\n",
       "       destination_type_airport  destination_type_city  \\\n",
       "3533                          0                      1   \n",
       "15397                         1                      0   \n",
       "28731                         1                      0   \n",
       "44375                         1                      0   \n",
       "\n",
       "       filter_name_And(NonStop,NoLCC)  filter_name_And(ShortLayover,NoLCC)  \\\n",
       "3533                                0                                    0   \n",
       "15397                               0                                    0   \n",
       "28731                               0                                    0   \n",
       "44375                               0                                    0   \n",
       "\n",
       "       filter_name_NoFilter  filter_name_NoLCC  filter_name_NonStop  \\\n",
       "3533                      1                  0                    0   \n",
       "15397                     1                  0                    0   \n",
       "28731                     0                  0                    1   \n",
       "44375                     1                  0                    0   \n",
       "\n",
       "       filter_name_ShortLayover  \n",
       "3533                          0  \n",
       "15397                         0  \n",
       "28731                         0  \n",
       "44375                         0  "
      ]
     },
     "execution_count": 417,
     "metadata": {},
     "output_type": "execute_result"
    }
   ],
   "source": [
    "trip_data_one_way[trip_data_one_way['trip_id'].isin(['a151809e-45e4-3f0e-a280-36f685b1cdd3',\n",
    "  '2fdbca5c-3f85-3e30-869a-0ad520a0a3f5',\n",
    " '48a45b93-71d5-34a6-a8e8-fb22b519158d',\n",
    "  '8d4f33c7-fa46-36cc-a494-8b26ed4d4d44'])]"
   ]
  },
  {
   "cell_type": "code",
   "execution_count": null,
   "metadata": {},
   "outputs": [],
   "source": [
    "# Will recommend trips which are close to origin, destination, and close to departure and arrival date. "
   ]
  },
  {
   "cell_type": "code",
   "execution_count": 410,
   "metadata": {},
   "outputs": [
    {
     "data": {
      "text/plain": [
       "(6062, 3)"
      ]
     },
     "execution_count": 410,
     "metadata": {},
     "output_type": "execute_result"
    }
   ],
   "source": [
    "one_way_final.shape"
   ]
  },
  {
   "cell_type": "code",
   "execution_count": null,
   "metadata": {},
   "outputs": [],
   "source": []
  },
  {
   "cell_type": "code",
   "execution_count": 326,
   "metadata": {},
   "outputs": [
    {
     "name": "stderr",
     "output_type": "stream",
     "text": [
      "C:\\Users\\ankur\\AppData\\Local\\Continuum\\anaconda3\\lib\\site-packages\\ipykernel_launcher.py:1: SettingWithCopyWarning: \n",
      "A value is trying to be set on a copy of a slice from a DataFrame.\n",
      "Try using .loc[row_indexer,col_indexer] = value instead\n",
      "\n",
      "See the caveats in the documentation: http://pandas.pydata.org/pandas-docs/stable/indexing.html#indexing-view-versus-copy\n",
      "  \"\"\"Entry point for launching an IPython kernel.\n",
      "C:\\Users\\ankur\\AppData\\Local\\Continuum\\anaconda3\\lib\\site-packages\\ipykernel_launcher.py:2: SettingWithCopyWarning: \n",
      "A value is trying to be set on a copy of a slice from a DataFrame.\n",
      "Try using .loc[row_indexer,col_indexer] = value instead\n",
      "\n",
      "See the caveats in the documentation: http://pandas.pydata.org/pandas-docs/stable/indexing.html#indexing-view-versus-copy\n",
      "  \n"
     ]
    }
   ],
   "source": [
    "trip_data_two_way['return_month'] = pd.DatetimeIndex(trip_data_two_way['return_date']).month\n",
    "trip_data_two_way['return_year'] = pd.DatetimeIndex(trip_data_two_way['return_date']).year"
   ]
  },
  {
   "cell_type": "code",
   "execution_count": 327,
   "metadata": {},
   "outputs": [
    {
     "name": "stderr",
     "output_type": "stream",
     "text": [
      "C:\\Users\\ankur\\AppData\\Local\\Continuum\\anaconda3\\lib\\site-packages\\pandas\\core\\frame.py:3694: SettingWithCopyWarning: \n",
      "A value is trying to be set on a copy of a slice from a DataFrame\n",
      "\n",
      "See the caveats in the documentation: http://pandas.pydata.org/pandas-docs/stable/indexing.html#indexing-view-versus-copy\n",
      "  errors=errors)\n"
     ]
    }
   ],
   "source": [
    "trip_data_two_way.drop(['return_date','departure_date'], axis=1, inplace=True)"
   ]
  },
  {
   "cell_type": "code",
   "execution_count": 328,
   "metadata": {},
   "outputs": [],
   "source": [
    "two_way_trips = list(trip_data_two_way['trip_id'])"
   ]
  },
  {
   "cell_type": "code",
   "execution_count": 329,
   "metadata": {},
   "outputs": [
    {
     "name": "stderr",
     "output_type": "stream",
     "text": [
      "C:\\Users\\ankur\\AppData\\Local\\Continuum\\anaconda3\\lib\\site-packages\\pandas\\core\\frame.py:3694: SettingWithCopyWarning: \n",
      "A value is trying to be set on a copy of a slice from a DataFrame\n",
      "\n",
      "See the caveats in the documentation: http://pandas.pydata.org/pandas-docs/stable/indexing.html#indexing-view-versus-copy\n",
      "  errors=errors)\n"
     ]
    }
   ],
   "source": [
    "trip_data_two_way.drop(['trip_id'], axis=1, inplace=True)"
   ]
  },
  {
   "cell_type": "code",
   "execution_count": 330,
   "metadata": {},
   "outputs": [],
   "source": [
    "matrix_two_way = trip_data_two_way.values"
   ]
  },
  {
   "cell_type": "code",
   "execution_count": 331,
   "metadata": {},
   "outputs": [
    {
     "ename": "MemoryError",
     "evalue": "",
     "output_type": "error",
     "traceback": [
      "\u001b[1;31m---------------------------------------------------------------------------\u001b[0m",
      "\u001b[1;31mMemoryError\u001b[0m                               Traceback (most recent call last)",
      "\u001b[1;32m<ipython-input-331-5d8a77b3be26>\u001b[0m in \u001b[0;36m<module>\u001b[1;34m()\u001b[0m\n\u001b[1;32m----> 1\u001b[1;33m \u001b[0mdist_twoway\u001b[0m \u001b[1;33m=\u001b[0m \u001b[0meuclidean_distances\u001b[0m\u001b[1;33m(\u001b[0m\u001b[0mmatrix_two_way\u001b[0m\u001b[1;33m,\u001b[0m \u001b[0mmatrix_two_way\u001b[0m\u001b[1;33m)\u001b[0m\u001b[1;33m\u001b[0m\u001b[0m\n\u001b[0m",
      "\u001b[1;32m~\\AppData\\Local\\Continuum\\anaconda3\\lib\\site-packages\\sklearn\\metrics\\pairwise.py\u001b[0m in \u001b[0;36meuclidean_distances\u001b[1;34m(X, Y, Y_norm_squared, squared, X_norm_squared)\u001b[0m\n\u001b[0;32m    245\u001b[0m         \u001b[0mYY\u001b[0m \u001b[1;33m=\u001b[0m \u001b[0mrow_norms\u001b[0m\u001b[1;33m(\u001b[0m\u001b[0mY\u001b[0m\u001b[1;33m,\u001b[0m \u001b[0msquared\u001b[0m\u001b[1;33m=\u001b[0m\u001b[1;32mTrue\u001b[0m\u001b[1;33m)\u001b[0m\u001b[1;33m[\u001b[0m\u001b[0mnp\u001b[0m\u001b[1;33m.\u001b[0m\u001b[0mnewaxis\u001b[0m\u001b[1;33m,\u001b[0m \u001b[1;33m:\u001b[0m\u001b[1;33m]\u001b[0m\u001b[1;33m\u001b[0m\u001b[0m\n\u001b[0;32m    246\u001b[0m \u001b[1;33m\u001b[0m\u001b[0m\n\u001b[1;32m--> 247\u001b[1;33m     \u001b[0mdistances\u001b[0m \u001b[1;33m=\u001b[0m \u001b[0msafe_sparse_dot\u001b[0m\u001b[1;33m(\u001b[0m\u001b[0mX\u001b[0m\u001b[1;33m,\u001b[0m \u001b[0mY\u001b[0m\u001b[1;33m.\u001b[0m\u001b[0mT\u001b[0m\u001b[1;33m,\u001b[0m \u001b[0mdense_output\u001b[0m\u001b[1;33m=\u001b[0m\u001b[1;32mTrue\u001b[0m\u001b[1;33m)\u001b[0m\u001b[1;33m\u001b[0m\u001b[0m\n\u001b[0m\u001b[0;32m    248\u001b[0m     \u001b[0mdistances\u001b[0m \u001b[1;33m*=\u001b[0m \u001b[1;33m-\u001b[0m\u001b[1;36m2\u001b[0m\u001b[1;33m\u001b[0m\u001b[0m\n\u001b[0;32m    249\u001b[0m     \u001b[0mdistances\u001b[0m \u001b[1;33m+=\u001b[0m \u001b[0mXX\u001b[0m\u001b[1;33m\u001b[0m\u001b[0m\n",
      "\u001b[1;32m~\\AppData\\Local\\Continuum\\anaconda3\\lib\\site-packages\\sklearn\\utils\\extmath.py\u001b[0m in \u001b[0;36msafe_sparse_dot\u001b[1;34m(a, b, dense_output)\u001b[0m\n\u001b[0;32m    171\u001b[0m         \u001b[1;32mreturn\u001b[0m \u001b[0mret\u001b[0m\u001b[1;33m\u001b[0m\u001b[0m\n\u001b[0;32m    172\u001b[0m     \u001b[1;32melse\u001b[0m\u001b[1;33m:\u001b[0m\u001b[1;33m\u001b[0m\u001b[0m\n\u001b[1;32m--> 173\u001b[1;33m         \u001b[1;32mreturn\u001b[0m \u001b[0mnp\u001b[0m\u001b[1;33m.\u001b[0m\u001b[0mdot\u001b[0m\u001b[1;33m(\u001b[0m\u001b[0ma\u001b[0m\u001b[1;33m,\u001b[0m \u001b[0mb\u001b[0m\u001b[1;33m)\u001b[0m\u001b[1;33m\u001b[0m\u001b[0m\n\u001b[0m\u001b[0;32m    174\u001b[0m \u001b[1;33m\u001b[0m\u001b[0m\n\u001b[0;32m    175\u001b[0m \u001b[1;33m\u001b[0m\u001b[0m\n",
      "\u001b[1;31mMemoryError\u001b[0m: "
     ]
    }
   ],
   "source": [
    "dist_twoway = euclidean_distances(matrix_two_way, matrix_two_way)"
   ]
  },
  {
   "cell_type": "code",
   "execution_count": null,
   "metadata": {},
   "outputs": [],
   "source": []
  }
 ],
 "metadata": {
  "kernelspec": {
   "display_name": "Python 3",
   "language": "python",
   "name": "python3"
  }
 },
 "nbformat": 4,
 "nbformat_minor": 2
}
